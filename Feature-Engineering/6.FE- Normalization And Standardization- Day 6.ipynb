{
 "cells": [
  {
   "cell_type": "markdown",
   "metadata": {},
   "source": [
    "#### Probability Ratio Encoding\n",
    "1. Probability of Survived based on Cabin---> Categorical Feature\n",
    "2. Probability of Not Survived=1-pr(Survived)\n",
    "3. pr(Survived)/pr(Not Survived)\n",
    "4. Dictonary to map cabin with probability\n",
    "5. replace with the categorical feature\n",
    "6. Here this is the way how we r converting Categorical Feature to Numerical."
   ]
  },
  {
   "cell_type": "code",
   "execution_count": 1,
   "metadata": {},
   "outputs": [],
   "source": [
    "import pandas as pd"
   ]
  },
  {
   "cell_type": "code",
   "execution_count": 2,
   "metadata": {},
   "outputs": [
    {
     "data": {
      "text/html": [
       "<div>\n",
       "<style scoped>\n",
       "    .dataframe tbody tr th:only-of-type {\n",
       "        vertical-align: middle;\n",
       "    }\n",
       "\n",
       "    .dataframe tbody tr th {\n",
       "        vertical-align: top;\n",
       "    }\n",
       "\n",
       "    .dataframe thead th {\n",
       "        text-align: right;\n",
       "    }\n",
       "</style>\n",
       "<table border=\"1\" class=\"dataframe\">\n",
       "  <thead>\n",
       "    <tr style=\"text-align: right;\">\n",
       "      <th></th>\n",
       "      <th>Survived</th>\n",
       "      <th>Cabin</th>\n",
       "    </tr>\n",
       "  </thead>\n",
       "  <tbody>\n",
       "    <tr>\n",
       "      <th>0</th>\n",
       "      <td>0</td>\n",
       "      <td>NaN</td>\n",
       "    </tr>\n",
       "    <tr>\n",
       "      <th>1</th>\n",
       "      <td>1</td>\n",
       "      <td>C85</td>\n",
       "    </tr>\n",
       "    <tr>\n",
       "      <th>2</th>\n",
       "      <td>1</td>\n",
       "      <td>NaN</td>\n",
       "    </tr>\n",
       "    <tr>\n",
       "      <th>3</th>\n",
       "      <td>1</td>\n",
       "      <td>C123</td>\n",
       "    </tr>\n",
       "    <tr>\n",
       "      <th>4</th>\n",
       "      <td>0</td>\n",
       "      <td>NaN</td>\n",
       "    </tr>\n",
       "  </tbody>\n",
       "</table>\n",
       "</div>"
      ],
      "text/plain": [
       "   Survived Cabin\n",
       "0         0   NaN\n",
       "1         1   C85\n",
       "2         1   NaN\n",
       "3         1  C123\n",
       "4         0   NaN"
      ]
     },
     "execution_count": 2,
     "metadata": {},
     "output_type": "execute_result"
    }
   ],
   "source": [
    "df=pd.read_csv('titanic.csv',usecols=['Cabin','Survived'])\n",
    "df.head()"
   ]
  },
  {
   "cell_type": "code",
   "execution_count": 3,
   "metadata": {},
   "outputs": [
    {
     "data": {
      "text/html": [
       "<div>\n",
       "<style scoped>\n",
       "    .dataframe tbody tr th:only-of-type {\n",
       "        vertical-align: middle;\n",
       "    }\n",
       "\n",
       "    .dataframe tbody tr th {\n",
       "        vertical-align: top;\n",
       "    }\n",
       "\n",
       "    .dataframe thead th {\n",
       "        text-align: right;\n",
       "    }\n",
       "</style>\n",
       "<table border=\"1\" class=\"dataframe\">\n",
       "  <thead>\n",
       "    <tr style=\"text-align: right;\">\n",
       "      <th></th>\n",
       "      <th>Survived</th>\n",
       "      <th>Cabin</th>\n",
       "    </tr>\n",
       "  </thead>\n",
       "  <tbody>\n",
       "    <tr>\n",
       "      <th>0</th>\n",
       "      <td>0</td>\n",
       "      <td>Missing</td>\n",
       "    </tr>\n",
       "    <tr>\n",
       "      <th>1</th>\n",
       "      <td>1</td>\n",
       "      <td>C85</td>\n",
       "    </tr>\n",
       "    <tr>\n",
       "      <th>2</th>\n",
       "      <td>1</td>\n",
       "      <td>Missing</td>\n",
       "    </tr>\n",
       "    <tr>\n",
       "      <th>3</th>\n",
       "      <td>1</td>\n",
       "      <td>C123</td>\n",
       "    </tr>\n",
       "    <tr>\n",
       "      <th>4</th>\n",
       "      <td>0</td>\n",
       "      <td>Missing</td>\n",
       "    </tr>\n",
       "  </tbody>\n",
       "</table>\n",
       "</div>"
      ],
      "text/plain": [
       "   Survived    Cabin\n",
       "0         0  Missing\n",
       "1         1      C85\n",
       "2         1  Missing\n",
       "3         1     C123\n",
       "4         0  Missing"
      ]
     },
     "execution_count": 3,
     "metadata": {},
     "output_type": "execute_result"
    }
   ],
   "source": [
    "### Replacing\n",
    "df['Cabin'].fillna('Missing',inplace=True)\n",
    "df.head()"
   ]
  },
  {
   "cell_type": "code",
   "execution_count": 4,
   "metadata": {},
   "outputs": [
    {
     "data": {
      "text/plain": [
       "array(['Missing', 'C85', 'C123', 'E46', 'G6', 'C103', 'D56', 'A6',\n",
       "       'C23 C25 C27', 'B78', 'D33', 'B30', 'C52', 'B28', 'C83', 'F33',\n",
       "       'F G73', 'E31', 'A5', 'D10 D12', 'D26', 'C110', 'B58 B60', 'E101',\n",
       "       'F E69', 'D47', 'B86', 'F2', 'C2', 'E33', 'B19', 'A7', 'C49', 'F4',\n",
       "       'A32', 'B4', 'B80', 'A31', 'D36', 'D15', 'C93', 'C78', 'D35',\n",
       "       'C87', 'B77', 'E67', 'B94', 'C125', 'C99', 'C118', 'D7', 'A19',\n",
       "       'B49', 'D', 'C22 C26', 'C106', 'C65', 'E36', 'C54',\n",
       "       'B57 B59 B63 B66', 'C7', 'E34', 'C32', 'B18', 'C124', 'C91', 'E40',\n",
       "       'T', 'C128', 'D37', 'B35', 'E50', 'C82', 'B96 B98', 'E10', 'E44',\n",
       "       'A34', 'C104', 'C111', 'C92', 'E38', 'D21', 'E12', 'E63', 'A14',\n",
       "       'B37', 'C30', 'D20', 'B79', 'E25', 'D46', 'B73', 'C95', 'B38',\n",
       "       'B39', 'B22', 'C86', 'C70', 'A16', 'C101', 'C68', 'A10', 'E68',\n",
       "       'B41', 'A20', 'D19', 'D50', 'D9', 'A23', 'B50', 'A26', 'D48',\n",
       "       'E58', 'C126', 'B71', 'B51 B53 B55', 'D49', 'B5', 'B20', 'F G63',\n",
       "       'C62 C64', 'E24', 'C90', 'C45', 'E8', 'B101', 'D45', 'C46', 'D30',\n",
       "       'E121', 'D11', 'E77', 'F38', 'B3', 'D6', 'B82 B84', 'D17', 'A36',\n",
       "       'B102', 'B69', 'E49', 'C47', 'D28', 'E17', 'A24', 'C50', 'B42',\n",
       "       'C148'], dtype=object)"
      ]
     },
     "execution_count": 4,
     "metadata": {},
     "output_type": "execute_result"
    }
   ],
   "source": [
    "df['Cabin'].unique()"
   ]
  },
  {
   "cell_type": "code",
   "execution_count": 5,
   "metadata": {},
   "outputs": [
    {
     "data": {
      "text/plain": [
       "0      M\n",
       "1      C\n",
       "2      M\n",
       "3      C\n",
       "4      M\n",
       "      ..\n",
       "886    M\n",
       "887    B\n",
       "888    M\n",
       "889    C\n",
       "890    M\n",
       "Name: Cabin, Length: 891, dtype: object"
      ]
     },
     "execution_count": 5,
     "metadata": {},
     "output_type": "execute_result"
    }
   ],
   "source": [
    "df['Cabin'].astype(str).str[0]"
   ]
  },
  {
   "cell_type": "code",
   "execution_count": 6,
   "metadata": {},
   "outputs": [
    {
     "data": {
      "text/html": [
       "<div>\n",
       "<style scoped>\n",
       "    .dataframe tbody tr th:only-of-type {\n",
       "        vertical-align: middle;\n",
       "    }\n",
       "\n",
       "    .dataframe tbody tr th {\n",
       "        vertical-align: top;\n",
       "    }\n",
       "\n",
       "    .dataframe thead th {\n",
       "        text-align: right;\n",
       "    }\n",
       "</style>\n",
       "<table border=\"1\" class=\"dataframe\">\n",
       "  <thead>\n",
       "    <tr style=\"text-align: right;\">\n",
       "      <th></th>\n",
       "      <th>Survived</th>\n",
       "      <th>Cabin</th>\n",
       "    </tr>\n",
       "  </thead>\n",
       "  <tbody>\n",
       "    <tr>\n",
       "      <th>0</th>\n",
       "      <td>0</td>\n",
       "      <td>M</td>\n",
       "    </tr>\n",
       "    <tr>\n",
       "      <th>1</th>\n",
       "      <td>1</td>\n",
       "      <td>C</td>\n",
       "    </tr>\n",
       "    <tr>\n",
       "      <th>2</th>\n",
       "      <td>1</td>\n",
       "      <td>M</td>\n",
       "    </tr>\n",
       "    <tr>\n",
       "      <th>3</th>\n",
       "      <td>1</td>\n",
       "      <td>C</td>\n",
       "    </tr>\n",
       "    <tr>\n",
       "      <th>4</th>\n",
       "      <td>0</td>\n",
       "      <td>M</td>\n",
       "    </tr>\n",
       "    <tr>\n",
       "      <th>...</th>\n",
       "      <td>...</td>\n",
       "      <td>...</td>\n",
       "    </tr>\n",
       "    <tr>\n",
       "      <th>886</th>\n",
       "      <td>0</td>\n",
       "      <td>M</td>\n",
       "    </tr>\n",
       "    <tr>\n",
       "      <th>887</th>\n",
       "      <td>1</td>\n",
       "      <td>B</td>\n",
       "    </tr>\n",
       "    <tr>\n",
       "      <th>888</th>\n",
       "      <td>0</td>\n",
       "      <td>M</td>\n",
       "    </tr>\n",
       "    <tr>\n",
       "      <th>889</th>\n",
       "      <td>1</td>\n",
       "      <td>C</td>\n",
       "    </tr>\n",
       "    <tr>\n",
       "      <th>890</th>\n",
       "      <td>0</td>\n",
       "      <td>M</td>\n",
       "    </tr>\n",
       "  </tbody>\n",
       "</table>\n",
       "<p>891 rows × 2 columns</p>\n",
       "</div>"
      ],
      "text/plain": [
       "     Survived Cabin\n",
       "0           0     M\n",
       "1           1     C\n",
       "2           1     M\n",
       "3           1     C\n",
       "4           0     M\n",
       "..        ...   ...\n",
       "886         0     M\n",
       "887         1     B\n",
       "888         0     M\n",
       "889         1     C\n",
       "890         0     M\n",
       "\n",
       "[891 rows x 2 columns]"
      ]
     },
     "execution_count": 6,
     "metadata": {},
     "output_type": "execute_result"
    }
   ],
   "source": [
    "df['Cabin']=df['Cabin'].astype(str).str[0]\n",
    "df"
   ]
  },
  {
   "cell_type": "code",
   "execution_count": 7,
   "metadata": {},
   "outputs": [
    {
     "data": {
      "text/plain": [
       "array(['M', 'C', 'E', 'G', 'D', 'A', 'B', 'F', 'T'], dtype=object)"
      ]
     },
     "execution_count": 7,
     "metadata": {},
     "output_type": "execute_result"
    }
   ],
   "source": [
    "df.Cabin.unique()"
   ]
  },
  {
   "cell_type": "code",
   "execution_count": 8,
   "metadata": {},
   "outputs": [
    {
     "data": {
      "text/plain": [
       "Cabin\n",
       "A    0.466667\n",
       "B    0.744681\n",
       "C    0.593220\n",
       "D    0.757576\n",
       "E    0.750000\n",
       "F    0.615385\n",
       "G    0.500000\n",
       "M    0.299854\n",
       "T    0.000000\n",
       "Name: Survived, dtype: float64"
      ]
     },
     "execution_count": 8,
     "metadata": {},
     "output_type": "execute_result"
    }
   ],
   "source": [
    "df.groupby(['Cabin'])['Survived'].mean()"
   ]
  },
  {
   "cell_type": "code",
   "execution_count": 9,
   "metadata": {},
   "outputs": [],
   "source": [
    "prob_df=df.groupby(['Cabin'])['Survived'].mean()"
   ]
  },
  {
   "cell_type": "code",
   "execution_count": 10,
   "metadata": {},
   "outputs": [
    {
     "data": {
      "text/html": [
       "<div>\n",
       "<style scoped>\n",
       "    .dataframe tbody tr th:only-of-type {\n",
       "        vertical-align: middle;\n",
       "    }\n",
       "\n",
       "    .dataframe tbody tr th {\n",
       "        vertical-align: top;\n",
       "    }\n",
       "\n",
       "    .dataframe thead th {\n",
       "        text-align: right;\n",
       "    }\n",
       "</style>\n",
       "<table border=\"1\" class=\"dataframe\">\n",
       "  <thead>\n",
       "    <tr style=\"text-align: right;\">\n",
       "      <th></th>\n",
       "      <th>Survived</th>\n",
       "    </tr>\n",
       "    <tr>\n",
       "      <th>Cabin</th>\n",
       "      <th></th>\n",
       "    </tr>\n",
       "  </thead>\n",
       "  <tbody>\n",
       "    <tr>\n",
       "      <th>A</th>\n",
       "      <td>0.466667</td>\n",
       "    </tr>\n",
       "    <tr>\n",
       "      <th>B</th>\n",
       "      <td>0.744681</td>\n",
       "    </tr>\n",
       "    <tr>\n",
       "      <th>C</th>\n",
       "      <td>0.593220</td>\n",
       "    </tr>\n",
       "    <tr>\n",
       "      <th>D</th>\n",
       "      <td>0.757576</td>\n",
       "    </tr>\n",
       "    <tr>\n",
       "      <th>E</th>\n",
       "      <td>0.750000</td>\n",
       "    </tr>\n",
       "    <tr>\n",
       "      <th>F</th>\n",
       "      <td>0.615385</td>\n",
       "    </tr>\n",
       "    <tr>\n",
       "      <th>G</th>\n",
       "      <td>0.500000</td>\n",
       "    </tr>\n",
       "    <tr>\n",
       "      <th>M</th>\n",
       "      <td>0.299854</td>\n",
       "    </tr>\n",
       "    <tr>\n",
       "      <th>T</th>\n",
       "      <td>0.000000</td>\n",
       "    </tr>\n",
       "  </tbody>\n",
       "</table>\n",
       "</div>"
      ],
      "text/plain": [
       "       Survived\n",
       "Cabin          \n",
       "A      0.466667\n",
       "B      0.744681\n",
       "C      0.593220\n",
       "D      0.757576\n",
       "E      0.750000\n",
       "F      0.615385\n",
       "G      0.500000\n",
       "M      0.299854\n",
       "T      0.000000"
      ]
     },
     "execution_count": 10,
     "metadata": {},
     "output_type": "execute_result"
    }
   ],
   "source": [
    "prob_df=pd.DataFrame(prob_df)\n",
    "prob_df"
   ]
  },
  {
   "cell_type": "code",
   "execution_count": 11,
   "metadata": {},
   "outputs": [],
   "source": [
    "prob_df['Died']=1-prob_df['Survived'] #In probability p+q=1. So p=1-q. Here is survived and q is not survived."
   ]
  },
  {
   "cell_type": "code",
   "execution_count": 12,
   "metadata": {},
   "outputs": [
    {
     "data": {
      "text/html": [
       "<div>\n",
       "<style scoped>\n",
       "    .dataframe tbody tr th:only-of-type {\n",
       "        vertical-align: middle;\n",
       "    }\n",
       "\n",
       "    .dataframe tbody tr th {\n",
       "        vertical-align: top;\n",
       "    }\n",
       "\n",
       "    .dataframe thead th {\n",
       "        text-align: right;\n",
       "    }\n",
       "</style>\n",
       "<table border=\"1\" class=\"dataframe\">\n",
       "  <thead>\n",
       "    <tr style=\"text-align: right;\">\n",
       "      <th></th>\n",
       "      <th>Survived</th>\n",
       "      <th>Died</th>\n",
       "    </tr>\n",
       "    <tr>\n",
       "      <th>Cabin</th>\n",
       "      <th></th>\n",
       "      <th></th>\n",
       "    </tr>\n",
       "  </thead>\n",
       "  <tbody>\n",
       "    <tr>\n",
       "      <th>A</th>\n",
       "      <td>0.466667</td>\n",
       "      <td>0.533333</td>\n",
       "    </tr>\n",
       "    <tr>\n",
       "      <th>B</th>\n",
       "      <td>0.744681</td>\n",
       "      <td>0.255319</td>\n",
       "    </tr>\n",
       "    <tr>\n",
       "      <th>C</th>\n",
       "      <td>0.593220</td>\n",
       "      <td>0.406780</td>\n",
       "    </tr>\n",
       "    <tr>\n",
       "      <th>D</th>\n",
       "      <td>0.757576</td>\n",
       "      <td>0.242424</td>\n",
       "    </tr>\n",
       "    <tr>\n",
       "      <th>E</th>\n",
       "      <td>0.750000</td>\n",
       "      <td>0.250000</td>\n",
       "    </tr>\n",
       "    <tr>\n",
       "      <th>F</th>\n",
       "      <td>0.615385</td>\n",
       "      <td>0.384615</td>\n",
       "    </tr>\n",
       "    <tr>\n",
       "      <th>G</th>\n",
       "      <td>0.500000</td>\n",
       "      <td>0.500000</td>\n",
       "    </tr>\n",
       "    <tr>\n",
       "      <th>M</th>\n",
       "      <td>0.299854</td>\n",
       "      <td>0.700146</td>\n",
       "    </tr>\n",
       "    <tr>\n",
       "      <th>T</th>\n",
       "      <td>0.000000</td>\n",
       "      <td>1.000000</td>\n",
       "    </tr>\n",
       "  </tbody>\n",
       "</table>\n",
       "</div>"
      ],
      "text/plain": [
       "       Survived      Died\n",
       "Cabin                    \n",
       "A      0.466667  0.533333\n",
       "B      0.744681  0.255319\n",
       "C      0.593220  0.406780\n",
       "D      0.757576  0.242424\n",
       "E      0.750000  0.250000\n",
       "F      0.615385  0.384615\n",
       "G      0.500000  0.500000\n",
       "M      0.299854  0.700146\n",
       "T      0.000000  1.000000"
      ]
     },
     "execution_count": 12,
     "metadata": {},
     "output_type": "execute_result"
    }
   ],
   "source": [
    "prob_df"
   ]
  },
  {
   "cell_type": "code",
   "execution_count": 13,
   "metadata": {},
   "outputs": [
    {
     "data": {
      "text/html": [
       "<div>\n",
       "<style scoped>\n",
       "    .dataframe tbody tr th:only-of-type {\n",
       "        vertical-align: middle;\n",
       "    }\n",
       "\n",
       "    .dataframe tbody tr th {\n",
       "        vertical-align: top;\n",
       "    }\n",
       "\n",
       "    .dataframe thead th {\n",
       "        text-align: right;\n",
       "    }\n",
       "</style>\n",
       "<table border=\"1\" class=\"dataframe\">\n",
       "  <thead>\n",
       "    <tr style=\"text-align: right;\">\n",
       "      <th></th>\n",
       "      <th>Survived</th>\n",
       "      <th>Died</th>\n",
       "    </tr>\n",
       "    <tr>\n",
       "      <th>Cabin</th>\n",
       "      <th></th>\n",
       "      <th></th>\n",
       "    </tr>\n",
       "  </thead>\n",
       "  <tbody>\n",
       "    <tr>\n",
       "      <th>A</th>\n",
       "      <td>0.466667</td>\n",
       "      <td>0.533333</td>\n",
       "    </tr>\n",
       "    <tr>\n",
       "      <th>B</th>\n",
       "      <td>0.744681</td>\n",
       "      <td>0.255319</td>\n",
       "    </tr>\n",
       "    <tr>\n",
       "      <th>C</th>\n",
       "      <td>0.593220</td>\n",
       "      <td>0.406780</td>\n",
       "    </tr>\n",
       "    <tr>\n",
       "      <th>D</th>\n",
       "      <td>0.757576</td>\n",
       "      <td>0.242424</td>\n",
       "    </tr>\n",
       "    <tr>\n",
       "      <th>E</th>\n",
       "      <td>0.750000</td>\n",
       "      <td>0.250000</td>\n",
       "    </tr>\n",
       "  </tbody>\n",
       "</table>\n",
       "</div>"
      ],
      "text/plain": [
       "       Survived      Died\n",
       "Cabin                    \n",
       "A      0.466667  0.533333\n",
       "B      0.744681  0.255319\n",
       "C      0.593220  0.406780\n",
       "D      0.757576  0.242424\n",
       "E      0.750000  0.250000"
      ]
     },
     "execution_count": 13,
     "metadata": {},
     "output_type": "execute_result"
    }
   ],
   "source": [
    "prob_df.head() #Remember tht sum of this things will always be 1."
   ]
  },
  {
   "cell_type": "code",
   "execution_count": 14,
   "metadata": {},
   "outputs": [
    {
     "data": {
      "text/html": [
       "<div>\n",
       "<style scoped>\n",
       "    .dataframe tbody tr th:only-of-type {\n",
       "        vertical-align: middle;\n",
       "    }\n",
       "\n",
       "    .dataframe tbody tr th {\n",
       "        vertical-align: top;\n",
       "    }\n",
       "\n",
       "    .dataframe thead th {\n",
       "        text-align: right;\n",
       "    }\n",
       "</style>\n",
       "<table border=\"1\" class=\"dataframe\">\n",
       "  <thead>\n",
       "    <tr style=\"text-align: right;\">\n",
       "      <th></th>\n",
       "      <th>Survived</th>\n",
       "      <th>Died</th>\n",
       "      <th>Probability_ratio</th>\n",
       "    </tr>\n",
       "    <tr>\n",
       "      <th>Cabin</th>\n",
       "      <th></th>\n",
       "      <th></th>\n",
       "      <th></th>\n",
       "    </tr>\n",
       "  </thead>\n",
       "  <tbody>\n",
       "    <tr>\n",
       "      <th>A</th>\n",
       "      <td>0.466667</td>\n",
       "      <td>0.533333</td>\n",
       "      <td>0.875000</td>\n",
       "    </tr>\n",
       "    <tr>\n",
       "      <th>B</th>\n",
       "      <td>0.744681</td>\n",
       "      <td>0.255319</td>\n",
       "      <td>2.916667</td>\n",
       "    </tr>\n",
       "    <tr>\n",
       "      <th>C</th>\n",
       "      <td>0.593220</td>\n",
       "      <td>0.406780</td>\n",
       "      <td>1.458333</td>\n",
       "    </tr>\n",
       "    <tr>\n",
       "      <th>D</th>\n",
       "      <td>0.757576</td>\n",
       "      <td>0.242424</td>\n",
       "      <td>3.125000</td>\n",
       "    </tr>\n",
       "    <tr>\n",
       "      <th>E</th>\n",
       "      <td>0.750000</td>\n",
       "      <td>0.250000</td>\n",
       "      <td>3.000000</td>\n",
       "    </tr>\n",
       "  </tbody>\n",
       "</table>\n",
       "</div>"
      ],
      "text/plain": [
       "       Survived      Died  Probability_ratio\n",
       "Cabin                                       \n",
       "A      0.466667  0.533333           0.875000\n",
       "B      0.744681  0.255319           2.916667\n",
       "C      0.593220  0.406780           1.458333\n",
       "D      0.757576  0.242424           3.125000\n",
       "E      0.750000  0.250000           3.000000"
      ]
     },
     "execution_count": 14,
     "metadata": {},
     "output_type": "execute_result"
    }
   ],
   "source": [
    "#In order to find Probability_ratio\n",
    "prob_df['Probability_ratio']=prob_df['Survived']/prob_df['Died'] #I will be able to get Probabilty ratio encoding.\n",
    "prob_df.head()"
   ]
  },
  {
   "cell_type": "code",
   "execution_count": 15,
   "metadata": {},
   "outputs": [
    {
     "data": {
      "text/plain": [
       "{'A': 0.875,\n",
       " 'B': 2.916666666666666,\n",
       " 'C': 1.4583333333333333,\n",
       " 'D': 3.125,\n",
       " 'E': 3.0,\n",
       " 'F': 1.6000000000000003,\n",
       " 'G': 1.0,\n",
       " 'M': 0.42827442827442824,\n",
       " 'T': 0.0}"
      ]
     },
     "execution_count": 15,
     "metadata": {},
     "output_type": "execute_result"
    }
   ],
   "source": [
    "prob_df['Probability_ratio'].to_dict()"
   ]
  },
  {
   "cell_type": "code",
   "execution_count": 16,
   "metadata": {},
   "outputs": [],
   "source": [
    "probability_encoded=prob_df['Probability_ratio'].to_dict()"
   ]
  },
  {
   "cell_type": "code",
   "execution_count": 17,
   "metadata": {},
   "outputs": [
    {
     "data": {
      "text/html": [
       "<div>\n",
       "<style scoped>\n",
       "    .dataframe tbody tr th:only-of-type {\n",
       "        vertical-align: middle;\n",
       "    }\n",
       "\n",
       "    .dataframe tbody tr th {\n",
       "        vertical-align: top;\n",
       "    }\n",
       "\n",
       "    .dataframe thead th {\n",
       "        text-align: right;\n",
       "    }\n",
       "</style>\n",
       "<table border=\"1\" class=\"dataframe\">\n",
       "  <thead>\n",
       "    <tr style=\"text-align: right;\">\n",
       "      <th></th>\n",
       "      <th>Survived</th>\n",
       "      <th>Cabin</th>\n",
       "      <th>Cabin_encoded</th>\n",
       "    </tr>\n",
       "  </thead>\n",
       "  <tbody>\n",
       "    <tr>\n",
       "      <th>0</th>\n",
       "      <td>0</td>\n",
       "      <td>M</td>\n",
       "      <td>0.428274</td>\n",
       "    </tr>\n",
       "    <tr>\n",
       "      <th>1</th>\n",
       "      <td>1</td>\n",
       "      <td>C</td>\n",
       "      <td>1.458333</td>\n",
       "    </tr>\n",
       "    <tr>\n",
       "      <th>2</th>\n",
       "      <td>1</td>\n",
       "      <td>M</td>\n",
       "      <td>0.428274</td>\n",
       "    </tr>\n",
       "    <tr>\n",
       "      <th>3</th>\n",
       "      <td>1</td>\n",
       "      <td>C</td>\n",
       "      <td>1.458333</td>\n",
       "    </tr>\n",
       "    <tr>\n",
       "      <th>4</th>\n",
       "      <td>0</td>\n",
       "      <td>M</td>\n",
       "      <td>0.428274</td>\n",
       "    </tr>\n",
       "  </tbody>\n",
       "</table>\n",
       "</div>"
      ],
      "text/plain": [
       "   Survived Cabin  Cabin_encoded\n",
       "0         0     M       0.428274\n",
       "1         1     C       1.458333\n",
       "2         1     M       0.428274\n",
       "3         1     C       1.458333\n",
       "4         0     M       0.428274"
      ]
     },
     "execution_count": 17,
     "metadata": {},
     "output_type": "execute_result"
    }
   ],
   "source": [
    "df['Cabin_encoded']=df['Cabin'].map(probability_encoded)\n",
    "df.head()"
   ]
  },
  {
   "cell_type": "code",
   "execution_count": 18,
   "metadata": {},
   "outputs": [
    {
     "data": {
      "text/html": [
       "<div>\n",
       "<style scoped>\n",
       "    .dataframe tbody tr th:only-of-type {\n",
       "        vertical-align: middle;\n",
       "    }\n",
       "\n",
       "    .dataframe tbody tr th {\n",
       "        vertical-align: top;\n",
       "    }\n",
       "\n",
       "    .dataframe thead th {\n",
       "        text-align: right;\n",
       "    }\n",
       "</style>\n",
       "<table border=\"1\" class=\"dataframe\">\n",
       "  <thead>\n",
       "    <tr style=\"text-align: right;\">\n",
       "      <th></th>\n",
       "      <th>Survived</th>\n",
       "      <th>Cabin</th>\n",
       "      <th>Cabin_encoded</th>\n",
       "    </tr>\n",
       "  </thead>\n",
       "  <tbody>\n",
       "    <tr>\n",
       "      <th>0</th>\n",
       "      <td>0</td>\n",
       "      <td>M</td>\n",
       "      <td>0.428274</td>\n",
       "    </tr>\n",
       "    <tr>\n",
       "      <th>1</th>\n",
       "      <td>1</td>\n",
       "      <td>C</td>\n",
       "      <td>1.458333</td>\n",
       "    </tr>\n",
       "    <tr>\n",
       "      <th>2</th>\n",
       "      <td>1</td>\n",
       "      <td>M</td>\n",
       "      <td>0.428274</td>\n",
       "    </tr>\n",
       "    <tr>\n",
       "      <th>3</th>\n",
       "      <td>1</td>\n",
       "      <td>C</td>\n",
       "      <td>1.458333</td>\n",
       "    </tr>\n",
       "    <tr>\n",
       "      <th>4</th>\n",
       "      <td>0</td>\n",
       "      <td>M</td>\n",
       "      <td>0.428274</td>\n",
       "    </tr>\n",
       "    <tr>\n",
       "      <th>5</th>\n",
       "      <td>0</td>\n",
       "      <td>M</td>\n",
       "      <td>0.428274</td>\n",
       "    </tr>\n",
       "    <tr>\n",
       "      <th>6</th>\n",
       "      <td>0</td>\n",
       "      <td>E</td>\n",
       "      <td>3.000000</td>\n",
       "    </tr>\n",
       "    <tr>\n",
       "      <th>7</th>\n",
       "      <td>0</td>\n",
       "      <td>M</td>\n",
       "      <td>0.428274</td>\n",
       "    </tr>\n",
       "    <tr>\n",
       "      <th>8</th>\n",
       "      <td>1</td>\n",
       "      <td>M</td>\n",
       "      <td>0.428274</td>\n",
       "    </tr>\n",
       "    <tr>\n",
       "      <th>9</th>\n",
       "      <td>1</td>\n",
       "      <td>M</td>\n",
       "      <td>0.428274</td>\n",
       "    </tr>\n",
       "    <tr>\n",
       "      <th>10</th>\n",
       "      <td>1</td>\n",
       "      <td>G</td>\n",
       "      <td>1.000000</td>\n",
       "    </tr>\n",
       "    <tr>\n",
       "      <th>11</th>\n",
       "      <td>1</td>\n",
       "      <td>C</td>\n",
       "      <td>1.458333</td>\n",
       "    </tr>\n",
       "    <tr>\n",
       "      <th>12</th>\n",
       "      <td>0</td>\n",
       "      <td>M</td>\n",
       "      <td>0.428274</td>\n",
       "    </tr>\n",
       "    <tr>\n",
       "      <th>13</th>\n",
       "      <td>0</td>\n",
       "      <td>M</td>\n",
       "      <td>0.428274</td>\n",
       "    </tr>\n",
       "    <tr>\n",
       "      <th>14</th>\n",
       "      <td>0</td>\n",
       "      <td>M</td>\n",
       "      <td>0.428274</td>\n",
       "    </tr>\n",
       "    <tr>\n",
       "      <th>15</th>\n",
       "      <td>1</td>\n",
       "      <td>M</td>\n",
       "      <td>0.428274</td>\n",
       "    </tr>\n",
       "    <tr>\n",
       "      <th>16</th>\n",
       "      <td>0</td>\n",
       "      <td>M</td>\n",
       "      <td>0.428274</td>\n",
       "    </tr>\n",
       "    <tr>\n",
       "      <th>17</th>\n",
       "      <td>1</td>\n",
       "      <td>M</td>\n",
       "      <td>0.428274</td>\n",
       "    </tr>\n",
       "    <tr>\n",
       "      <th>18</th>\n",
       "      <td>0</td>\n",
       "      <td>M</td>\n",
       "      <td>0.428274</td>\n",
       "    </tr>\n",
       "    <tr>\n",
       "      <th>19</th>\n",
       "      <td>1</td>\n",
       "      <td>M</td>\n",
       "      <td>0.428274</td>\n",
       "    </tr>\n",
       "  </tbody>\n",
       "</table>\n",
       "</div>"
      ],
      "text/plain": [
       "    Survived Cabin  Cabin_encoded\n",
       "0          0     M       0.428274\n",
       "1          1     C       1.458333\n",
       "2          1     M       0.428274\n",
       "3          1     C       1.458333\n",
       "4          0     M       0.428274\n",
       "5          0     M       0.428274\n",
       "6          0     E       3.000000\n",
       "7          0     M       0.428274\n",
       "8          1     M       0.428274\n",
       "9          1     M       0.428274\n",
       "10         1     G       1.000000\n",
       "11         1     C       1.458333\n",
       "12         0     M       0.428274\n",
       "13         0     M       0.428274\n",
       "14         0     M       0.428274\n",
       "15         1     M       0.428274\n",
       "16         0     M       0.428274\n",
       "17         1     M       0.428274\n",
       "18         0     M       0.428274\n",
       "19         1     M       0.428274"
      ]
     },
     "execution_count": 18,
     "metadata": {},
     "output_type": "execute_result"
    }
   ],
   "source": [
    "df.head(20)"
   ]
  },
  {
   "cell_type": "raw",
   "metadata": {},
   "source": [
    "##### Transformation of Features\n",
    "\n",
    "Why Transformation of Features Are Required?\n",
    "\n",
    "1. Linear Regression---Gradient Descent ----Global Minima\n",
    "2. Algorithms like KNN,K Means,Hierarichal Clustering--- Eucledian Distance\n",
    "\n",
    "Every Point has some vectors and Directiom\n",
    "\n",
    "Deep Learning Techniques(Standardization, Scaling)\n",
    "1.ANN--->GLobal Minima, Gradient\n",
    "2.CNN\n",
    "3.RNN\n",
    "\n",
    "0-255 pixels"
   ]
  },
  {
   "cell_type": "markdown",
   "metadata": {},
   "source": [
    "#### Types Of Transformation\n",
    "1. Normalization And Standardization\n",
    "2. Scaling to Minimum And Maximum values\n",
    "3. Scaling To Median And Quantiles\n",
    "4. Guassian Transformation\n",
    "5. Logarithmic Transformation\n",
    "6. Reciprocal Trnasformation\n",
    "7. Square Root Transformation\n",
    "8. Exponential Trnasformation\n",
    "9. Box Cox Transformation"
   ]
  },
  {
   "cell_type": "markdown",
   "metadata": {},
   "source": [
    "## Standardization"
   ]
  },
  {
   "cell_type": "raw",
   "metadata": {},
   "source": [
    "## Standardization\n",
    "1.We try to bring all the variables or features to a similar scale. standarisation means centering the variable at zero.\n",
    "z=(x-x_mean)/std(We can also say it is computing the Z-Score).\n",
    "2.Zero is considered as ur mean and we will try to transform all the variables considering the mean value is 0"
   ]
  },
  {
   "cell_type": "raw",
   "metadata": {},
   "source": [
    "If u scale ur data then the accuracy and performance increases."
   ]
  },
  {
   "cell_type": "code",
   "execution_count": 19,
   "metadata": {},
   "outputs": [
    {
     "data": {
      "text/html": [
       "<div>\n",
       "<style scoped>\n",
       "    .dataframe tbody tr th:only-of-type {\n",
       "        vertical-align: middle;\n",
       "    }\n",
       "\n",
       "    .dataframe tbody tr th {\n",
       "        vertical-align: top;\n",
       "    }\n",
       "\n",
       "    .dataframe thead th {\n",
       "        text-align: right;\n",
       "    }\n",
       "</style>\n",
       "<table border=\"1\" class=\"dataframe\">\n",
       "  <thead>\n",
       "    <tr style=\"text-align: right;\">\n",
       "      <th></th>\n",
       "      <th>Survived</th>\n",
       "      <th>Pclass</th>\n",
       "      <th>Age</th>\n",
       "      <th>Fare</th>\n",
       "    </tr>\n",
       "  </thead>\n",
       "  <tbody>\n",
       "    <tr>\n",
       "      <th>0</th>\n",
       "      <td>0</td>\n",
       "      <td>3</td>\n",
       "      <td>22.0</td>\n",
       "      <td>7.2500</td>\n",
       "    </tr>\n",
       "    <tr>\n",
       "      <th>1</th>\n",
       "      <td>1</td>\n",
       "      <td>1</td>\n",
       "      <td>38.0</td>\n",
       "      <td>71.2833</td>\n",
       "    </tr>\n",
       "    <tr>\n",
       "      <th>2</th>\n",
       "      <td>1</td>\n",
       "      <td>3</td>\n",
       "      <td>26.0</td>\n",
       "      <td>7.9250</td>\n",
       "    </tr>\n",
       "    <tr>\n",
       "      <th>3</th>\n",
       "      <td>1</td>\n",
       "      <td>1</td>\n",
       "      <td>35.0</td>\n",
       "      <td>53.1000</td>\n",
       "    </tr>\n",
       "    <tr>\n",
       "      <th>4</th>\n",
       "      <td>0</td>\n",
       "      <td>3</td>\n",
       "      <td>35.0</td>\n",
       "      <td>8.0500</td>\n",
       "    </tr>\n",
       "  </tbody>\n",
       "</table>\n",
       "</div>"
      ],
      "text/plain": [
       "   Survived  Pclass   Age     Fare\n",
       "0         0       3  22.0   7.2500\n",
       "1         1       1  38.0  71.2833\n",
       "2         1       3  26.0   7.9250\n",
       "3         1       1  35.0  53.1000\n",
       "4         0       3  35.0   8.0500"
      ]
     },
     "execution_count": 19,
     "metadata": {},
     "output_type": "execute_result"
    }
   ],
   "source": [
    "import pandas as pd\n",
    "df=pd.read_csv('titanic.csv', usecols=['Pclass','Age','Fare','Survived'])\n",
    "df.head()"
   ]
  },
  {
   "cell_type": "code",
   "execution_count": 20,
   "metadata": {},
   "outputs": [
    {
     "data": {
      "text/plain": [
       "177"
      ]
     },
     "execution_count": 20,
     "metadata": {},
     "output_type": "execute_result"
    }
   ],
   "source": [
    "df['Age'].isnull().sum()"
   ]
  },
  {
   "cell_type": "code",
   "execution_count": 21,
   "metadata": {},
   "outputs": [
    {
     "data": {
      "text/plain": [
       "28.0"
      ]
     },
     "execution_count": 21,
     "metadata": {},
     "output_type": "execute_result"
    }
   ],
   "source": [
    "df.Age.median()"
   ]
  },
  {
   "cell_type": "code",
   "execution_count": 22,
   "metadata": {},
   "outputs": [],
   "source": [
    "df['Age'].fillna(df.Age.median(),inplace=True)"
   ]
  },
  {
   "cell_type": "code",
   "execution_count": 23,
   "metadata": {},
   "outputs": [
    {
     "data": {
      "text/plain": [
       "Survived    0\n",
       "Pclass      0\n",
       "Age         0\n",
       "Fare        0\n",
       "dtype: int64"
      ]
     },
     "execution_count": 23,
     "metadata": {},
     "output_type": "execute_result"
    }
   ],
   "source": [
    "df.isnull().sum()"
   ]
  },
  {
   "cell_type": "raw",
   "metadata": {},
   "source": [
    "#Now we need to know how we perform standardization(It is very imp technique).This time we actually do with scalar library."
   ]
  },
  {
   "cell_type": "raw",
   "metadata": {},
   "source": [
    "The line you provided, from sklearn.preprocessing import StandardScaler, imports the StandardScaler class from the sklearn.preprocessing module in Python. This class is used for standardizing features in a dataset, which is a common preprocessing step in machine learning.\n",
    "\n",
    "Here's a breakdown of what StandardScaler does:\n",
    "\n",
    "Purpose:\n",
    "\n",
    "Standardizes features by removing the mean and scaling them to unit variance. This essentially centers the data around zero and makes the features have a standard deviation of 1.\n",
    "Benefits:\n",
    "\n",
    "Improves the performance of many machine learning algorithms, especially those sensitive to feature scales.\n",
    "Makes features comparable by putting them on the same scale.\n",
    "Can help with algorithms that assume a Gaussian distribution for features (although not strictly required).\n",
    "Steps involved:\n",
    "\n",
    "Fit:\n",
    "Calculates the mean and standard deviation for each feature separately using the training data.\n",
    "Stores these values internally.\n",
    "Transform:\n",
    "Subtracts the mean from each feature in the data (both training and testing data).\n",
    "Divides each feature by its standard deviation (ensuring it's not zero).\n",
    "Example:\n",
    "\n",
    "Python\n",
    "from sklearn.preprocessing import StandardScaler\n",
    "\n",
    "# Sample data\n",
    "data = [[1, 2], [3, 4], [5, 6]]\n",
    "\n",
    "# Create a StandardScaler object\n",
    "scaler = StandardScaler()\n",
    "\n",
    "# Fit the scaler to the data (calculate mean and standard deviation)\n",
    "scaler.fit(data)\n",
    "\n",
    "# Transform the data (center and scale)\n",
    "scaled_data = scaler.transform(data)\n",
    "\n",
    "# Print the original and scaled data\n",
    "print(\"Original data:\", data)\n",
    "print(\"Scaled data:\", scaled_data)\n",
    "Use code with caution.\n",
    "Things to remember:\n",
    "\n",
    "StandardScaler is generally used for numerical data. For categorical data, other preprocessing techniques like one-hot encoding might be needed.\n",
    "It's important to fit the scaler on the training data before transforming the testing data. This ensures consistent scaling across both sets.\n",
    "While StandardScaler is a popular choice, other scaling methods like MinMaxScaler exist for different scenarios."
   ]
  },
  {
   "cell_type": "code",
   "execution_count": 25,
   "metadata": {},
   "outputs": [
    {
     "name": "stdout",
     "output_type": "stream",
     "text": [
      "StandardScaler()\n",
      "3\n",
      "Original data: [[1, 2], [3, 4], [5, 6]]\n",
      "Scaled data: [[-1.22474487 -1.22474487]\n",
      " [ 0.          0.        ]\n",
      " [ 1.22474487  1.22474487]]\n"
     ]
    }
   ],
   "source": [
    "#EXAMPLE\n",
    "from sklearn.preprocessing import StandardScaler\n",
    "import statistics\n",
    "data = [[1, 2], [3, 4], [5, 6]]\n",
    "dataa=[1,2,3,4,5]\n",
    "# Create a StandardScaler object\n",
    "scaler = StandardScaler()\n",
    "\n",
    "# Fit the scaler to the data (calculate mean and standard deviation)\n",
    "s=scaler.fit(data)\n",
    "print(s)\n",
    "\n",
    "mean = statistics.mean(dataa)\n",
    "print(mean)\n",
    "\n",
    "# Transform the data (center and scale)\n",
    "scaled_data = scaler.transform(data)\n",
    "\n",
    "# Print the original and scaled data\n",
    "print(\"Original data:\", data)\n",
    "print(\"Scaled data:\", scaled_data)"
   ]
  },
  {
   "cell_type": "raw",
   "metadata": {},
   "source": [
    "The code scaler.fit(data) performs the fitting step of the StandardScaler object from scikit-learn. Here's a detailed explanation of what it does:\n",
    "\n",
    "Purpose:\n",
    "\n",
    "Analyzes the provided data (data) to calculate the mean and standard deviation for each feature individually.\n",
    "These calculated values represent the center and spread of the data for each feature.\n",
    "Stores the calculated mean and standard deviation internally within the scaler object. This information is crucial for the later transformation step.\n",
    "Essentially, the fit method learns the statistical properties of the data, preparing the scaler to transform new data based on these learned properties.\n",
    "\n",
    "Points to remember:\n",
    "\n",
    "fit is typically called only once on the training data.\n",
    "The calculated statistics (mean and standard deviation) are specific to the training data used during the fitting process.\n",
    "Once the scaler is fitted, you can use the transform method to apply the learned scaling to new data (including the test data).\n",
    "Analogy:\n",
    "\n",
    "Imagine you have a ruler and want to measure the heights of several people. The fit step would be like marking the average height (mean) on the ruler. The transform step would then involve using the marked ruler to measure each person's height relative to the average height."
   ]
  },
  {
   "cell_type": "raw",
   "metadata": {},
   "source": [
    "The code scaler.fit(data) performs the fitting step of the StandardScaler object from scikit-learn. Here's a detailed explanation of what it does:\n",
    "\n",
    "Purpose:\n",
    "\n",
    "Analyzes the provided data (data) to calculate the mean and standard deviation for each feature individually.\n",
    "These calculated values represent the center and spread of the data for each feature.\n",
    "Stores the calculated mean and standard deviation internally within the scaler object. This information is crucial for the later transformation step.\n",
    "Essentially, the fit method learns the statistical properties of the data, preparing the scaler to transform new data based on these learned properties.\n",
    "\n",
    "Points to remember:\n",
    "\n",
    "fit is typically called only once on the training data.\n",
    "The calculated statistics (mean and standard deviation) are specific to the training data used during the fitting process.\n",
    "Once the scaler is fitted, you can use the transform method to apply the learned scaling to new data (including the test data).\n",
    "Analogy:\n",
    "\n",
    "Imagine you have a ruler and want to measure the heights of several people. The fit step would be like marking the average height (mean) on the ruler. The transform step would then involve using the marked ruler to measure each person's height relative to the average height."
   ]
  },
  {
   "cell_type": "raw",
   "metadata": {},
   "source": [
    "Generally speaking, yes, the scaler.fit(data) will calculate the mean and standard deviation of your data correctly. Here's why, along with some important considerations:\n",
    "\n",
    "Why it usually works:\n",
    "\n",
    "Standard Implementation: The StandardScaler in scikit-learn is a well-tested and reliable implementation of feature standardization. The calculation of mean and standard deviation is based on standard statistical formulas.\n",
    "Numerical Data: It assumes your data contains numerical features. If that's correct, the calculations should be accurate.\n",
    "Potential Issues:\n",
    "\n",
    "Non-numeric Data: If your data contains non-numeric values (e.g., strings, mixed types), scaler.fit(data) will likely raise an error. StandardScaler is designed specifically for numerical features.\n",
    "Outliers: Extreme outliers in your data can skew the mean and standard deviation calculated. This could impact the scaling process. Techniques for outlier detection or robust scaling might be necessary in such cases.\n",
    "Small Datasets: With very small datasets, the estimated mean and standard deviation might not perfectly represent the true population distribution.\n",
    "How to be sure:\n",
    "\n",
    "Error checking: Pay attention to potential errors thrown by scaler.fit(). These errors often indicate problems with your data's format.\n",
    "Inspect the results: If possible, check the calculated mean (scaler.mean_) and standard deviation (scaler.scale_) after fitting. See if they make sense in the context of your data.\n",
    "Data visualization: Techniques like histograms or box plots can help you visualize any strange distributions within the data before you apply scaling."
   ]
  },
  {
   "cell_type": "raw",
   "metadata": {},
   "source": [
    "Here's a detailed explanation of how scaler.fit(data) calculates the mean and standard deviation for the dataset [[1, 2], [3, 4], [5, 6]]:\n",
    "\n",
    "1. Data Reshaping:\n",
    "\n",
    "While scaler.fit(data) can accept multidimensional data, it internally reshapes it into a two-dimensional array where each row represents a sample and each column represents a feature. In this case, the reshaped array becomes:\n",
    "[[1, 2],\n",
    " [3, 4],\n",
    " [5, 6]]\n",
    "2. Mean Calculation (per Feature):\n",
    "\n",
    "The mean is calculated for each feature (column) separately. Here's the process for the first feature:\n",
    "Sum: Add up the values in the first column: 1 + 3 + 5 = 9.\n",
    "Divide by number of elements: Divide the sum by the number of elements in the column (number of samples): 9 / 3 = 3.\n",
    "This process is repeated for the second feature, resulting in a mean of (2 + 4 + 6) / 3 = 4.\n",
    "3. Standard Deviation Calculation (per Feature):\n",
    "\n",
    "The standard deviation is also calculated for each feature (column) separately. Here's the process for the first feature:\n",
    "Calculate squared deviations from the mean: For each element in the column, subtract the mean (3) and square the difference:\n",
    "(1 - 3)^2 = 4\n",
    "(3 - 3)^2 = 0\n",
    "(5 - 3)^2 = 4\n",
    "Sum the squared deviations: 4 + 0 + 4 = 8.\n",
    "Bessel's correction (bias correction): In most cases, scaler.fit uses Bessel's correction for a more accurate estimate of the population standard deviation, especially for smaller datasets. This involves dividing the sum of squared deviations by n - 1 (number of samples minus 1): 8 / (3 - 1) = 4.\n",
    "Take the square root: sqrt(4) = 2.\n",
    "This process is repeated for the second feature, resulting in a standard deviation of sqrt(((2 - 4)^2 + (4 - 4)^2 + (6 - 4)^2) / (3 - 1)) = 2.\n",
    "Therefore, using scaler.fit(data) for the provided dataset [[1, 2], [3, 4], [5, 6]] will internally calculate the following:\n",
    "\n",
    "Mean: [3, 4] (one value for each feature)\n",
    "Standard deviation: [2, 2] (one value for each feature)\n",
    "These values are stored internally within the scaler object and used later during the transformation step (scaler.transform(data)) to standardize the data."
   ]
  },
  {
   "cell_type": "raw",
   "metadata": {},
   "source": [
    "After running scaler.fit(data), the scaler.transform(data) step performs the following actions to standardize your data:\n",
    "\n",
    "1. Recalls Stored Statistics:\n",
    "\n",
    "The transform method accesses the values for the mean and standard deviation of each feature, which were calculated and stored internally during the fit step.\n",
    "2. Applies Transformation (per Feature):\n",
    "\n",
    "For each feature (column) in the dataset:\n",
    "Centers the Data: The mean of that feature is subtracted from each value in that column. This forces the data to be centered around zero.\n",
    "Scales by Standard Deviation: Each value in the centered column is then divided by the standard deviation of that feature. This scales the data so that it has unit variance (a standard deviation of 1).\n",
    "Example\n",
    "\n",
    "Considering your dataset [[1, 2], [3, 4], [5, 6]], and the mean and standard deviation calculated during the fit step (mean: [3, 4], standard deviation: [2, 2]):\n",
    "\n",
    "Transformation for the first feature:\n",
    "\n",
    "(1 - 3) / 2 = -1\n",
    "(3 - 3) / 2 = 0\n",
    "(5 - 3) / 2 = 1\n",
    "Transformation for the second feature:\n",
    "\n",
    "(2 - 4) / 2 = -1\n",
    "(4 - 4) / 2 = 0\n",
    "(6 - 4) / 2 = 1\n",
    "Result\n",
    "\n",
    "The scaler.transform(data) will produce the following standardized (transformed) dataset:\n",
    "\n",
    "[[-1, -1],\n",
    " [ 0,  0],\n",
    " [ 1,  1]]\n",
    "Purpose of Standardization\n",
    "\n",
    "This standardization is important for many machine learning algorithms that are sensitive to differences in scale between features. Having features centered around zero and having a standard deviation of one can often improve model performance and stability of the algorithm's training process."
   ]
  },
  {
   "cell_type": "raw",
   "metadata": {},
   "source": [
    "(1 - 3) / 2 How 2 came here could u explain the formulae\n",
    "You're absolutely right! There's a slight misunderstanding in the example. Let me clarify the formula and how the calculations work.\n",
    "\n",
    "Here's the breakdown:\n",
    "\n",
    "Feature Under Consideration: We're working with the first feature (column) of the dataset.\n",
    "Mean: During the scaler.fit() step, the mean of the first feature was calculated to be 3.\n",
    "Standard Deviation: The standard deviation of the first feature was calculated to be 2.\n",
    "Original Value: The original value we're transforming is 1 (the first element in the first column).\n",
    "The Formula\n",
    "\n",
    "The correct formula used by StandardScaler for standardization is:\n",
    "\n",
    "z = (x - u) / s\n",
    "Where:\n",
    "\n",
    "z is the standardized (scaled) value\n",
    "x is the original value\n",
    "u is the mean of the feature\n",
    "s is the standard deviation of the feature\n",
    "Calculation\n",
    "\n",
    "Plugging our values into the formula:\n",
    "\n",
    "z = (1 - 3) / 2 = -2 / 2 = -1\n",
    "Therefore, the standardized value for the first element in the first feature of your dataset is -1."
   ]
  },
  {
   "cell_type": "raw",
   "metadata": {},
   "source": [
    "z is the standardized (scaled) value\n",
    "x is the original value\n",
    "u is the mean of the feature\n",
    "s is the standard deviation of the feature\n",
    "Calculation Use this units give the formulae. \n",
    "[[1, 2], [3, 4], [5, 6]] use this data for pre fit and [7,8] as new data and now how it calculates\n",
    "Here's the explanation with formulas and calculations for pre-fitting and new data transformation using StandardScaler:\n",
    "\n",
    "Formulas:\n",
    "\n",
    "Mean calculation (during fit):\n",
    "mean_j = (1 / m) * sum(X[:, j])\n",
    "where:\n",
    "\n",
    "m is the number of samples (rows) in the data.\n",
    "\n",
    "X[:, j] represents all values in the jth column (feature) of the data matrix.\n",
    "\n",
    "Standard deviation calculation (during fit):\n",
    "\n",
    "std_j = sqrt((1 / (m - 1)) * sum((X[:, j] - mean_j) ** 2))\n",
    "where:\n",
    "\n",
    "sqrt is the square root function.\n",
    "\n",
    "Standardization (during transform):\n",
    "\n",
    "z = (x - u) / s\n",
    "where:\n",
    "\n",
    "z is the standardized value.\n",
    "x is the original value.\n",
    "u is the mean of the feature (calculated during fit).\n",
    "s is the standard deviation of the feature (calculated during fit).\n",
    "Pre-fitting with example data:\n",
    "\n",
    "The data is:\n",
    "\n",
    "data = [[1, 2], [3, 4], [5, 6]]\n",
    "Calculate mean:\n",
    "mean = [np.mean(data[:, 0]), np.mean(data[:, 1])]\n",
    "mean = [3.3333, 4.0]\n",
    "Calculate standard deviation:\n",
    "std = [np.std(data[:, 0]), np.std(data[:, 1])]\n",
    "std = [1.5275, 1.5275]\n",
    "Therefore, mean = [3.3333, 4.0] and std = [1.5275, 1.5275].\n",
    "\n",
    "Transforming original data:\n",
    "\n",
    "scaled_data = (data - mean) / std\n",
    "Calculating the scaled data:\n",
    "\n",
    "scaled_data = [[(1 - 3.3333) / 1.5275, (2 - 4.0) / 1.5275],\n",
    "              [(3 - 3.3333) / 1.5275, (4 - 4.0) / 1.5275],\n",
    "              [(5 - 3.3333) / 1.5275, (6 - 4.0) / 1.5275]]\n",
    "\n",
    "scaled_data = [[-1.2247, -1.2247], [0.0, 0.0], [1.2247, 1.2247]]\n",
    "Transforming new data:\n",
    "\n",
    "New data: new_data = [7, 8]\n",
    "\n",
    "Reshape to match the original data format:\n",
    "new_data = new_data.reshape(1, -1)\n",
    "Apply standardization formula:\n",
    "scaled_new_data = (new_data - mean) / std\n",
    "Calculating the scaled new data:\n",
    "\n",
    "scaled_new_data = [[(7 - 3.3333) / 1.5275, (8 - 4.0) / 1.5275]]\n",
    "scaled_new_data = [[2.4495, 2.4495]]\n",
    "Summary:\n",
    "\n",
    "The original data is pre-fitted, calculating the mean and standard deviation for each feature.\n",
    "Both the original data and the new data are transformed using the same mean and standard deviation, ensuring consistent scaling across all data points.\n",
    "The formulas ensure the scaled data has a mean of 0 and a standard deviation of 1 for each feature.\n",
    "profile picture\n",
    "\n",
    "\n",
    "So for new data we can use directly standardization formula with prefitted calculated mean and standaed deviation right?\n",
    "Yes, absolutely! That's the core idea behind pre-fitting a scaler. Here's why using the prefitted mean and standard deviation works for new data:\n",
    "\n",
    "1. Consistency:\n",
    "\n",
    "By calculating the mean and standard deviation on the training data and reusing them for new data, you ensure that all data points (training and new) are scaled consistently.\n",
    "This is critical for many machine learning algorithms that are sensitive to differences in feature scales.\n",
    "2. Preventing Data Leakage:\n",
    "\n",
    "If you recalculated mean and standard deviation on a combined dataset containing both training and new data, your model gets a peek at the new data during the scaling process. This can subtly bias the results and give a falsely optimistic performance.\n",
    "Pre-fitting avoids this data leakage.\n",
    "Direct Formula Application:\n",
    "\n",
    "The formula for standardization remains the same:\n",
    "\n",
    "z = (x - u) / s\n",
    "where:\n",
    "\n",
    "z: the standardized value\n",
    "x: the original value\n",
    "u: the prefitted mean\n",
    "s: the prefitted standard deviation\n",
    "Key Takeaway\n",
    "\n",
    "The entire purpose of pre-fitting the scaler is to reuse the learned scaling parameters (mean and standard deviation) on new unseen data to maintain consistency and prevent the model from having sneak peeks at information it shouldn't during the training process.\n",
    "\n",
    "Should we not require calculating mean and standard deviation combined with the new data again ?\n",
    "\n",
    "\n",
    "You are absolutely correct. We should not calculate the mean and standard deviation again when transforming new data with a pre-fitted scaler. Here's why:\n",
    "\n",
    "Efficiency: Recomputing the mean and standard deviation for every new data point would be inefficient and unnecessary, especially when dealing with large datasets.\n",
    "Consistency: Pre-fitting the scaler ensures that all data (training and new) is scaled using the same reference point (the mean and standard deviation calculated during training). This consistency is crucial for many machine learning algorithms and helps maintain fair comparisons between the different data points.\n",
    "Preventing Data Leakage: If you were to recalculate the mean and standard deviation on a combined dataset containing both training and new data, it would introduce a form of data leakage. This means the model would be exposed to information from the new data during the scaling process, which can lead to biased results and an overly optimistic performance evaluation.\n",
    "Therefore, it's essential to use the pre-fitted mean and standard deviation during the transformation step to efficiently and consistently scale new data without compromising the integrity of your model's evaluation.\n",
    "\n",
    "If you have further questions or need clarification on any aspect of data scaling in machine learning, feel free to ask!"
   ]
  },
  {
   "cell_type": "raw",
   "metadata": {},
   "source": [
    "scaled means what?\n",
    "\n",
    "In the context of machine learning and data analysis, \"scaled\" refers to data that has been transformed to have a specific standard range. This usually involves centering the data around zero and adjusting its spread to a specific value, often unit variance (standard deviation of 1).\n",
    "\n",
    "Here's a breakdown of what \"scaled\" means:\n",
    "\n",
    "Original Data:\n",
    "\n",
    "May have different scales or ranges for different features.\n",
    "This can lead to difficulties in machine learning algorithms, as some algorithms are sensitive to the relative scales of features.\n",
    "Scaled Data:\n",
    "\n",
    "Has been standardized to a common scale using techniques like StandardScaler in scikit-learn.\n",
    "This makes features more comparable and can improve the performance of many machine learning algorithms.\n",
    "Benefits of Scaling:\n",
    "\n",
    "Improved Performance: Many machine learning algorithms assume that features are on a similar scale, and scaling can help address this assumption.\n",
    "Fairer Comparison: Makes features more comparable by putting them on the same \"playing field\".\n",
    "Faster Training: Can sometimes lead to faster training times for some algorithms.\n",
    "Types of Scaling:\n",
    "\n",
    "Standardization (Z-score normalization): This is the most common type of scaling, where the data is centered around zero and has a standard deviation of 1. This is done using the StandardScaler in scikit-learn.\n",
    "Normalization (Min-Max scaling): This scales data to a specific range, typically between 0 and 1 (or -1 and 1). This is done using MinMaxScaler in scikit-learn.\n",
    "Choosing the Right Scaling:\n",
    "\n",
    "The best scaling method depends on the specific algorithm and dataset you're working with.\n",
    "\n",
    "In essence, \"scaled\" data ensures that all features are treated fairly and on the same footing when used in machine learning models, potentially leading to better performance and fairer comparisons."
   ]
  },
  {
   "cell_type": "raw",
   "metadata": {},
   "source": [
    "scaler.transform(data) So this transforms the data which mean =0 and standard deviation =1 right?\n",
    "\n",
    "Yes, that's the main concept behind the scaler.transform(data) function when using StandardScaler. Here's why:\n",
    "\n",
    "Goal of Standardization: The purpose of StandardScaler is to transform data so that each feature (column) has approximately:\n",
    "\n",
    "A mean of 0.\n",
    "A standard deviation of 1.\n",
    "How it Works:\n",
    "\n",
    "Centering: StandardScaler subtracts the mean (calculated during fitting) from each value in a feature. This makes the feature have a new mean centered around zero.\n",
    "Scaling: StandardScaler divides each centered value by the standard deviation (also calculated during fitting). This ensures that the feature's values have a standard deviation of approximately 1.\n",
    "Important Considerations:\n",
    "\n",
    "Approximation: The transformed data might not have precisely a mean of 0 and a standard deviation of 1 in every case, especially for smaller datasets or data distributions that deviate from normality. However, the standardization generally results in features that are much closer to this ideal distribution.\n",
    "Data Type: While StandardScaler can handle different numerical data types (integers, floats), it's usually most effective with continuous data that has a somewhat bell-shaped (normal) distribution.\n",
    "Not always necessary: Some machine learning algorithms may work adequately without scaling, while others greatly benefit from it."
   ]
  },
  {
   "cell_type": "code",
   "execution_count": 26,
   "metadata": {},
   "outputs": [],
   "source": [
    "#### standarisation: We use the Standardscaler from sklearn library\n",
    "from sklearn.preprocessing import StandardScaler"
   ]
  },
  {
   "cell_type": "raw",
   "metadata": {},
   "source": [
    "*All the scaling libraries r present inside this sklearn.preprocessing library itself"
   ]
  },
  {
   "cell_type": "raw",
   "metadata": {},
   "source": [
    "scaler.fit_transform and scaler.transform(data)\n",
    "is this both are same?\n",
    "\n",
    "No, scaler.fit_transform(data) and scaler.transform(data) are not the same. They perform similar tasks but in different contexts:\n",
    "\n",
    "1. scaler.fit_transform(data):\n",
    "\n",
    "Combines both fitting and transformation in one step.\n",
    "Used when you don't have the training data available separately for fitting and transforming.\n",
    "Internally:\n",
    "Fits the scaler by calculating the mean and standard deviation of each feature using the provided data.\n",
    "Immediately transforms the data using the calculated statistics (mean and standard deviation).\n",
    "2. scaler.transform(data):\n",
    "\n",
    "Used for transforming data that has already been fitted on using the scaler.\n",
    "Assumes the scaler has already been fitted and has the necessary internal parameters (mean and standard deviation) stored.\n",
    "Only performs the transformation using the pre-calculated statistics from the fitting step.\n",
    "Here's an analogy:\n",
    "\n",
    "Imagine you want to adjust the brightness and contrast of several photos.\n",
    "\n",
    "scaler.fit_transform(data) is like adjusting the brightness and contrast on the fly for each photo without any prior settings.\n",
    "scaler.transform(data) is like using pre-defined brightness and contrast settings (obtained from fitting) to adjust multiple photos consistently.\n",
    "In summary:\n",
    "\n",
    "Use scaler.fit_transform(data) when you don't have the data pre-fitted and want to do both fitting and transforming in one step.\n",
    "Use scaler.transform(data) when you have already fitted the scaler on some data and want to use the same settings to transform new data."
   ]
  },
  {
   "cell_type": "raw",
   "metadata": {},
   "source": [
    "\n",
    "I'd be glad to provide a comprehensive response combining the best aspects of previous explanations and addressing potential issues:\n",
    "\n",
    "When to Use scaler.fit_transform(data):\n",
    "\n",
    "One-step convenience: If you don't have the training data pre-fitted (i.e., you haven't called scaler.fit() separately) and want to both fit the scaler and transform the data in a single step, scaler.fit_transform(data) is the way to go.\n",
    "Limited data access: This method might be necessary when you're working with limited data and want to avoid potentially wasting storage or memory by storing pre-fitted data and scaler separately.\n",
    "When to Use scaler.transform(data):\n",
    "\n",
    "Pre-fitted data: When you have already fitted the scaler using scaler.fit(data) on separate training data, use scaler.transform(data) to transform new data using the established statistics (mean and standard deviation) stored within the scaler object.\n",
    "Reusability: This allows you to reuse the same fitting parameters (mean and standard deviation) to standardize multiple datasets consistently, promoting efficiency and consistency.\n",
    "Illustrative Example:\n",
    "\n",
    "Imagine you're working with two datasets: training_data and testing_data. You want to standardize (center and scale) both datasets using StandardScaler:\n",
    "\n",
    "Python\n",
    "from sklearn.preprocessing import StandardScaler\n",
    "\n",
    "# Standardize training data\n",
    "scaler = StandardScaler()\n",
    "scaler.fit_transform(training_data)  # Use fit_transform for initial fitting and transformation\n",
    "\n",
    "# Standardize testing data (using pre-calculated mean and standard deviation)\n",
    "transformed_testing_data = scaler.transform(testing_data)\n",
    "Use code with caution.\n",
    "Choosing the Right Approach:\n",
    "\n",
    "The choice between fit_transform and transform depends on your specific workflow and data availability:\n",
    "\n",
    "If you have pre-fitted data, use transform for efficiency and consistency.\n",
    "If you don't have separate training data for fitting, use fit_transform for a one-step process.\n",
    "Additional Considerations:\n",
    "\n",
    "Best practices: While fit_transform can be convenient, it's generally recommended to fit the scaler on the training data using fit and then transform the testing data using transform to avoid potentially leaking information from the training data to the test data during the fitting process.\n",
    "Data types: StandardScaler works well with numerical data (integers, floats). For categorical data, consider other preprocessing techniques like one-hot encoding.\n",
    "Alternative scalers: Other scaling methods like MinMaxScaler might be suitable depending on your specific needs and data distribution.\n",
    "By understanding the distinct purposes of fit_transform and transform, you can effectively preprocess your data for machine learning tasks, ensuring a well-defined and robust workflow."
   ]
  },
  {
   "cell_type": "raw",
   "metadata": {},
   "source": [
    "Analogy\n",
    "\n",
    "Think of training a machine learning model like preparing for an exam:\n",
    "\n",
    "Training Data: The textbooks, study materials, and practice problems you use to learn the concepts.\n",
    "Testing Data: The actual exam questions that assess how well you've understood the material and can apply your knowledge to new scenarios."
   ]
  },
  {
   "cell_type": "raw",
   "metadata": {},
   "source": [
    "Example of Training and Testing Data in Machine Learning\n",
    "Scenario: Imagine you're building a machine learning model to predict housing prices based on various features like area, number of bedrooms, location, etc. Here's how training and testing data would work in this case:\n",
    "\n",
    "Data Collection:\n",
    "\n",
    "You gather a large dataset of historical housing sales. This dataset includes information on the features mentioned above and the actual selling price (target variable) for each house.\n",
    "Data Splitting:\n",
    "\n",
    "You split this dataset into training and testing sets using a common ratio like 80/20 (80% training, 20% testing). This can be done randomly to ensure representativeness in both sets.\n",
    "Training Data:\n",
    "\n",
    "The 80% training data becomes the \"learning material\" for your model. Each data point in this set represents an example house. The model will:\n",
    "Analyze the features (area, bedrooms, etc.) for each house.\n",
    "Learn the relationship between these features and the corresponding selling price (target variable).\n",
    "Essentially, build an internal logic to predict the price of a house based on its features.\n",
    "Testing Data:\n",
    "\n",
    "The 20% testing data is kept hidden from the model during training. It's like the \"exam\" to assess how well the model has learned. The model will:\n",
    "Be presented with the features of houses from the testing data.\n",
    "Attempt to predict the selling price for each house based on what it learned from the training data.\n",
    "The predicted prices are compared to the actual selling prices (known in the testing data) to calculate performance metrics like accuracy, mean squared error, etc.\n",
    "Visual Representation:\n",
    "\n",
    "Here's a visual breakdown:\n",
    "\n",
    "       Data Collection (Historical Housing Sales)\n",
    "        |\n",
    "       | Splitting (80/20)\n",
    "        |\n",
    "    -------       -------\n",
    "   | Training |   | Testing |\n",
    "   | Data     |   | Data     |\n",
    "   | (80%)   |   | (20%)   |\n",
    "    -------       -------\n",
    "           |\n",
    "           | Model Training\n",
    "           |\n",
    "           |\n",
    "           V\n",
    "  Performance Evaluation (Metrics like Accuracy, MSE)\n",
    "Importance of Separate Datasets:\n",
    "\n",
    "Using separate training and testing data prevents overfitting, where the model simply memorizes the training data and performs poorly on unseen data.\n",
    "Testing data provides a realistic assessment of the model's ability to generalize to new situations.\n",
    "By working with carefully chosen training and testing data, you can build a robust and reliable machine learning model that effectively predicts housing prices (or any other target variable you choose)."
   ]
  },
  {
   "cell_type": "raw",
   "metadata": {},
   "source": [
    "So now predicted values means target variable right?\n",
    "Yes, in the context of machine learning, \"predicted values\" generally refer to the outputs your model produces after being trained on data. These predicted values are the model's attempts to estimate the target variable.\n",
    "\n",
    "Let's revisit the housing price example:\n",
    "\n",
    "Target Variable: The actual selling price of each house in your dataset.\n",
    "Model Training: The model analyzes the relationship between features (area, bedrooms, etc.) and the target variable (selling price).\n",
    "Prediction: When you feed the model features of a new house (one not seen during training), it uses its learned patterns to generate a prediction of the selling price.\n",
    "Therefore, in this example, the predicted value is the model's estimate of the selling price, which represents the target variable.\n",
    "\n",
    "Key Points:\n",
    "\n",
    "Predicted Value vs. Actual Value: The predicted values are the model's best guesses, and they might not always perfectly match the actual values of the target variable in your dataset.\n",
    "Types of Target Variables: The target variable can be numerical (like in the housing price example) or categorical (e.g., predicting whether a customer will purchase a product or not).\n",
    "Terminology: While \"predicted values\" usually refer to the target variable, be aware that the term \"predicted values\" can sometimes be used more broadly to mean any output generated by a model – including things like cluster assignments in clustering models."
   ]
  },
  {
   "cell_type": "raw",
   "metadata": {},
   "source": [
    "Will they check the predicted values with target varaible values and conform how correct it is predicting right?\n",
    "Yes, absolutely! This is the fundamental idea behind evaluating machine learning models:\n",
    "\n",
    "Generate Predictions: After your model is trained on historical data, you generate predicted values for your target variable using a set of data points the model hasn't seen before (this is often your testing data).\n",
    "\n",
    "Compare with Ground Truth: The predicted values from the model are then meticulously compared with the actual (\"ground truth\") target variable values that are known within your testing data.\n",
    "\n",
    "Evaluation Metrics: Several accuracy and error metrics are used to quantify how close the predicted values are to the actual values:\n",
    "\n",
    "Regression (continuous targets): Examples include Mean Squared Error (MSE), Root Mean Squared Error (RMSE), Mean Absolute Error (MAE), R-Squared.\n",
    "Classification (categorical targets): Examples include accuracy, precision, recall, F1-score.\n",
    "Drawing Insights: These evaluation metrics offer a precise and objective assessment of how well the model is predicting the target variable on new, unseen data. These insights provide the following benefits:\n",
    "\n",
    "Model Selection: Metrics help you compare different models to choose the one best suited to your data and problem.\n",
    "Hyperparameter Tuning: Metrics guide the fine-tuning of a model's parameters to improve its performance.\n",
    "Identifying Overfitting or Underfitting: Metrics tell you whether the model is too complex (overfitting) or too simple (underfitting)\n",
    "Without comparing the predicted values with corresponding actual values, it's impossible to determine the performance or usefulness of your machine learning model."
   ]
  },
  {
   "cell_type": "raw",
   "metadata": {},
   "source": [
    "Will they check how close accuracy score is getting  between predicted values and target variable values right?\n",
    "Yes! That's precisely one of the main ways machine learning models are evaluated. Here's the breakdown of how the accuracy score plays a role:\n",
    "\n",
    "1. Accuracy Score (for Classification Problems):\n",
    "\n",
    "The accuracy score is a common metric primarily used for classification problems, where the target variable is categorical (e.g., predicting whether an email is spam or not, classifying an image as a cat or a dog).\n",
    "It measures the percentage of correct predictions made by your model in comparison to the actual target variable values.\n",
    "Example: If your model's accuracy score is 85%, it means it correctly classified 85% of the examples in your testing data.\n",
    "2. Analyzing the Accuracy Score:\n",
    "\n",
    "Higher is Better: A high accuracy score means a greater proportion of your model's predicted values closely matches the true target variable values. This usually indicates a well-performing model.\n",
    "Not the Whole Story: While accuracy is an important metric, it's not always suitable for all situations. Imbalances in your dataset or specific requirements can necessitate other metrics (like precision, recall, or F1-score).\n",
    "3. Other Measures of Closeness (for Regression Problems):\n",
    "\n",
    "For regression problems, where you're predicting a continuous numerical target variable (e.g., house price, stock price), accuracy in the strictest sense cannot be used.\n",
    "Instead, metrics like Mean Squared Error (MSE), Root Mean Squared Error (RMSE), Mean Absolute Error (MAE), or R-squared are utilized. These metrics measure how close the predicted values are to the actual target values on average.\n",
    "Key Takeaways:\n",
    "\n",
    "Evaluating the \"closeness\" of the predicted values to the target variable values is the crux of machine learning model evaluation.\n",
    "The right metric to assess closeness depends on whether you have a classification or regression problem."
   ]
  },
  {
   "cell_type": "raw",
   "metadata": {},
   "source": [
    "testing data means it contains only target variable right?\n",
    "Not quite. Testing data in machine learning contains both:\n",
    "\n",
    "Features (Input Data): This is the information the model uses to make predictions. For example, in the housing price prediction model, features would include the area, number of bedrooms, location, etc.\n",
    "Target Variable (Labels): This is the value the model is trying to predict. In the housing price example, the target variable would be the actual selling price of each house.\n",
    "Why Testing Data Needs Both:\n",
    "\n",
    "Evaluation: To assess the accuracy of your model, you need to compare what it predicts to the actual values (ground truth). Therefore, the testing data must contain the target variable to compute evaluation metrics.\n",
    "\n",
    "Realistic Testing: The purpose of testing data is to simulate how the model would perform on new, unseen data in the real world. This new data would naturally include both the features and the corresponding values (target variable) you're trying to predict.\n",
    "\n",
    "Important Point:\n",
    "\n",
    "Training data also has both features and the target variable. The model learns from this data.\n",
    "It's the process of hiding the target variable from the model during the training stage that distinguishes training and testing data."
   ]
  },
  {
   "cell_type": "raw",
   "metadata": {},
   "source": [
    "So after training the machine learning model then the model  is learned the logic and patterns. So this model will test the data in Testing which has both features and target variables and then it compares the predicted values with actual values in testing data right?\n",
    "You've got the process exactly right! Here's a breakdown of how it works:\n",
    "\n",
    "1. Training the Model\n",
    "\n",
    "You provide the model with training data (features and target variables).\n",
    "The model analyzes the data, searching for patterns and correlations between the features and the corresponding values of the target variable.\n",
    "This process essentially allows the model to \"learn\" an internal decision-making logic.\n",
    "2. Testing the Model\n",
    "\n",
    "You introduce testing data, which also contains both features and target variables. However, the target variables in the testing data are hidden from the model.\n",
    "The model uses its learned logic to analyze the features of each testing data point and generates predicted values as its attempts to estimate the target variable values for these data points.\n",
    "Crucial Step: Now that you have both the predicted values from the model and the actual true values (target variable) from your testing data, you can *compare them, and this is where the evaluation takes place.\n",
    "3. Evaluating Performance\n",
    "\n",
    "Various metrics are calculated to see how close the model's predicted values are to the actual values in the testing data. For example:\n",
    "Regression: Mean Squared Error, Root Mean Squared Error, etc.\n",
    "Classification: Accuracy, precision, recall, F1-score, etc.\n",
    "These metrics tell you how well your model has generalized and if it's performing as expected on new, unseen data.\n",
    "Key Points\n",
    "\n",
    "Purpose of separate testing data: Evaluating the model on data it has already seen during training can lead to overfitting. Testing data simulates what the model might encounter in the real world, giving you a more accurate evaluation.\n",
    "Iterative process: Based on the evaluation results, you might retrain the model, adjust parameters, try different algorithms, or gather more data to improve its performance."
   ]
  },
  {
   "cell_type": "raw",
   "metadata": {},
   "source": [
    "So while testing the data with trained machine learning model will they hide the target values inside the testing right?\n",
    "Absolutely yes! Here's why hiding the target values during testing is crucial:\n",
    "\n",
    "Simulating Real-world Use: When you deploy your trained machine learning model, it will encounter new data points without known target values. The goal is to see if your model can predict the target values accurately in this scenario.\n",
    "Preventing Overfitting: If the target values were visible to the model during testing, it could simply memorize the answers and give an artificially high performance score. This would lead to overfitting, where the model performs well on the training and testing data but fails on new, unseen examples.\n",
    "Objective Evaluation: To get a true assessment of how well your model has learned, you need to evaluate its predictions on data where it does not have access to the correct answers. This provides the most accurate measure of its ability to generalize and make predictions in real-world scenarios.\n",
    "Important to Note:\n",
    "\n",
    "Target Values in Testing Data: While we hide the target values from the model during the testing phase, the testing dataset itself absolutely includes the actual target values. Otherwise, we would have nothing to compare the predictions against to measure performance!\n",
    "Target Values During Training: In contrast, the model has full access to the target values during its training phase since it is actively learning from them."
   ]
  },
  {
   "cell_type": "raw",
   "metadata": {},
   "source": [
    "Overfitting is a major challenge in machine learning that occurs when a model becomes too specialized to the training data and fails to generalize well to new, unseen data.\n",
    "\n",
    "Here's a breakdown of what happens:\n",
    "\n",
    "Learning from Training Data: During training, the model learns from a set of data points with known target values. It analyzes this data to identify patterns and relationships between the features (input data) and the corresponding target values (output data).\n",
    "Overfitting: If the model becomes too focused on memorizing the specifics of the training data, it can start to capture random noise or irrelevant details instead of the underlying patterns.\n",
    "Poor Performance on New Data: As a result, the model performs well on the training data it learned from, but when it encounters new, unseen data that it hasn't memorized, its predictions become inaccurate.\n",
    "Visualizing Overfitting:\n",
    "\n",
    "Imagine learning to recognize dogs from a set of labeled pictures. If you overfit, you might not learn the general characteristics of dogs (four legs, a tail, etc.) but instead memorize specific details like the colors and markings of the dogs in the training set. This would lead to misidentifying dogs with different color combinations.\n",
    "\n",
    "Preventing Overfitting:\n",
    "\n",
    "Here are some techniques to prevent overfitting:\n",
    "\n",
    "Use a larger and more diverse training dataset: This exposes the model to a wider range of examples and prevents it from focusing on specific details.\n",
    "Regularization: Techniques like L1 or L2 regularization penalize the model for having too many complex parameters, encouraging it to learn simpler, more generalizable patterns.\n",
    "Early stopping: Stop training the model before it starts overfitting by monitoring its performance on a separate validation set.\n",
    "Cross-validation: Evaluate the model on multiple folds of the data to get a more robust estimate of its generalizability.\n",
    "Consequences of Overfitting:\n",
    "\n",
    "Reduced model effectiveness: Overfitted models have limited real-world applicability as they cannot handle variations in data.\n",
    "Misleading performance metrics: High performance on training data can be misleading if the model actually doesn't generalize well to unseen examples.\n",
    "Key Takeaways:\n",
    "\n",
    "Overfitting is a common issue in machine learning that can significantly impact model performance.\n",
    "Techniques exist to prevent overfitting, such as using larger datasets, applying regularization, and early stopping.\n",
    "Addressing overfitting is crucial to ensure that your model can learn meaningful patterns and perform well on new data."
   ]
  },
  {
   "cell_type": "raw",
   "metadata": {},
   "source": [
    "So while testing will it take only features expect target variable right\n",
    "Yes, that's absolutely correct! Here's why:\n",
    "\n",
    "Purpose of Testing: The primary function of testing data is to evaluate how well your trained machine learning model can make predictions on new, unseen data.\n",
    "\n",
    "Simulating Reality: When your model is deployed in the real world, it won't have access to the correct answers (target variable).  Therefore, your testing process should mirror this scenario.\n",
    "\n",
    "Hiding the Target Variable: By only providing the model with features during testing, we force it to utilize the patterns and relationships it learned during training to predict the values of the target variable. This is how we truly gauge its prediction abilities.\n",
    "\n",
    "Essentially, think of testing as giving your model a \"pop quiz\" on new examples - it shouldn't have the answers (target variable) readily available to perform well.\n",
    "\n",
    "Let me know if you'd like to illustrate this with a specific example, or if you want to discuss techniques to prevent overfitting!"
   ]
  },
  {
   "cell_type": "raw",
   "metadata": {},
   "source": [
    "scaler.fit_transform and scaler.transform(data)\n",
    "is this both are same? Give me with an real world example in machine learning\n",
    "No, scaler.fit_transform(data) and scaler.transform(data) are not exactly the same in machine learning. They both involve scaling data with a scaler like StandardScaler, but they serve different purposes:\n",
    "\n",
    "1. scaler.fit_transform(data):\n",
    "\n",
    "Combined Function: This method performs both fitting and transformation in one step.\n",
    "Use Case: It's used when you don't have the training data pre-fitted separately and want to fit the scaler and transform the data simultaneously.\n",
    "Real-world Example: Imagine you have sensor data from a factory collected at different times. You want to standardize (center and scale) the values to ensure features are on the same scale before feeding them into a machine learning model that predicts machine failure. Since you don't have separate training data, you can use fit_transform on the sensor data directly.\n",
    "2. scaler.transform(data):\n",
    "\n",
    "Dedicated Transformation: This method is used to transform data using a pre-fitted scaler.\n",
    "Assumption: It assumes the scaler has already been fitted using scaler.fit(data) on separate training data.\n",
    "Real-world Example: Continuing the factory sensor data example, suppose you already fitted the StandardScaler on a portion of the data to calculate the mean and standard deviation of each feature. Now, you can use transform on new sensor data collected later to transform it using the pre-calculated statistics, ensuring consistency in scaling across different batches of data.\n",
    "Here's a table summarizing the key differences:\n",
    "\n",
    "Method\tPurpose\tUse Case\n",
    "scaler.fit_transform(data)\tCombines fitting and transformation\tDon't have pre-fitted training data\n",
    "scaler.transform(data)\tTransforms data using pre-fitted scaler\tHave already fitted the scaler on separate training data\n",
    "Choosing the Right Approach:\n",
    "\n",
    "One-step convenience: Use fit_transform when fitting and transforming are needed in a single step.\n",
    "Efficiency and consistency: Use transform when you have pre-fitted data and want to reuse the same scaling parameters for consistent data handling.\n",
    "Remember that while fit_transform is convenient, it's often recommended to follow best practices and:\n",
    "\n",
    "Fit the scaler on a separate training dataset using fit.\n",
    "Transform new data using transform to avoid potentially leaking information from the training data to the test data during the fitting process.\n",
    "profile picture\n",
    "don't have the training data pre-fitted Explain this\n",
    "Absolutely! Let's break down what it means to \"not have the training data pre-fitted\" in machine learning:\n",
    "\n",
    "1. Pre-fitting a Scaler\n",
    "\n",
    "Before you can use scaler.transform(data) to transform your data, the scaler needs to be fitted.\n",
    "Fitting a scaler (like StandardScaler or MinMaxScaler) essentially involves:\n",
    "Analyzing a dataset: The scaler calculates statistics like the mean and standard deviation of each feature (column) in the data.\n",
    "Storing parameters: These calculated statistics become internal parameters of the fitted scaler.\n",
    "2. When You DON'T Have Pre-fitted Data\n",
    "\n",
    "Here are some scenarios where this might occur:\n",
    "\n",
    "Working with new data: If you're dealing with a completely new dataset and haven't had a chance to analyze and fit the scaler to it, you'd use scaler.fit_transform(data) because you need to fit and transform in one step.\n",
    "Limited data or storage: In situations where you have a small amount of data or storage constraints, you might avoid creating an \"extra\" fitted copy of the scaler and use scaler.fit_transform(data) to do everything at once.\n",
    "One-off analysis: If you're simply doing a quick data exploration and don't need to reuse the fitted scaler later, fit_transform offers a convenient way to scale your data.\n",
    "3. Why Pre-Fitting is Often Preferred\n",
    "\n",
    "Consistency: When working with multiple datasets or batches of data over time (like in a real-world application), pre-fitting the scaler on the training data and then using transform for new data ensures that all your data is scaled in the exact same way.\n",
    "Preventing Data Leakage: Fitting the scaler on the entire dataset and then transforming testing data can introduce bias in your model evaluation – your model might gain information it shouldn't have about the test data during the fitting process. Pre-fitting avoids this.\n",
    "Key Takeaway:\n",
    "\n",
    "Think of \"not having training data pre-fitted\" as meaning you haven't yet analyzed the data to establish the scaling parameters for the scaler.\n",
    "\n",
    "Let me know if you want me to elaborate with a specific code example or expand on specific scenarios!\n",
    "\n",
    "profile picture\n",
    "elaborate with a specific code example \n",
    "\n",
    "Here's a Python code example demonstrating the difference between scaler.fit_transform(data) and scaler.transform(data) using StandardScaler:\n",
    "\n",
    "Python\n",
    "import numpy as np\n",
    "from sklearn.preprocessing import StandardScaler\n",
    "\n",
    "# Sample data (assuming you don't have separate training data pre-fitted)\n",
    "data = np.array([[10, 2], [5, 4], [15, 1]])\n",
    "\n",
    "# Scenario 1: Fitting and transforming in one step (no pre-fitted data)\n",
    "scaler = StandardScaler()\n",
    "scaled_data = scaler.fit_transform(data)\n",
    "\n",
    "print(\"Scaled data using fit_transform:\")\n",
    "print(scaled_data)\n",
    "\n",
    "# Output:\n",
    "# [[-1.41421356 -1.41421356]\n",
    "#  [-0.70710678 -0.70710678]\n",
    "#  [ 1.41421356  1.41421356]]\n",
    "\n",
    "# Scenario 2: Pre-fitting the scaler on the same data (for demonstration purposes)\n",
    "scaler.fit(data)  # This is usually done on separate training data\n",
    "\n",
    "# Scenario 3: Transforming new data using the pre-fitted scaler\n",
    "new_data = np.array([[8, 3]])\n",
    "scaled_new_data = scaler.transform(new_data)\n",
    "\n",
    "print(\"\\nScaled new data using transform:\")\n",
    "print(scaled_new_data)\n",
    "\n",
    "# Output:\n",
    "# [[-0.35355339 -1.06066012]]\n",
    "Use code with caution.\n",
    "Explanation:\n",
    "\n",
    "Sample Data: We create a sample data array data.\n",
    "Scenario 1: We use scaler.fit_transform(data) directly. This fits the scaler and transforms the data in one step. The printed output shows the scaled data.\n",
    "Scenario 2: We pre-fit the scaler on the same data (demonstration only, usually done on separate training data).\n",
    "Scenario 3: We introduce new data new_data. Since the scaler is already fitted, we can use scaler.transform(new_data) to transform it using the pre-calculated mean and standard deviation. The printed output shows the scaled new data.\n",
    "Key Points:\n",
    "\n",
    "Both methods achieve data scaling, but fit_transform combines fitting and transforming, while transform requires pre-fitted data.\n",
    "Pre-fitting on separate training data and then using transform for new data is usually preferred to avoid data leakage and ensure consistency in scaling across different datasets."
   ]
  },
  {
   "cell_type": "raw",
   "metadata": {},
   "source": [
    "*Always remember w.r.t ML Algorithms we only do the 'fit' we train our data with that and suppose if u want to perform or change the data(Basically apply algorithm & change the data at that time I have to use transform also ). Usually what is happening here is data transformation is happening here(the variable transformation the feature transformation) "
   ]
  },
  {
   "cell_type": "code",
   "execution_count": 31,
   "metadata": {},
   "outputs": [
    {
     "data": {
      "text/html": [
       "<div>\n",
       "<style scoped>\n",
       "    .dataframe tbody tr th:only-of-type {\n",
       "        vertical-align: middle;\n",
       "    }\n",
       "\n",
       "    .dataframe tbody tr th {\n",
       "        vertical-align: top;\n",
       "    }\n",
       "\n",
       "    .dataframe thead th {\n",
       "        text-align: right;\n",
       "    }\n",
       "</style>\n",
       "<table border=\"1\" class=\"dataframe\">\n",
       "  <thead>\n",
       "    <tr style=\"text-align: right;\">\n",
       "      <th></th>\n",
       "      <th>Survived</th>\n",
       "      <th>Pclass</th>\n",
       "      <th>Age</th>\n",
       "      <th>Fare</th>\n",
       "    </tr>\n",
       "  </thead>\n",
       "  <tbody>\n",
       "    <tr>\n",
       "      <th>0</th>\n",
       "      <td>0</td>\n",
       "      <td>3</td>\n",
       "      <td>22.0</td>\n",
       "      <td>7.2500</td>\n",
       "    </tr>\n",
       "    <tr>\n",
       "      <th>1</th>\n",
       "      <td>1</td>\n",
       "      <td>1</td>\n",
       "      <td>38.0</td>\n",
       "      <td>71.2833</td>\n",
       "    </tr>\n",
       "    <tr>\n",
       "      <th>2</th>\n",
       "      <td>1</td>\n",
       "      <td>3</td>\n",
       "      <td>26.0</td>\n",
       "      <td>7.9250</td>\n",
       "    </tr>\n",
       "    <tr>\n",
       "      <th>3</th>\n",
       "      <td>1</td>\n",
       "      <td>1</td>\n",
       "      <td>35.0</td>\n",
       "      <td>53.1000</td>\n",
       "    </tr>\n",
       "    <tr>\n",
       "      <th>4</th>\n",
       "      <td>0</td>\n",
       "      <td>3</td>\n",
       "      <td>35.0</td>\n",
       "      <td>8.0500</td>\n",
       "    </tr>\n",
       "    <tr>\n",
       "      <th>...</th>\n",
       "      <td>...</td>\n",
       "      <td>...</td>\n",
       "      <td>...</td>\n",
       "      <td>...</td>\n",
       "    </tr>\n",
       "    <tr>\n",
       "      <th>886</th>\n",
       "      <td>0</td>\n",
       "      <td>2</td>\n",
       "      <td>27.0</td>\n",
       "      <td>13.0000</td>\n",
       "    </tr>\n",
       "    <tr>\n",
       "      <th>887</th>\n",
       "      <td>1</td>\n",
       "      <td>1</td>\n",
       "      <td>19.0</td>\n",
       "      <td>30.0000</td>\n",
       "    </tr>\n",
       "    <tr>\n",
       "      <th>888</th>\n",
       "      <td>0</td>\n",
       "      <td>3</td>\n",
       "      <td>28.0</td>\n",
       "      <td>23.4500</td>\n",
       "    </tr>\n",
       "    <tr>\n",
       "      <th>889</th>\n",
       "      <td>1</td>\n",
       "      <td>1</td>\n",
       "      <td>26.0</td>\n",
       "      <td>30.0000</td>\n",
       "    </tr>\n",
       "    <tr>\n",
       "      <th>890</th>\n",
       "      <td>0</td>\n",
       "      <td>3</td>\n",
       "      <td>32.0</td>\n",
       "      <td>7.7500</td>\n",
       "    </tr>\n",
       "  </tbody>\n",
       "</table>\n",
       "<p>891 rows × 4 columns</p>\n",
       "</div>"
      ],
      "text/plain": [
       "     Survived  Pclass   Age     Fare\n",
       "0           0       3  22.0   7.2500\n",
       "1           1       1  38.0  71.2833\n",
       "2           1       3  26.0   7.9250\n",
       "3           1       1  35.0  53.1000\n",
       "4           0       3  35.0   8.0500\n",
       "..        ...     ...   ...      ...\n",
       "886         0       2  27.0  13.0000\n",
       "887         1       1  19.0  30.0000\n",
       "888         0       3  28.0  23.4500\n",
       "889         1       1  26.0  30.0000\n",
       "890         0       3  32.0   7.7500\n",
       "\n",
       "[891 rows x 4 columns]"
      ]
     },
     "execution_count": 31,
     "metadata": {},
     "output_type": "execute_result"
    }
   ],
   "source": [
    "df"
   ]
  },
  {
   "cell_type": "code",
   "execution_count": 27,
   "metadata": {},
   "outputs": [],
   "source": [
    "scaler=StandardScaler() #Here we r creating object for StandardScaler()\n",
    "#Whenever u r applying machine learning algorithm u do only fit\n",
    "### fit vs fit_transform\n",
    "\n",
    "df_scaled=scaler.fit_transform(df)"
   ]
  },
  {
   "cell_type": "code",
   "execution_count": 28,
   "metadata": {},
   "outputs": [
    {
     "data": {
      "text/plain": [
       "array([[-0.78927234,  0.82737724, -0.56573646, -0.50244517],\n",
       "       [ 1.2669898 , -1.56610693,  0.66386103,  0.78684529],\n",
       "       [ 1.2669898 ,  0.82737724, -0.25833709, -0.48885426],\n",
       "       ...,\n",
       "       [-0.78927234,  0.82737724, -0.1046374 , -0.17626324],\n",
       "       [ 1.2669898 , -1.56610693, -0.25833709, -0.04438104],\n",
       "       [-0.78927234,  0.82737724,  0.20276197, -0.49237783]])"
      ]
     },
     "execution_count": 28,
     "metadata": {},
     "output_type": "execute_result"
    }
   ],
   "source": [
    "df_scaled "
   ]
  },
  {
   "cell_type": "code",
   "execution_count": 29,
   "metadata": {},
   "outputs": [
    {
     "data": {
      "text/html": [
       "<div>\n",
       "<style scoped>\n",
       "    .dataframe tbody tr th:only-of-type {\n",
       "        vertical-align: middle;\n",
       "    }\n",
       "\n",
       "    .dataframe tbody tr th {\n",
       "        vertical-align: top;\n",
       "    }\n",
       "\n",
       "    .dataframe thead th {\n",
       "        text-align: right;\n",
       "    }\n",
       "</style>\n",
       "<table border=\"1\" class=\"dataframe\">\n",
       "  <thead>\n",
       "    <tr style=\"text-align: right;\">\n",
       "      <th></th>\n",
       "      <th>0</th>\n",
       "      <th>1</th>\n",
       "      <th>2</th>\n",
       "      <th>3</th>\n",
       "    </tr>\n",
       "  </thead>\n",
       "  <tbody>\n",
       "    <tr>\n",
       "      <th>0</th>\n",
       "      <td>-0.789272</td>\n",
       "      <td>0.827377</td>\n",
       "      <td>-0.565736</td>\n",
       "      <td>-0.502445</td>\n",
       "    </tr>\n",
       "    <tr>\n",
       "      <th>1</th>\n",
       "      <td>1.266990</td>\n",
       "      <td>-1.566107</td>\n",
       "      <td>0.663861</td>\n",
       "      <td>0.786845</td>\n",
       "    </tr>\n",
       "    <tr>\n",
       "      <th>2</th>\n",
       "      <td>1.266990</td>\n",
       "      <td>0.827377</td>\n",
       "      <td>-0.258337</td>\n",
       "      <td>-0.488854</td>\n",
       "    </tr>\n",
       "    <tr>\n",
       "      <th>3</th>\n",
       "      <td>1.266990</td>\n",
       "      <td>-1.566107</td>\n",
       "      <td>0.433312</td>\n",
       "      <td>0.420730</td>\n",
       "    </tr>\n",
       "    <tr>\n",
       "      <th>4</th>\n",
       "      <td>-0.789272</td>\n",
       "      <td>0.827377</td>\n",
       "      <td>0.433312</td>\n",
       "      <td>-0.486337</td>\n",
       "    </tr>\n",
       "    <tr>\n",
       "      <th>...</th>\n",
       "      <td>...</td>\n",
       "      <td>...</td>\n",
       "      <td>...</td>\n",
       "      <td>...</td>\n",
       "    </tr>\n",
       "    <tr>\n",
       "      <th>886</th>\n",
       "      <td>-0.789272</td>\n",
       "      <td>-0.369365</td>\n",
       "      <td>-0.181487</td>\n",
       "      <td>-0.386671</td>\n",
       "    </tr>\n",
       "    <tr>\n",
       "      <th>887</th>\n",
       "      <td>1.266990</td>\n",
       "      <td>-1.566107</td>\n",
       "      <td>-0.796286</td>\n",
       "      <td>-0.044381</td>\n",
       "    </tr>\n",
       "    <tr>\n",
       "      <th>888</th>\n",
       "      <td>-0.789272</td>\n",
       "      <td>0.827377</td>\n",
       "      <td>-0.104637</td>\n",
       "      <td>-0.176263</td>\n",
       "    </tr>\n",
       "    <tr>\n",
       "      <th>889</th>\n",
       "      <td>1.266990</td>\n",
       "      <td>-1.566107</td>\n",
       "      <td>-0.258337</td>\n",
       "      <td>-0.044381</td>\n",
       "    </tr>\n",
       "    <tr>\n",
       "      <th>890</th>\n",
       "      <td>-0.789272</td>\n",
       "      <td>0.827377</td>\n",
       "      <td>0.202762</td>\n",
       "      <td>-0.492378</td>\n",
       "    </tr>\n",
       "  </tbody>\n",
       "</table>\n",
       "<p>891 rows × 4 columns</p>\n",
       "</div>"
      ],
      "text/plain": [
       "            0         1         2         3\n",
       "0   -0.789272  0.827377 -0.565736 -0.502445\n",
       "1    1.266990 -1.566107  0.663861  0.786845\n",
       "2    1.266990  0.827377 -0.258337 -0.488854\n",
       "3    1.266990 -1.566107  0.433312  0.420730\n",
       "4   -0.789272  0.827377  0.433312 -0.486337\n",
       "..        ...       ...       ...       ...\n",
       "886 -0.789272 -0.369365 -0.181487 -0.386671\n",
       "887  1.266990 -1.566107 -0.796286 -0.044381\n",
       "888 -0.789272  0.827377 -0.104637 -0.176263\n",
       "889  1.266990 -1.566107 -0.258337 -0.044381\n",
       "890 -0.789272  0.827377  0.202762 -0.492378\n",
       "\n",
       "[891 rows x 4 columns]"
      ]
     },
     "execution_count": 29,
     "metadata": {},
     "output_type": "execute_result"
    }
   ],
   "source": [
    "pd.DataFrame(df_scaled) \n",
    "#Here we standardized or scaled the data which has mean close to 0 and standard deviation close to 1 after calculating the below data or shown in graph.\n",
    "#Transformation will happen feature wise it will not be taking row wise."
   ]
  },
  {
   "cell_type": "code",
   "execution_count": 30,
   "metadata": {},
   "outputs": [],
   "source": [
    "import matplotlib.pyplot as plt\n",
    "%matplotlib inline"
   ]
  },
  {
   "cell_type": "raw",
   "metadata": {},
   "source": [
    "df_scaled[:,1] What it gives explain in detai;\n",
    "Let's break down what df_scaled[:,1] does in a Python context, assuming you're working with data in a Pandas DataFrame structure:\n",
    "\n",
    "Assumptions\n",
    "\n",
    "df_scaled: This is a Pandas DataFrame that holds your scaled data after applying a scaler (like StandardScaler or MinMaxScaler) to your original data.\n",
    "Scaling: The scaling process likely adjusted your features with techniques like standardization or normalization.\n",
    "Interpretation\n",
    "\n",
    "Python\n",
    "df_scaled[:,1]\n",
    "Use code with caution.\n",
    "Here's the detailed explanation:\n",
    "\n",
    "df_scaled: You're selecting the DataFrame called df_scaled.\n",
    "[:,1]: This part employs slicing notation to extract:\n",
    ":: This part of the notation means \"take all the rows\".\n",
    "1: This refers to the second column (index 1, since Python uses zero-based indexing).\n",
    "Output\n",
    "\n",
    "The command will return a Pandas Series object.\n",
    "This Series contains the values from the second column of your scaled DataFrame (df_scaled).\n",
    "Example\n",
    "\n",
    "If your df_scaled looks like this:\n",
    "\n",
    "    Feature_1  Feature_2\n",
    "0       -1.2        0.1\n",
    "1        0.5        2.3\n",
    "2        1.4       -0.8\n",
    "Then df_scaled[:, 1] would produce:\n",
    "\n",
    "0    0.1\n",
    "1    2.3\n",
    "2   -0.8\n",
    "Name: Feature_2, dtype: float64\n",
    "Important Considerations:\n",
    "\n",
    "Make sure your DataFrame is actually scaled when referencing it as df_scaled.\n",
    "Remember that Python indexing starts at zero, so 1 refers to the second column."
   ]
  },
  {
   "cell_type": "code",
   "execution_count": 36,
   "metadata": {},
   "outputs": [
    {
     "data": {
      "text/html": [
       "<div>\n",
       "<style scoped>\n",
       "    .dataframe tbody tr th:only-of-type {\n",
       "        vertical-align: middle;\n",
       "    }\n",
       "\n",
       "    .dataframe tbody tr th {\n",
       "        vertical-align: top;\n",
       "    }\n",
       "\n",
       "    .dataframe thead th {\n",
       "        text-align: right;\n",
       "    }\n",
       "</style>\n",
       "<table border=\"1\" class=\"dataframe\">\n",
       "  <thead>\n",
       "    <tr style=\"text-align: right;\">\n",
       "      <th></th>\n",
       "      <th>0</th>\n",
       "      <th>1</th>\n",
       "      <th>2</th>\n",
       "      <th>3</th>\n",
       "    </tr>\n",
       "  </thead>\n",
       "  <tbody>\n",
       "    <tr>\n",
       "      <th>0</th>\n",
       "      <td>-0.789272</td>\n",
       "      <td>0.827377</td>\n",
       "      <td>-0.565736</td>\n",
       "      <td>-0.502445</td>\n",
       "    </tr>\n",
       "    <tr>\n",
       "      <th>1</th>\n",
       "      <td>1.266990</td>\n",
       "      <td>-1.566107</td>\n",
       "      <td>0.663861</td>\n",
       "      <td>0.786845</td>\n",
       "    </tr>\n",
       "    <tr>\n",
       "      <th>2</th>\n",
       "      <td>1.266990</td>\n",
       "      <td>0.827377</td>\n",
       "      <td>-0.258337</td>\n",
       "      <td>-0.488854</td>\n",
       "    </tr>\n",
       "    <tr>\n",
       "      <th>3</th>\n",
       "      <td>1.266990</td>\n",
       "      <td>-1.566107</td>\n",
       "      <td>0.433312</td>\n",
       "      <td>0.420730</td>\n",
       "    </tr>\n",
       "    <tr>\n",
       "      <th>4</th>\n",
       "      <td>-0.789272</td>\n",
       "      <td>0.827377</td>\n",
       "      <td>0.433312</td>\n",
       "      <td>-0.486337</td>\n",
       "    </tr>\n",
       "    <tr>\n",
       "      <th>...</th>\n",
       "      <td>...</td>\n",
       "      <td>...</td>\n",
       "      <td>...</td>\n",
       "      <td>...</td>\n",
       "    </tr>\n",
       "    <tr>\n",
       "      <th>886</th>\n",
       "      <td>-0.789272</td>\n",
       "      <td>-0.369365</td>\n",
       "      <td>-0.181487</td>\n",
       "      <td>-0.386671</td>\n",
       "    </tr>\n",
       "    <tr>\n",
       "      <th>887</th>\n",
       "      <td>1.266990</td>\n",
       "      <td>-1.566107</td>\n",
       "      <td>-0.796286</td>\n",
       "      <td>-0.044381</td>\n",
       "    </tr>\n",
       "    <tr>\n",
       "      <th>888</th>\n",
       "      <td>-0.789272</td>\n",
       "      <td>0.827377</td>\n",
       "      <td>-0.104637</td>\n",
       "      <td>-0.176263</td>\n",
       "    </tr>\n",
       "    <tr>\n",
       "      <th>889</th>\n",
       "      <td>1.266990</td>\n",
       "      <td>-1.566107</td>\n",
       "      <td>-0.258337</td>\n",
       "      <td>-0.044381</td>\n",
       "    </tr>\n",
       "    <tr>\n",
       "      <th>890</th>\n",
       "      <td>-0.789272</td>\n",
       "      <td>0.827377</td>\n",
       "      <td>0.202762</td>\n",
       "      <td>-0.492378</td>\n",
       "    </tr>\n",
       "  </tbody>\n",
       "</table>\n",
       "<p>891 rows × 4 columns</p>\n",
       "</div>"
      ],
      "text/plain": [
       "            0         1         2         3\n",
       "0   -0.789272  0.827377 -0.565736 -0.502445\n",
       "1    1.266990 -1.566107  0.663861  0.786845\n",
       "2    1.266990  0.827377 -0.258337 -0.488854\n",
       "3    1.266990 -1.566107  0.433312  0.420730\n",
       "4   -0.789272  0.827377  0.433312 -0.486337\n",
       "..        ...       ...       ...       ...\n",
       "886 -0.789272 -0.369365 -0.181487 -0.386671\n",
       "887  1.266990 -1.566107 -0.796286 -0.044381\n",
       "888 -0.789272  0.827377 -0.104637 -0.176263\n",
       "889  1.266990 -1.566107 -0.258337 -0.044381\n",
       "890 -0.789272  0.827377  0.202762 -0.492378\n",
       "\n",
       "[891 rows x 4 columns]"
      ]
     },
     "execution_count": 36,
     "metadata": {},
     "output_type": "execute_result"
    }
   ],
   "source": [
    "pd.DataFrame(df_scaled) "
   ]
  },
  {
   "cell_type": "code",
   "execution_count": 40,
   "metadata": {},
   "outputs": [
    {
     "data": {
      "text/plain": [
       "array([ 1.2669898 , -1.56610693,  0.66386103,  0.78684529])"
      ]
     },
     "execution_count": 40,
     "metadata": {},
     "output_type": "execute_result"
    }
   ],
   "source": [
    "df_scaled[1]"
   ]
  },
  {
   "cell_type": "code",
   "execution_count": 37,
   "metadata": {},
   "outputs": [
    {
     "data": {
      "text/plain": [
       "array([-0.78927234,  0.82737724, -0.56573646, -0.50244517])"
      ]
     },
     "execution_count": 37,
     "metadata": {},
     "output_type": "execute_result"
    }
   ],
   "source": [
    "df_scaled[0]"
   ]
  },
  {
   "cell_type": "code",
   "execution_count": 38,
   "metadata": {},
   "outputs": [
    {
     "data": {
      "text/plain": [
       "array([ 1.2669898 ,  0.82737724, -0.25833709, -0.48885426])"
      ]
     },
     "execution_count": 38,
     "metadata": {},
     "output_type": "execute_result"
    }
   ],
   "source": [
    "df_scaled[2]"
   ]
  },
  {
   "cell_type": "code",
   "execution_count": 35,
   "metadata": {},
   "outputs": [
    {
     "data": {
      "text/plain": [
       "4"
      ]
     },
     "execution_count": 35,
     "metadata": {},
     "output_type": "execute_result"
    }
   ],
   "source": [
    "len(df_scaled[1])"
   ]
  },
  {
   "cell_type": "code",
   "execution_count": 41,
   "metadata": {},
   "outputs": [
    {
     "data": {
      "text/plain": [
       "array([-0.78927234,  1.2669898 ,  1.2669898 ,  1.2669898 , -0.78927234,\n",
       "       -0.78927234, -0.78927234, -0.78927234,  1.2669898 ,  1.2669898 ,\n",
       "        1.2669898 ,  1.2669898 , -0.78927234, -0.78927234, -0.78927234,\n",
       "        1.2669898 , -0.78927234,  1.2669898 , -0.78927234,  1.2669898 ,\n",
       "       -0.78927234,  1.2669898 ,  1.2669898 ,  1.2669898 , -0.78927234,\n",
       "        1.2669898 , -0.78927234, -0.78927234,  1.2669898 , -0.78927234,\n",
       "       -0.78927234,  1.2669898 ,  1.2669898 , -0.78927234, -0.78927234,\n",
       "       -0.78927234,  1.2669898 , -0.78927234, -0.78927234,  1.2669898 ,\n",
       "       -0.78927234, -0.78927234, -0.78927234,  1.2669898 ,  1.2669898 ,\n",
       "       -0.78927234, -0.78927234,  1.2669898 , -0.78927234, -0.78927234,\n",
       "       -0.78927234, -0.78927234,  1.2669898 ,  1.2669898 , -0.78927234,\n",
       "        1.2669898 ,  1.2669898 , -0.78927234,  1.2669898 , -0.78927234,\n",
       "       -0.78927234,  1.2669898 , -0.78927234, -0.78927234, -0.78927234,\n",
       "        1.2669898 ,  1.2669898 , -0.78927234,  1.2669898 , -0.78927234,\n",
       "       -0.78927234, -0.78927234, -0.78927234, -0.78927234,  1.2669898 ,\n",
       "       -0.78927234, -0.78927234, -0.78927234,  1.2669898 ,  1.2669898 ,\n",
       "       -0.78927234,  1.2669898 ,  1.2669898 , -0.78927234,  1.2669898 ,\n",
       "        1.2669898 , -0.78927234, -0.78927234,  1.2669898 , -0.78927234,\n",
       "       -0.78927234, -0.78927234, -0.78927234, -0.78927234, -0.78927234,\n",
       "       -0.78927234, -0.78927234,  1.2669898 ,  1.2669898 , -0.78927234,\n",
       "       -0.78927234, -0.78927234, -0.78927234, -0.78927234, -0.78927234,\n",
       "       -0.78927234,  1.2669898 ,  1.2669898 , -0.78927234,  1.2669898 ,\n",
       "       -0.78927234, -0.78927234, -0.78927234, -0.78927234, -0.78927234,\n",
       "       -0.78927234, -0.78927234, -0.78927234, -0.78927234, -0.78927234,\n",
       "       -0.78927234, -0.78927234, -0.78927234,  1.2669898 , -0.78927234,\n",
       "        1.2669898 , -0.78927234,  1.2669898 ,  1.2669898 , -0.78927234,\n",
       "       -0.78927234, -0.78927234, -0.78927234,  1.2669898 , -0.78927234,\n",
       "       -0.78927234,  1.2669898 , -0.78927234, -0.78927234, -0.78927234,\n",
       "       -0.78927234,  1.2669898 ,  1.2669898 , -0.78927234, -0.78927234,\n",
       "       -0.78927234,  1.2669898 , -0.78927234, -0.78927234, -0.78927234,\n",
       "       -0.78927234,  1.2669898 , -0.78927234, -0.78927234, -0.78927234,\n",
       "       -0.78927234,  1.2669898 , -0.78927234, -0.78927234, -0.78927234,\n",
       "       -0.78927234,  1.2669898 , -0.78927234, -0.78927234, -0.78927234,\n",
       "        1.2669898 ,  1.2669898 , -0.78927234, -0.78927234, -0.78927234,\n",
       "       -0.78927234, -0.78927234,  1.2669898 , -0.78927234, -0.78927234,\n",
       "       -0.78927234, -0.78927234, -0.78927234, -0.78927234, -0.78927234,\n",
       "       -0.78927234, -0.78927234, -0.78927234,  1.2669898 ,  1.2669898 ,\n",
       "       -0.78927234,  1.2669898 ,  1.2669898 , -0.78927234, -0.78927234,\n",
       "        1.2669898 , -0.78927234,  1.2669898 ,  1.2669898 ,  1.2669898 ,\n",
       "        1.2669898 , -0.78927234, -0.78927234,  1.2669898 , -0.78927234,\n",
       "       -0.78927234, -0.78927234, -0.78927234, -0.78927234,  1.2669898 ,\n",
       "       -0.78927234, -0.78927234,  1.2669898 ,  1.2669898 ,  1.2669898 ,\n",
       "       -0.78927234,  1.2669898 , -0.78927234, -0.78927234, -0.78927234,\n",
       "        1.2669898 ,  1.2669898 , -0.78927234,  1.2669898 , -0.78927234,\n",
       "        1.2669898 , -0.78927234, -0.78927234, -0.78927234,  1.2669898 ,\n",
       "       -0.78927234,  1.2669898 , -0.78927234, -0.78927234, -0.78927234,\n",
       "        1.2669898 , -0.78927234, -0.78927234,  1.2669898 , -0.78927234,\n",
       "       -0.78927234, -0.78927234,  1.2669898 , -0.78927234, -0.78927234,\n",
       "       -0.78927234,  1.2669898 , -0.78927234, -0.78927234, -0.78927234,\n",
       "       -0.78927234, -0.78927234,  1.2669898 ,  1.2669898 , -0.78927234,\n",
       "       -0.78927234, -0.78927234, -0.78927234, -0.78927234, -0.78927234,\n",
       "        1.2669898 ,  1.2669898 ,  1.2669898 ,  1.2669898 ,  1.2669898 ,\n",
       "       -0.78927234,  1.2669898 , -0.78927234, -0.78927234, -0.78927234,\n",
       "       -0.78927234, -0.78927234,  1.2669898 ,  1.2669898 ,  1.2669898 ,\n",
       "       -0.78927234,  1.2669898 ,  1.2669898 , -0.78927234,  1.2669898 ,\n",
       "        1.2669898 , -0.78927234, -0.78927234, -0.78927234,  1.2669898 ,\n",
       "       -0.78927234, -0.78927234, -0.78927234,  1.2669898 , -0.78927234,\n",
       "       -0.78927234,  1.2669898 , -0.78927234,  1.2669898 ,  1.2669898 ,\n",
       "        1.2669898 ,  1.2669898 , -0.78927234, -0.78927234, -0.78927234,\n",
       "       -0.78927234, -0.78927234, -0.78927234,  1.2669898 ,  1.2669898 ,\n",
       "        1.2669898 ,  1.2669898 , -0.78927234,  1.2669898 , -0.78927234,\n",
       "        1.2669898 ,  1.2669898 ,  1.2669898 , -0.78927234,  1.2669898 ,\n",
       "        1.2669898 ,  1.2669898 , -0.78927234, -0.78927234, -0.78927234,\n",
       "        1.2669898 ,  1.2669898 , -0.78927234,  1.2669898 ,  1.2669898 ,\n",
       "       -0.78927234, -0.78927234,  1.2669898 ,  1.2669898 , -0.78927234,\n",
       "        1.2669898 , -0.78927234,  1.2669898 ,  1.2669898 ,  1.2669898 ,\n",
       "        1.2669898 , -0.78927234, -0.78927234, -0.78927234,  1.2669898 ,\n",
       "       -0.78927234, -0.78927234,  1.2669898 ,  1.2669898 , -0.78927234,\n",
       "        1.2669898 ,  1.2669898 , -0.78927234, -0.78927234, -0.78927234,\n",
       "        1.2669898 ,  1.2669898 ,  1.2669898 ,  1.2669898 , -0.78927234,\n",
       "       -0.78927234, -0.78927234, -0.78927234, -0.78927234, -0.78927234,\n",
       "       -0.78927234,  1.2669898 , -0.78927234,  1.2669898 ,  1.2669898 ,\n",
       "       -0.78927234, -0.78927234, -0.78927234, -0.78927234, -0.78927234,\n",
       "       -0.78927234,  1.2669898 ,  1.2669898 ,  1.2669898 ,  1.2669898 ,\n",
       "        1.2669898 , -0.78927234, -0.78927234, -0.78927234, -0.78927234,\n",
       "        1.2669898 ,  1.2669898 , -0.78927234, -0.78927234, -0.78927234,\n",
       "        1.2669898 ,  1.2669898 , -0.78927234,  1.2669898 , -0.78927234,\n",
       "       -0.78927234, -0.78927234,  1.2669898 , -0.78927234,  1.2669898 ,\n",
       "        1.2669898 ,  1.2669898 , -0.78927234,  1.2669898 ,  1.2669898 ,\n",
       "       -0.78927234, -0.78927234, -0.78927234, -0.78927234,  1.2669898 ,\n",
       "        1.2669898 , -0.78927234, -0.78927234, -0.78927234, -0.78927234,\n",
       "       -0.78927234, -0.78927234,  1.2669898 , -0.78927234, -0.78927234,\n",
       "       -0.78927234, -0.78927234,  1.2669898 , -0.78927234,  1.2669898 ,\n",
       "       -0.78927234,  1.2669898 ,  1.2669898 , -0.78927234, -0.78927234,\n",
       "       -0.78927234, -0.78927234, -0.78927234, -0.78927234, -0.78927234,\n",
       "       -0.78927234,  1.2669898 ,  1.2669898 , -0.78927234,  1.2669898 ,\n",
       "        1.2669898 ,  1.2669898 ,  1.2669898 , -0.78927234, -0.78927234,\n",
       "        1.2669898 , -0.78927234,  1.2669898 , -0.78927234, -0.78927234,\n",
       "        1.2669898 , -0.78927234, -0.78927234,  1.2669898 ,  1.2669898 ,\n",
       "        1.2669898 ,  1.2669898 ,  1.2669898 ,  1.2669898 ,  1.2669898 ,\n",
       "       -0.78927234, -0.78927234, -0.78927234,  1.2669898 , -0.78927234,\n",
       "        1.2669898 , -0.78927234,  1.2669898 ,  1.2669898 , -0.78927234,\n",
       "        1.2669898 , -0.78927234, -0.78927234, -0.78927234, -0.78927234,\n",
       "       -0.78927234, -0.78927234, -0.78927234, -0.78927234,  1.2669898 ,\n",
       "       -0.78927234, -0.78927234,  1.2669898 ,  1.2669898 , -0.78927234,\n",
       "       -0.78927234, -0.78927234, -0.78927234, -0.78927234,  1.2669898 ,\n",
       "       -0.78927234, -0.78927234, -0.78927234,  1.2669898 ,  1.2669898 ,\n",
       "       -0.78927234,  1.2669898 , -0.78927234, -0.78927234,  1.2669898 ,\n",
       "       -0.78927234, -0.78927234, -0.78927234, -0.78927234, -0.78927234,\n",
       "       -0.78927234,  1.2669898 , -0.78927234, -0.78927234, -0.78927234,\n",
       "       -0.78927234, -0.78927234, -0.78927234, -0.78927234,  1.2669898 ,\n",
       "       -0.78927234,  1.2669898 ,  1.2669898 , -0.78927234,  1.2669898 ,\n",
       "        1.2669898 , -0.78927234,  1.2669898 ,  1.2669898 , -0.78927234,\n",
       "       -0.78927234,  1.2669898 , -0.78927234,  1.2669898 , -0.78927234,\n",
       "        1.2669898 , -0.78927234, -0.78927234,  1.2669898 , -0.78927234,\n",
       "       -0.78927234,  1.2669898 , -0.78927234, -0.78927234, -0.78927234,\n",
       "        1.2669898 , -0.78927234, -0.78927234,  1.2669898 , -0.78927234,\n",
       "        1.2669898 , -0.78927234,  1.2669898 , -0.78927234,  1.2669898 ,\n",
       "        1.2669898 , -0.78927234, -0.78927234,  1.2669898 , -0.78927234,\n",
       "       -0.78927234,  1.2669898 ,  1.2669898 , -0.78927234,  1.2669898 ,\n",
       "        1.2669898 , -0.78927234, -0.78927234,  1.2669898 ,  1.2669898 ,\n",
       "       -0.78927234,  1.2669898 , -0.78927234,  1.2669898 ,  1.2669898 ,\n",
       "       -0.78927234, -0.78927234, -0.78927234, -0.78927234, -0.78927234,\n",
       "       -0.78927234, -0.78927234, -0.78927234, -0.78927234,  1.2669898 ,\n",
       "        1.2669898 ,  1.2669898 ,  1.2669898 ,  1.2669898 , -0.78927234,\n",
       "       -0.78927234,  1.2669898 ,  1.2669898 , -0.78927234,  1.2669898 ,\n",
       "        1.2669898 ,  1.2669898 , -0.78927234, -0.78927234, -0.78927234,\n",
       "        1.2669898 , -0.78927234,  1.2669898 , -0.78927234, -0.78927234,\n",
       "       -0.78927234,  1.2669898 , -0.78927234, -0.78927234, -0.78927234,\n",
       "       -0.78927234,  1.2669898 , -0.78927234, -0.78927234,  1.2669898 ,\n",
       "        1.2669898 , -0.78927234, -0.78927234, -0.78927234,  1.2669898 ,\n",
       "       -0.78927234, -0.78927234,  1.2669898 ,  1.2669898 ,  1.2669898 ,\n",
       "       -0.78927234, -0.78927234,  1.2669898 , -0.78927234, -0.78927234,\n",
       "        1.2669898 , -0.78927234, -0.78927234,  1.2669898 , -0.78927234,\n",
       "       -0.78927234,  1.2669898 ,  1.2669898 , -0.78927234, -0.78927234,\n",
       "       -0.78927234, -0.78927234,  1.2669898 , -0.78927234, -0.78927234,\n",
       "        1.2669898 , -0.78927234,  1.2669898 , -0.78927234, -0.78927234,\n",
       "        1.2669898 , -0.78927234, -0.78927234, -0.78927234, -0.78927234,\n",
       "       -0.78927234,  1.2669898 , -0.78927234,  1.2669898 ,  1.2669898 ,\n",
       "        1.2669898 , -0.78927234,  1.2669898 , -0.78927234,  1.2669898 ,\n",
       "       -0.78927234,  1.2669898 , -0.78927234,  1.2669898 , -0.78927234,\n",
       "       -0.78927234, -0.78927234, -0.78927234, -0.78927234, -0.78927234,\n",
       "        1.2669898 , -0.78927234, -0.78927234, -0.78927234,  1.2669898 ,\n",
       "       -0.78927234, -0.78927234, -0.78927234, -0.78927234,  1.2669898 ,\n",
       "        1.2669898 , -0.78927234, -0.78927234,  1.2669898 , -0.78927234,\n",
       "       -0.78927234, -0.78927234,  1.2669898 , -0.78927234,  1.2669898 ,\n",
       "       -0.78927234,  1.2669898 , -0.78927234, -0.78927234, -0.78927234,\n",
       "       -0.78927234, -0.78927234, -0.78927234, -0.78927234,  1.2669898 ,\n",
       "        1.2669898 ,  1.2669898 ,  1.2669898 , -0.78927234, -0.78927234,\n",
       "       -0.78927234, -0.78927234,  1.2669898 , -0.78927234, -0.78927234,\n",
       "        1.2669898 ,  1.2669898 , -0.78927234, -0.78927234, -0.78927234,\n",
       "       -0.78927234,  1.2669898 ,  1.2669898 ,  1.2669898 ,  1.2669898 ,\n",
       "        1.2669898 , -0.78927234,  1.2669898 , -0.78927234, -0.78927234,\n",
       "       -0.78927234,  1.2669898 ,  1.2669898 , -0.78927234, -0.78927234,\n",
       "        1.2669898 , -0.78927234, -0.78927234, -0.78927234,  1.2669898 ,\n",
       "       -0.78927234,  1.2669898 ,  1.2669898 , -0.78927234, -0.78927234,\n",
       "        1.2669898 , -0.78927234, -0.78927234, -0.78927234, -0.78927234,\n",
       "       -0.78927234, -0.78927234,  1.2669898 , -0.78927234, -0.78927234,\n",
       "        1.2669898 , -0.78927234,  1.2669898 , -0.78927234,  1.2669898 ,\n",
       "       -0.78927234, -0.78927234,  1.2669898 , -0.78927234, -0.78927234,\n",
       "        1.2669898 ,  1.2669898 , -0.78927234, -0.78927234,  1.2669898 ,\n",
       "        1.2669898 , -0.78927234, -0.78927234, -0.78927234,  1.2669898 ,\n",
       "       -0.78927234, -0.78927234,  1.2669898 ,  1.2669898 , -0.78927234,\n",
       "        1.2669898 , -0.78927234, -0.78927234, -0.78927234, -0.78927234,\n",
       "       -0.78927234, -0.78927234, -0.78927234, -0.78927234,  1.2669898 ,\n",
       "       -0.78927234, -0.78927234,  1.2669898 , -0.78927234,  1.2669898 ,\n",
       "        1.2669898 ,  1.2669898 , -0.78927234, -0.78927234, -0.78927234,\n",
       "       -0.78927234,  1.2669898 , -0.78927234,  1.2669898 , -0.78927234,\n",
       "       -0.78927234, -0.78927234, -0.78927234, -0.78927234, -0.78927234,\n",
       "       -0.78927234,  1.2669898 ,  1.2669898 , -0.78927234, -0.78927234,\n",
       "       -0.78927234,  1.2669898 ,  1.2669898 ,  1.2669898 ,  1.2669898 ,\n",
       "       -0.78927234, -0.78927234, -0.78927234, -0.78927234,  1.2669898 ,\n",
       "       -0.78927234, -0.78927234, -0.78927234, -0.78927234, -0.78927234,\n",
       "       -0.78927234, -0.78927234, -0.78927234, -0.78927234, -0.78927234,\n",
       "        1.2669898 ,  1.2669898 , -0.78927234,  1.2669898 , -0.78927234,\n",
       "       -0.78927234, -0.78927234,  1.2669898 ,  1.2669898 ,  1.2669898 ,\n",
       "        1.2669898 ,  1.2669898 , -0.78927234, -0.78927234, -0.78927234,\n",
       "        1.2669898 , -0.78927234, -0.78927234,  1.2669898 ,  1.2669898 ,\n",
       "       -0.78927234, -0.78927234,  1.2669898 , -0.78927234, -0.78927234,\n",
       "       -0.78927234, -0.78927234, -0.78927234, -0.78927234,  1.2669898 ,\n",
       "       -0.78927234, -0.78927234, -0.78927234,  1.2669898 , -0.78927234,\n",
       "        1.2669898 ,  1.2669898 ,  1.2669898 ,  1.2669898 , -0.78927234,\n",
       "       -0.78927234, -0.78927234,  1.2669898 , -0.78927234, -0.78927234,\n",
       "        1.2669898 ,  1.2669898 , -0.78927234, -0.78927234,  1.2669898 ,\n",
       "       -0.78927234,  1.2669898 , -0.78927234, -0.78927234,  1.2669898 ,\n",
       "        1.2669898 , -0.78927234, -0.78927234, -0.78927234,  1.2669898 ,\n",
       "        1.2669898 , -0.78927234, -0.78927234, -0.78927234, -0.78927234,\n",
       "       -0.78927234, -0.78927234,  1.2669898 , -0.78927234,  1.2669898 ,\n",
       "       -0.78927234])"
      ]
     },
     "execution_count": 41,
     "metadata": {},
     "output_type": "execute_result"
    }
   ],
   "source": [
    "df_scaled[:,0]"
   ]
  },
  {
   "cell_type": "code",
   "execution_count": 42,
   "metadata": {},
   "outputs": [
    {
     "data": {
      "text/plain": [
       "891"
      ]
     },
     "execution_count": 42,
     "metadata": {},
     "output_type": "execute_result"
    }
   ],
   "source": [
    "len(df_scaled[:,0])"
   ]
  },
  {
   "cell_type": "code",
   "execution_count": 32,
   "metadata": {},
   "outputs": [
    {
     "data": {
      "text/plain": [
       "array([ 0.82737724, -1.56610693,  0.82737724, -1.56610693,  0.82737724,\n",
       "        0.82737724, -1.56610693,  0.82737724,  0.82737724, -0.36936484,\n",
       "        0.82737724, -1.56610693,  0.82737724,  0.82737724,  0.82737724,\n",
       "       -0.36936484,  0.82737724, -0.36936484,  0.82737724,  0.82737724,\n",
       "       -0.36936484, -0.36936484,  0.82737724, -1.56610693,  0.82737724,\n",
       "        0.82737724,  0.82737724, -1.56610693,  0.82737724,  0.82737724,\n",
       "       -1.56610693, -1.56610693,  0.82737724, -0.36936484, -1.56610693,\n",
       "       -1.56610693,  0.82737724,  0.82737724,  0.82737724,  0.82737724,\n",
       "        0.82737724, -0.36936484,  0.82737724, -0.36936484,  0.82737724,\n",
       "        0.82737724,  0.82737724,  0.82737724,  0.82737724,  0.82737724,\n",
       "        0.82737724,  0.82737724, -1.56610693, -0.36936484, -1.56610693,\n",
       "       -1.56610693, -0.36936484,  0.82737724, -0.36936484,  0.82737724,\n",
       "        0.82737724, -1.56610693, -1.56610693,  0.82737724, -1.56610693,\n",
       "        0.82737724, -0.36936484,  0.82737724,  0.82737724,  0.82737724,\n",
       "       -0.36936484,  0.82737724, -0.36936484,  0.82737724,  0.82737724,\n",
       "        0.82737724,  0.82737724,  0.82737724, -0.36936484,  0.82737724,\n",
       "        0.82737724,  0.82737724,  0.82737724, -1.56610693, -0.36936484,\n",
       "        0.82737724,  0.82737724,  0.82737724, -1.56610693,  0.82737724,\n",
       "        0.82737724,  0.82737724, -1.56610693,  0.82737724,  0.82737724,\n",
       "        0.82737724, -1.56610693, -1.56610693, -0.36936484, -0.36936484,\n",
       "        0.82737724,  0.82737724, -1.56610693,  0.82737724,  0.82737724,\n",
       "        0.82737724,  0.82737724,  0.82737724,  0.82737724,  0.82737724,\n",
       "       -1.56610693,  0.82737724,  0.82737724,  0.82737724,  0.82737724,\n",
       "        0.82737724,  0.82737724, -0.36936484, -1.56610693,  0.82737724,\n",
       "       -0.36936484,  0.82737724, -0.36936484, -0.36936484, -1.56610693,\n",
       "        0.82737724,  0.82737724,  0.82737724,  0.82737724,  0.82737724,\n",
       "        0.82737724,  0.82737724,  0.82737724, -0.36936484, -0.36936484,\n",
       "       -0.36936484, -1.56610693, -1.56610693,  0.82737724, -1.56610693,\n",
       "        0.82737724,  0.82737724,  0.82737724,  0.82737724, -0.36936484,\n",
       "       -0.36936484,  0.82737724,  0.82737724, -0.36936484, -0.36936484,\n",
       "       -0.36936484, -1.56610693,  0.82737724,  0.82737724,  0.82737724,\n",
       "       -1.56610693,  0.82737724,  0.82737724,  0.82737724,  0.82737724,\n",
       "        0.82737724, -0.36936484,  0.82737724,  0.82737724,  0.82737724,\n",
       "        0.82737724, -1.56610693,  0.82737724, -1.56610693,  0.82737724,\n",
       "       -1.56610693,  0.82737724,  0.82737724,  0.82737724, -1.56610693,\n",
       "        0.82737724,  0.82737724, -1.56610693, -0.36936484,  0.82737724,\n",
       "        0.82737724, -0.36936484,  0.82737724, -0.36936484,  0.82737724,\n",
       "       -1.56610693,  0.82737724, -1.56610693,  0.82737724,  0.82737724,\n",
       "       -0.36936484, -0.36936484,  0.82737724, -0.36936484, -1.56610693,\n",
       "       -1.56610693,  0.82737724,  0.82737724,  0.82737724, -0.36936484,\n",
       "        0.82737724,  0.82737724,  0.82737724,  0.82737724,  0.82737724,\n",
       "        0.82737724,  0.82737724,  0.82737724,  0.82737724, -1.56610693,\n",
       "        0.82737724, -0.36936484,  0.82737724, -0.36936484,  0.82737724,\n",
       "       -1.56610693,  0.82737724, -0.36936484, -1.56610693, -0.36936484,\n",
       "        0.82737724, -0.36936484,  0.82737724,  0.82737724, -1.56610693,\n",
       "        0.82737724, -0.36936484,  0.82737724, -0.36936484,  0.82737724,\n",
       "       -1.56610693,  0.82737724, -0.36936484,  0.82737724, -0.36936484,\n",
       "        0.82737724, -0.36936484, -0.36936484, -0.36936484, -0.36936484,\n",
       "        0.82737724,  0.82737724, -0.36936484,  0.82737724,  0.82737724,\n",
       "       -1.56610693,  0.82737724, -0.36936484, -1.56610693, -0.36936484,\n",
       "        0.82737724,  0.82737724, -1.56610693,  0.82737724,  0.82737724,\n",
       "        0.82737724, -1.56610693, -1.56610693, -1.56610693, -0.36936484,\n",
       "        0.82737724,  0.82737724, -1.56610693, -1.56610693,  0.82737724,\n",
       "       -0.36936484,  0.82737724,  0.82737724, -1.56610693, -1.56610693,\n",
       "       -1.56610693,  0.82737724, -0.36936484, -1.56610693,  0.82737724,\n",
       "       -1.56610693,  0.82737724, -0.36936484,  0.82737724,  0.82737724,\n",
       "        0.82737724,  0.82737724,  0.82737724,  0.82737724, -1.56610693,\n",
       "        0.82737724,  0.82737724,  0.82737724, -0.36936484,  0.82737724,\n",
       "       -1.56610693, -1.56610693, -0.36936484,  0.82737724,  0.82737724,\n",
       "       -1.56610693,  0.82737724, -1.56610693, -1.56610693, -1.56610693,\n",
       "        0.82737724,  0.82737724,  0.82737724, -0.36936484,  0.82737724,\n",
       "       -1.56610693, -1.56610693, -1.56610693, -0.36936484, -1.56610693,\n",
       "       -1.56610693, -1.56610693, -0.36936484,  0.82737724, -0.36936484,\n",
       "        0.82737724, -0.36936484, -0.36936484, -1.56610693, -1.56610693,\n",
       "        0.82737724,  0.82737724, -0.36936484, -0.36936484,  0.82737724,\n",
       "       -1.56610693,  0.82737724, -0.36936484,  0.82737724, -1.56610693,\n",
       "        0.82737724, -1.56610693, -1.56610693,  0.82737724, -1.56610693,\n",
       "        0.82737724, -1.56610693, -1.56610693,  0.82737724, -1.56610693,\n",
       "       -0.36936484, -1.56610693, -0.36936484, -0.36936484, -0.36936484,\n",
       "       -0.36936484, -0.36936484,  0.82737724,  0.82737724,  0.82737724,\n",
       "        0.82737724, -1.56610693,  0.82737724,  0.82737724,  0.82737724,\n",
       "        0.82737724, -1.56610693, -0.36936484,  0.82737724,  0.82737724,\n",
       "        0.82737724, -0.36936484,  0.82737724,  0.82737724,  0.82737724,\n",
       "        0.82737724, -1.56610693,  0.82737724,  0.82737724, -1.56610693,\n",
       "       -1.56610693,  0.82737724,  0.82737724, -1.56610693,  0.82737724,\n",
       "       -1.56610693,  0.82737724, -1.56610693,  0.82737724,  0.82737724,\n",
       "       -1.56610693,  0.82737724,  0.82737724, -1.56610693,  0.82737724,\n",
       "       -0.36936484,  0.82737724, -0.36936484,  0.82737724, -0.36936484,\n",
       "       -1.56610693,  0.82737724,  0.82737724, -1.56610693,  0.82737724,\n",
       "        0.82737724,  0.82737724, -0.36936484, -0.36936484, -0.36936484,\n",
       "        0.82737724,  0.82737724,  0.82737724,  0.82737724,  0.82737724,\n",
       "       -0.36936484,  0.82737724, -0.36936484,  0.82737724,  0.82737724,\n",
       "        0.82737724,  0.82737724, -1.56610693, -0.36936484,  0.82737724,\n",
       "        0.82737724, -0.36936484, -0.36936484, -0.36936484,  0.82737724,\n",
       "        0.82737724,  0.82737724,  0.82737724,  0.82737724,  0.82737724,\n",
       "        0.82737724, -0.36936484, -0.36936484,  0.82737724,  0.82737724,\n",
       "       -1.56610693,  0.82737724, -0.36936484,  0.82737724, -1.56610693,\n",
       "       -1.56610693,  0.82737724, -0.36936484, -1.56610693, -0.36936484,\n",
       "       -0.36936484,  0.82737724,  0.82737724, -0.36936484,  0.82737724,\n",
       "       -1.56610693, -0.36936484, -1.56610693,  0.82737724, -1.56610693,\n",
       "       -0.36936484,  0.82737724, -1.56610693, -1.56610693,  0.82737724,\n",
       "        0.82737724, -1.56610693, -1.56610693, -0.36936484,  0.82737724,\n",
       "       -1.56610693,  0.82737724, -1.56610693, -0.36936484,  0.82737724,\n",
       "        0.82737724, -0.36936484, -1.56610693,  0.82737724,  0.82737724,\n",
       "        0.82737724,  0.82737724, -0.36936484, -0.36936484,  0.82737724,\n",
       "       -1.56610693, -0.36936484,  0.82737724,  0.82737724,  0.82737724,\n",
       "        0.82737724, -0.36936484,  0.82737724,  0.82737724, -1.56610693,\n",
       "        0.82737724, -1.56610693, -1.56610693,  0.82737724,  0.82737724,\n",
       "        0.82737724,  0.82737724, -1.56610693, -1.56610693,  0.82737724,\n",
       "        0.82737724, -1.56610693,  0.82737724, -1.56610693,  0.82737724,\n",
       "        0.82737724,  0.82737724,  0.82737724,  0.82737724, -1.56610693,\n",
       "       -1.56610693, -0.36936484, -1.56610693,  0.82737724,  0.82737724,\n",
       "        0.82737724,  0.82737724, -1.56610693, -1.56610693,  0.82737724,\n",
       "       -1.56610693, -0.36936484,  0.82737724, -0.36936484,  0.82737724,\n",
       "       -1.56610693,  0.82737724,  0.82737724, -1.56610693,  0.82737724,\n",
       "        0.82737724, -0.36936484, -1.56610693,  0.82737724, -0.36936484,\n",
       "       -0.36936484,  0.82737724,  0.82737724,  0.82737724,  0.82737724,\n",
       "       -0.36936484, -1.56610693, -1.56610693,  0.82737724, -1.56610693,\n",
       "       -1.56610693,  0.82737724,  0.82737724, -0.36936484, -1.56610693,\n",
       "       -1.56610693, -0.36936484, -0.36936484,  0.82737724, -0.36936484,\n",
       "       -1.56610693, -0.36936484,  0.82737724,  0.82737724,  0.82737724,\n",
       "       -1.56610693, -1.56610693, -1.56610693, -1.56610693,  0.82737724,\n",
       "        0.82737724,  0.82737724, -0.36936484,  0.82737724,  0.82737724,\n",
       "        0.82737724,  0.82737724,  0.82737724,  0.82737724,  0.82737724,\n",
       "       -0.36936484, -1.56610693, -1.56610693,  0.82737724,  0.82737724,\n",
       "        0.82737724, -0.36936484, -1.56610693,  0.82737724,  0.82737724,\n",
       "       -0.36936484, -1.56610693, -0.36936484, -1.56610693,  0.82737724,\n",
       "       -1.56610693, -0.36936484, -1.56610693,  0.82737724,  0.82737724,\n",
       "        0.82737724, -1.56610693,  0.82737724,  0.82737724, -0.36936484,\n",
       "        0.82737724, -0.36936484,  0.82737724,  0.82737724, -1.56610693,\n",
       "       -0.36936484,  0.82737724, -1.56610693,  0.82737724, -1.56610693,\n",
       "        0.82737724,  0.82737724, -1.56610693, -0.36936484, -1.56610693,\n",
       "        0.82737724,  0.82737724,  0.82737724,  0.82737724,  0.82737724,\n",
       "       -0.36936484,  0.82737724,  0.82737724, -0.36936484, -0.36936484,\n",
       "        0.82737724, -1.56610693,  0.82737724,  0.82737724,  0.82737724,\n",
       "       -1.56610693, -0.36936484, -1.56610693,  0.82737724,  0.82737724,\n",
       "       -1.56610693,  0.82737724, -1.56610693, -1.56610693,  0.82737724,\n",
       "       -0.36936484,  0.82737724, -0.36936484,  0.82737724,  0.82737724,\n",
       "        0.82737724, -1.56610693,  0.82737724,  0.82737724,  0.82737724,\n",
       "       -1.56610693,  0.82737724, -1.56610693,  0.82737724,  0.82737724,\n",
       "        0.82737724, -0.36936484,  0.82737724,  0.82737724,  0.82737724,\n",
       "       -0.36936484,  0.82737724,  0.82737724, -0.36936484, -1.56610693,\n",
       "       -1.56610693,  0.82737724, -1.56610693,  0.82737724,  0.82737724,\n",
       "       -0.36936484, -0.36936484,  0.82737724,  0.82737724, -1.56610693,\n",
       "       -0.36936484, -1.56610693, -0.36936484, -0.36936484, -0.36936484,\n",
       "        0.82737724,  0.82737724,  0.82737724,  0.82737724, -1.56610693,\n",
       "        0.82737724, -1.56610693,  0.82737724,  0.82737724, -0.36936484,\n",
       "       -0.36936484,  0.82737724,  0.82737724,  0.82737724, -1.56610693,\n",
       "       -1.56610693,  0.82737724,  0.82737724,  0.82737724, -1.56610693,\n",
       "       -0.36936484,  0.82737724,  0.82737724, -1.56610693,  0.82737724,\n",
       "       -1.56610693, -1.56610693,  0.82737724,  0.82737724,  0.82737724,\n",
       "       -0.36936484, -0.36936484, -1.56610693, -1.56610693,  0.82737724,\n",
       "       -1.56610693, -1.56610693, -1.56610693,  0.82737724, -0.36936484,\n",
       "        0.82737724, -1.56610693, -0.36936484,  0.82737724,  0.82737724,\n",
       "       -0.36936484,  0.82737724, -0.36936484, -0.36936484, -1.56610693,\n",
       "        0.82737724, -0.36936484,  0.82737724, -0.36936484,  0.82737724,\n",
       "       -1.56610693,  0.82737724, -0.36936484, -0.36936484, -0.36936484,\n",
       "        0.82737724,  0.82737724, -1.56610693,  0.82737724,  0.82737724,\n",
       "       -1.56610693, -1.56610693, -1.56610693,  0.82737724,  0.82737724,\n",
       "       -1.56610693,  0.82737724, -0.36936484, -1.56610693,  0.82737724,\n",
       "       -0.36936484,  0.82737724,  0.82737724,  0.82737724, -0.36936484,\n",
       "       -0.36936484,  0.82737724, -0.36936484,  0.82737724, -1.56610693,\n",
       "        0.82737724,  0.82737724,  0.82737724, -1.56610693,  0.82737724,\n",
       "       -1.56610693, -1.56610693,  0.82737724,  0.82737724,  0.82737724,\n",
       "        0.82737724,  0.82737724, -0.36936484,  0.82737724, -0.36936484,\n",
       "        0.82737724,  0.82737724,  0.82737724,  0.82737724, -1.56610693,\n",
       "        0.82737724, -1.56610693, -1.56610693,  0.82737724,  0.82737724,\n",
       "        0.82737724,  0.82737724,  0.82737724,  0.82737724, -1.56610693,\n",
       "        0.82737724, -0.36936484,  0.82737724, -1.56610693,  0.82737724,\n",
       "       -0.36936484, -1.56610693,  0.82737724,  0.82737724,  0.82737724,\n",
       "       -0.36936484, -0.36936484, -1.56610693,  0.82737724,  0.82737724,\n",
       "        0.82737724, -1.56610693,  0.82737724, -0.36936484, -1.56610693,\n",
       "        0.82737724,  0.82737724, -0.36936484,  0.82737724,  0.82737724,\n",
       "       -1.56610693,  0.82737724, -0.36936484,  0.82737724,  0.82737724,\n",
       "       -1.56610693,  0.82737724, -1.56610693,  0.82737724,  0.82737724,\n",
       "        0.82737724,  0.82737724, -0.36936484,  0.82737724, -1.56610693,\n",
       "        0.82737724, -0.36936484,  0.82737724,  0.82737724,  0.82737724,\n",
       "       -1.56610693,  0.82737724,  0.82737724,  0.82737724, -1.56610693,\n",
       "        0.82737724, -0.36936484, -1.56610693,  0.82737724,  0.82737724,\n",
       "        0.82737724,  0.82737724,  0.82737724, -0.36936484, -1.56610693,\n",
       "        0.82737724,  0.82737724,  0.82737724, -1.56610693, -0.36936484,\n",
       "        0.82737724, -1.56610693, -1.56610693,  0.82737724,  0.82737724,\n",
       "        0.82737724, -0.36936484, -1.56610693,  0.82737724, -0.36936484,\n",
       "       -0.36936484, -0.36936484, -1.56610693,  0.82737724,  0.82737724,\n",
       "        0.82737724, -1.56610693, -1.56610693,  0.82737724, -0.36936484,\n",
       "        0.82737724,  0.82737724,  0.82737724,  0.82737724, -1.56610693,\n",
       "       -0.36936484,  0.82737724,  0.82737724, -0.36936484,  0.82737724,\n",
       "        0.82737724, -0.36936484, -1.56610693,  0.82737724, -1.56610693,\n",
       "        0.82737724])"
      ]
     },
     "execution_count": 32,
     "metadata": {},
     "output_type": "execute_result"
    }
   ],
   "source": [
    "df_scaled[:,1]"
   ]
  },
  {
   "cell_type": "code",
   "execution_count": 34,
   "metadata": {},
   "outputs": [
    {
     "data": {
      "text/plain": [
       "891"
      ]
     },
     "execution_count": 34,
     "metadata": {},
     "output_type": "execute_result"
    }
   ],
   "source": [
    "len(df_scaled[:,1])"
   ]
  },
  {
   "cell_type": "code",
   "execution_count": 43,
   "metadata": {},
   "outputs": [
    {
     "data": {
      "text/plain": [
       "(array([216.,   0.,   0.,   0.,   0.,   0.,   0.,   0.,   0.,   0., 184.,\n",
       "          0.,   0.,   0.,   0.,   0.,   0.,   0.,   0., 491.]),\n",
       " array([-1.56610693, -1.44643272, -1.32675851, -1.2070843 , -1.08741009,\n",
       "        -0.96773588, -0.84806167, -0.72838747, -0.60871326, -0.48903905,\n",
       "        -0.36936484, -0.24969063, -0.13001642, -0.01034222,  0.10933199,\n",
       "         0.2290062 ,  0.34868041,  0.46835462,  0.58802883,  0.70770304,\n",
       "         0.82737724]),\n",
       " <BarContainer object of 20 artists>)"
      ]
     },
     "execution_count": 43,
     "metadata": {},
     "output_type": "execute_result"
    },
    {
     "data": {
      "image/png": "[encoded data removed]",
      "text/plain": [
       "<Figure size 640x480 with 1 Axes>"
      ]
     },
     "metadata": {},
     "output_type": "display_data"
    }
   ],
   "source": [
    "plt.hist(df_scaled[:,1],bins=20)"
   ]
  },
  {
   "cell_type": "code",
   "execution_count": 47,
   "metadata": {},
   "outputs": [
    {
     "data": {
      "text/plain": [
       "array([-0.56573646,  0.66386103, -0.25833709,  0.4333115 ,  0.4333115 ,\n",
       "       -0.1046374 ,  1.89345853, -2.10273333, -0.18148724, -1.18053521,\n",
       "       -1.94903364,  2.2008579 , -0.71943615,  0.74071088, -1.18053521,\n",
       "        1.97030837, -2.10273333, -0.1046374 ,  0.12591213, -0.1046374 ,\n",
       "        0.4333115 ,  0.35646166, -1.10368536, -0.1046374 , -1.64163427,\n",
       "        0.66386103, -0.1046374 , -0.79628599, -0.1046374 , -0.1046374 ,\n",
       "        0.81756072, -0.1046374 , -0.1046374 ,  2.81565665, -0.1046374 ,\n",
       "        0.97126041, -0.1046374 , -0.6425863 , -0.87313583, -1.18053521,\n",
       "        0.81756072, -0.18148724, -0.1046374 , -2.02588348, -0.79628599,\n",
       "       -0.1046374 , -0.1046374 , -0.1046374 , -0.1046374 , -0.87313583,\n",
       "       -1.71848411, -0.6425863 ,  1.50920931, -0.02778756,  2.7388068 ,\n",
       "       -0.1046374 , -0.6425863 , -0.06621248, -1.8721838 , -1.41108474,\n",
       "       -0.56573646,  0.66386103,  1.20180994, -1.94903364, -0.1046374 ,\n",
       "       -0.1046374 , -0.02778756, -0.79628599, -0.94998568, -0.25833709,\n",
       "        0.20276197, -1.02683552, -0.6425863 , -0.25833709,  0.20276197,\n",
       "       -0.33518693, -0.1046374 , -0.1046374 , -2.19264764,  0.04906229,\n",
       "       -0.56573646, -0.02778756, -0.1046374 , -0.1046374 , -0.94998568,\n",
       "        0.27961182, -1.02683552, -0.1046374 , -0.48888662, -0.41203677,\n",
       "       -0.02778756, -0.71943615,  1.27865978, -0.25833709,  2.27770774,\n",
       "       -0.1046374 ,  3.19990586, -0.48888662,  0.35646166,  0.35646166,\n",
       "       -0.1046374 , -0.1046374 , -0.6425863 ,  0.27961182,  0.58701119,\n",
       "       -0.1046374 , -0.6425863 , -0.1046374 ,  0.66386103, -0.1046374 ,\n",
       "        1.35550962, -1.14211029, -0.56573646, -0.71943615, -0.94998568,\n",
       "       -0.6425863 ,  3.16148094, -0.02778756, -0.41203677, -2.10273333,\n",
       "       -0.6425863 , -0.1046374 ,  0.24118689,  0.24118689,  1.89345853,\n",
       "       -1.33423489, -0.1046374 , -0.41203677, -0.1046374 ,  1.20180994,\n",
       "        0.27961182, -0.71943615,  1.35550962, -0.02778756, -0.33518693,\n",
       "       -0.48888662, -0.79628599,  0.58701119, -1.02683552, -0.41203677,\n",
       "       -0.1046374 , -0.56573646, -0.41203677, -0.79628599, -0.87313583,\n",
       "       -0.79628599, -0.18148724, -1.56478442,  0.54858627,  0.97126041,\n",
       "        1.662909  , -0.56573646,  2.00873329,  0.85598564, -0.1046374 ,\n",
       "        1.662909  , -1.02683552,  0.04906229, -0.1046374 , -0.1046374 ,\n",
       "        1.12496009,  0.81756072, -0.25833709, -0.94998568, -2.17958317,\n",
       "       -1.56478442, -0.1046374 ,  1.20180994, -0.1046374 , -0.1046374 ,\n",
       "        2.43140743, -1.94903364, -2.17958317, -0.6425863 ,  2.04715821,\n",
       "       -0.87313583, -0.1046374 ,  1.58605915,  0.04906229,  0.51016135,\n",
       "       -0.1046374 , -0.1046374 , -1.56478442, -2.17958317, -1.94903364,\n",
       "       -0.1046374 , -0.1046374 ,  1.20180994,  0.81756072,  0.51016135,\n",
       "        0.20276197, -0.79628599, -0.79628599, -2.02588348,  1.12496009,\n",
       "        2.2008579 , -0.1046374 ,  0.97126041, -0.1046374 , -0.41203677,\n",
       "       -0.1046374 , -0.1046374 ,  0.35646166,  1.24023486, -0.87313583,\n",
       "       -2.10273333,  0.20276197, -0.25833709, -1.02683552,  0.81756072,\n",
       "       -0.41203677,  0.4333115 , -0.56573646,  0.04906229, -0.1046374 ,\n",
       "        0.12591213, -0.18148724,  0.97126041,  0.20276197,  0.04906229,\n",
       "       -1.02683552, -0.18148724,  1.662909  , -0.1046374 ,  0.66386103,\n",
       "       -0.56573646, -0.79628599, -0.68101123, -0.87313583, -0.1046374 ,\n",
       "        0.4333115 , -0.02778756,  2.27770774, -1.8721838 , -0.41203677,\n",
       "       -0.1046374 ,  1.12496009, -1.64163427, -0.79628599,  0.27961182,\n",
       "       -0.1046374 , -0.1046374 , -0.02778756, -0.56573646,  0.04906229,\n",
       "        1.12496009, -0.33518693, -0.41203677,  0.58701119,  1.89345853,\n",
       "       -0.1046374 , -0.02778756,  2.50825727,  0.04906229,  0.89441056,\n",
       "       -0.02778756, -0.1046374 ,  0.04906229,  0.4333115 ,  1.58605915,\n",
       "       -0.1046374 , -2.02588348,  1.73975884,  0.81756072, -0.1046374 ,\n",
       "        0.51016135, -1.02683552, -0.33518693,  2.2008579 ,  0.4333115 ,\n",
       "       -0.1046374 , -0.33518693,  0.89441056,  0.58701119, -0.1046374 ,\n",
       "        2.58510712,  1.20180994, -0.1046374 , -1.71848411,  0.4333115 ,\n",
       "        2.7388068 , -0.1046374 , -1.02683552, -0.79628599, -0.1046374 ,\n",
       "        0.27961182,  0.04906229, -0.56573646,  0.97126041, -0.56573646,\n",
       "       -0.25833709, -0.79628599,  0.51016135, -0.41203677, -0.41203677,\n",
       "       -0.1046374 , -0.4504617 , -2.10273333, -0.1046374 ,  1.58605915,\n",
       "       -0.1046374 , -0.1046374 , -0.79628599, -0.1046374 , -0.1046374 ,\n",
       "       -2.18573116, -0.1046374 , -0.94998568,  0.04906229,  0.04906229,\n",
       "       -0.41203677, -0.87313583, -0.25833709, -0.1046374 ,  1.04811025,\n",
       "       -0.25833709, -0.41203677,  1.89345853,  0.12591213,  0.81756072,\n",
       "       -0.56573646, -0.18148724,  0.04906229, -0.56573646, -0.1046374 ,\n",
       "        0.51016135,  2.43140743,  0.51016135,  0.12591213, -1.02683552,\n",
       "       -0.1046374 ,  1.24023486,  0.66386103, -1.02683552, -0.1046374 ,\n",
       "       -0.1046374 , -0.02778756,  0.89441056,  1.20180994,  1.20180994,\n",
       "       -2.10273333, -0.41203677, -0.1046374 , -0.33518693,  0.51016135,\n",
       "       -0.41203677,  0.81756072, -0.1046374 , -2.02588348,  0.97126041,\n",
       "       -0.48888662, -0.1046374 , -1.10368536, -0.33518693, -0.1046374 ,\n",
       "       -0.1046374 , -0.56573646,  0.66386103, -0.1046374 , -0.1046374 ,\n",
       "        0.81756072, -0.02778756,  1.20180994,  0.4333115 , -0.1046374 ,\n",
       "        0.04906229,  2.35455759, -0.1046374 , -0.1046374 , -0.41203677,\n",
       "       -0.33518693, -0.87313583, -0.79628599, -0.56573646, -2.02588348,\n",
       "       -0.1046374 , -0.56573646, -0.18148724, -0.71943615, -0.79628599,\n",
       "        0.97126041, -2.17958317,  0.20276197,  0.4333115 , -0.1046374 ,\n",
       "       -0.87313583, -2.17958317,  0.51016135, -0.1046374 , -0.94998568,\n",
       "        0.51016135, -0.6425863 , -0.1046374 , -0.48888662, -0.41203677,\n",
       "       -0.56573646,  0.12591213,  1.27865978, -0.48888662, -0.1046374 ,\n",
       "        0.74071088, -0.25833709, -0.6425863 , -0.1046374 , -0.71943615,\n",
       "        0.35646166,  1.662909  , -2.02588348, -0.6425863 , -0.1046374 ,\n",
       "       -0.1046374 , -0.1046374 ,  0.27961182, -0.1046374 ,  1.12496009,\n",
       "       -0.1046374 ,  0.35646166, -0.87313583,  0.04906229, -1.48793458,\n",
       "       -0.1046374 , -0.6425863 , -0.02778756, -0.1046374 , -0.87313583,\n",
       "       -0.1046374 , -0.1046374 , -0.79628599, -0.1046374 ,  0.20276197,\n",
       "       -0.1046374 , -0.1046374 ,  0.97126041, -0.94998568,  1.58605915,\n",
       "       -1.18053521, -0.6425863 , -0.41203677,  2.66195696,  0.12591213,\n",
       "        1.20180994, -0.71943615, -0.33518693, -0.1046374 , -0.1046374 ,\n",
       "       -1.94903364, -1.25738505,  0.35646166, -1.8721838 ,  1.73975884,\n",
       "        0.51016135, -0.1046374 ,  0.04906229,  1.50920931, -0.1046374 ,\n",
       "       -0.02778756,  2.7388068 , -0.1046374 ,  1.58605915, -0.1046374 ,\n",
       "        1.43235947,  0.35646166,  1.35550962,  1.43235947, -0.1046374 ,\n",
       "        0.66386103, -0.1046374 ,  2.04715821, -0.1046374 , -2.19879563,\n",
       "       -0.1046374 ,  0.66386103,  0.27961182, -0.48888662, -0.56573646,\n",
       "       -0.1046374 ,  0.35646166, -0.02778756, -0.56573646, -2.10273333,\n",
       "       -1.56478442, -0.1046374 ,  1.58605915,  2.58510712, -0.33518693,\n",
       "       -0.1046374 ,  0.4333115 ,  2.2008579 ,  0.04906229, -1.56478442,\n",
       "       -0.1046374 , -0.6425863 ,  1.97030837,  3.19990586, -0.6425863 ,\n",
       "       -0.1046374 ,  1.89345853, -0.1046374 , -0.33518693, -0.41203677,\n",
       "       -0.94998568, -0.6425863 , -0.1046374 ,  0.58701119, -1.02683552,\n",
       "       -0.87313583,  0.27961182, -0.1046374 , -0.1046374 , -0.25833709,\n",
       "       -0.02778756, -0.1046374 ,  0.51016135,  1.89345853, -0.41203677,\n",
       "        1.35550962,  0.35646166, -0.1046374 ,  0.51016135,  0.20276197,\n",
       "        0.04906229, -0.56573646, -0.1046374 ,  1.12496009, -0.1046374 ,\n",
       "        0.85598564,  1.58605915, -0.1046374 ,  0.74071088, -0.48888662,\n",
       "       -2.10273333, -0.1046374 , -0.94998568, -0.1046374 ,  0.04906229,\n",
       "       -1.71848411,  1.20180994,  0.04906229, -0.1046374 , -0.56573646,\n",
       "        0.51016135, -1.56478442, -1.41108474,  0.20276197,  1.58605915,\n",
       "        2.66195696, -0.79628599, -0.1046374 ,  0.27961182, -1.64163427,\n",
       "       -0.94998568, -0.18148724, -0.1046374 , -0.56573646, -0.56573646,\n",
       "        2.50825727,  1.43235947, -0.1046374 ,  0.74071088,  0.51016135,\n",
       "       -0.1046374 ,  0.81756072, -0.1046374 , -0.1046374 , -0.1046374 ,\n",
       "       -0.41203677, -0.79628599, -0.02778756, -0.1046374 ,  0.20276197,\n",
       "        2.50825727,  1.81660868,  0.51016135, -0.1046374 , -1.02683552,\n",
       "       -0.79628599,  0.35646166,  0.74071088, -0.1046374 ,  0.20276197,\n",
       "       -0.33518693,  0.74071088,  1.89345853,  0.51016135, -0.1046374 ,\n",
       "       -0.87313583,  1.35550962,  2.35455759, -0.56573646, -0.1046374 ,\n",
       "        0.4333115 ,  1.73975884,  1.35550962, -0.1046374 ,  0.58701119,\n",
       "        0.51016135, -0.1046374 ,  1.50920931, -0.1046374 ,  1.50920931,\n",
       "       -0.41203677, -0.1046374 , -0.1046374 ,  1.12496009,  0.4333115 ,\n",
       "        0.51016135,  0.04906229, -0.18148724, -0.56573646,  0.81756072,\n",
       "        0.74071088, -0.1046374 , -0.1046374 , -0.1046374 ,  0.4333115 ,\n",
       "       -0.41203677,  0.35646166, -0.25833709, -1.94903364, -0.25833709,\n",
       "       -0.18148724,  0.97126041, -0.71943615, -0.6425863 , -0.6425863 ,\n",
       "        2.43140743,  2.12400806, -0.6425863 , -0.25833709, -0.1046374 ,\n",
       "        3.89155445,  1.662909  ,  0.20276197, -0.1046374 , -1.56478442,\n",
       "       -0.1046374 ,  0.20276197,  0.12591213,  0.89441056, -0.1046374 ,\n",
       "       -0.71943615, -0.41203677, -2.10273333, -0.1046374 , -2.19879563,\n",
       "        1.43235947, -0.79628599,  2.04715821, -0.1046374 , -0.48888662,\n",
       "       -0.1046374 , -0.87313583, -0.6425863 , -0.1046374 , -0.87313583,\n",
       "       -0.41203677, -0.1046374 ,  0.20276197, -0.48888662,  2.2008579 ,\n",
       "        1.58605915,  0.81756072,  1.35550962,  0.51016135, -0.71943615,\n",
       "        0.20276197, -0.33518693, -0.1046374 ,  1.04811025, -0.1046374 ,\n",
       "        0.81756072,  0.12591213,  3.12305602,  0.12591213, -0.1046374 ,\n",
       "       -0.87313583, -0.37361185, -0.87313583,  1.04811025,  0.51016135,\n",
       "       -0.1046374 , -0.18148724, -0.71943615, -1.18053521,  2.35455759,\n",
       "       -0.33518693, -1.18053521, -0.79628599, -0.87313583, -1.10368536,\n",
       "        0.12591213, -1.94903364, -0.1046374 , -0.33518693,  2.35455759,\n",
       "        1.73975884,  1.12496009, -0.1046374 ,  1.50920931,  0.97126041,\n",
       "       -0.87313583,  0.4333115 , -0.87313583, -0.33518693, -0.25833709,\n",
       "        0.74071088,  1.20180994,  0.97126041, -0.56573646, -0.1046374 ,\n",
       "       -0.41203677, -0.1046374 ,  1.43235947, -0.02778756,  1.73975884,\n",
       "       -0.79628599,  0.66386103, -0.18148724, -0.1046374 ,  0.27961182,\n",
       "       -1.79533395, -0.94998568,  0.35646166,  1.58605915, -0.18148724,\n",
       "       -0.71943615,  0.04906229, -0.1046374 , -0.33518693, -0.33518693,\n",
       "       -0.02778756, -1.41108474, -0.1046374 , -0.48888662, -0.48888662,\n",
       "       -0.06621248,  1.43235947,  0.4333115 , -0.1046374 , -0.1046374 ,\n",
       "       -0.1046374 ,  0.51016135, -0.6425863 , -0.41203677,  0.12591213,\n",
       "        3.12305602, -1.02683552,  0.04906229, -0.79628599,  0.12591213,\n",
       "       -1.94903364, -1.79533395,  0.27961182, -0.48888662,  1.43235947,\n",
       "       -2.20494362, -0.1046374 , -0.87313583,  0.35646166,  0.27961182,\n",
       "       -0.1046374 ,  0.89441056, -0.71943615,  0.51016135, -1.02683552,\n",
       "        1.662909  , -0.1046374 ,  0.08748721, -0.1046374 ,  0.20276197,\n",
       "       -0.41203677,  1.43235947,  2.12400806, -0.1046374 ,  1.89345853,\n",
       "       -0.87313583, -0.1046374 , -1.8721838 , -0.1046374 ,  1.04811025,\n",
       "       -1.25738505, -0.94998568, -0.02778756, -0.1046374 , -0.33518693,\n",
       "       -0.33518693, -0.87313583, -1.64163427, -2.17958317,  1.27865978,\n",
       "       -0.1046374 , -1.02683552, -0.1046374 , -0.1046374 , -0.33518693,\n",
       "        0.74071088,  1.50920931,  0.12591213,  0.04906229,  0.04906229,\n",
       "        0.35646166,  0.12591213, -1.41108474, -2.22415608, -0.18148724,\n",
       "        0.12591213,  0.74071088, -0.87313583,  0.74071088,  0.27961182,\n",
       "       -0.25833709,  0.74071088,  0.4333115 , -1.79533395,  0.08748721,\n",
       "       -0.1046374 , -0.48888662,  0.12591213,  1.04811025, -1.48793458,\n",
       "        1.73975884, -0.18148724,  0.66386103, -0.18148724, -2.10273333,\n",
       "       -0.1046374 , -0.1046374 , -2.17958317, -0.1046374 ,  2.50825727,\n",
       "       -1.10368536, -2.19264764, -0.1046374 , -0.48888662, -0.87313583,\n",
       "        0.74071088, -0.6425863 , -0.1046374 ,  0.20276197, -0.1046374 ,\n",
       "       -0.71943615, -1.02683552,  0.04906229,  0.39488658, -0.94998568,\n",
       "        0.97126041, -0.1046374 ,  0.4333115 , -0.1046374 , -0.1046374 ,\n",
       "       -1.94903364,  3.43045539, -1.56478442, -1.02683552,  1.12496009,\n",
       "       -0.87313583,  1.20180994,  1.662909  , -0.41203677, -0.1046374 ,\n",
       "        0.89441056, -0.6425863 ,  1.43235947, -0.1046374 , -0.41203677,\n",
       "        0.97126041, -0.18148724,  0.12591213, -0.1046374 , -1.94903364,\n",
       "       -0.25833709,  1.35550962,  0.27961182,  1.35550962, -0.1046374 ,\n",
       "       -1.10368536, -0.71943615, -0.79628599, -0.1046374 ,  2.04715821,\n",
       "       -0.33518693,  0.27961182, -0.56573646, -0.1046374 , -0.33518693,\n",
       "        0.74071088, -0.18148724, -0.79628599, -0.1046374 , -0.25833709,\n",
       "        0.20276197])"
      ]
     },
     "execution_count": 47,
     "metadata": {},
     "output_type": "execute_result"
    }
   ],
   "source": [
    "df_scaled[:,2]"
   ]
  },
  {
   "cell_type": "code",
   "execution_count": 44,
   "metadata": {},
   "outputs": [
    {
     "data": {
      "text/plain": [
       "(array([ 40.,  14.,  15.,  31.,  79.,  98., 262.,  84.,  73.,  45.,  35.,\n",
       "         35.,  29.,  16.,  13.,  11.,   4.,   5.,   1.,   1.]),\n",
       " array([-2.22415608, -1.91837055, -1.61258503, -1.3067995 , -1.00101397,\n",
       "        -0.69522845, -0.38944292, -0.08365739,  0.22212813,  0.52791366,\n",
       "         0.83369919,  1.13948471,  1.44527024,  1.75105577,  2.05684129,\n",
       "         2.36262682,  2.66841235,  2.97419787,  3.2799834 ,  3.58576892,\n",
       "         3.89155445]),\n",
       " <BarContainer object of 20 artists>)"
      ]
     },
     "execution_count": 44,
     "metadata": {},
     "output_type": "execute_result"
    },
    {
     "data": {
      "image/png": "[encoded data removed]",
      "text/plain": [
       "<Figure size 640x480 with 1 Axes>"
      ]
     },
     "metadata": {},
     "output_type": "display_data"
    }
   ],
   "source": [
    "plt.hist(df_scaled[:,2],bins=20) #Age is also my second feature.\n",
    "#IN this graph u have a better gaaussian distributed \n",
    "#the reason is  that we replaced missing NaN with the mean or median "
   ]
  },
  {
   "cell_type": "code",
   "execution_count": 48,
   "metadata": {},
   "outputs": [
    {
     "data": {
      "text/plain": [
       "(array([562., 170.,  67.,  39.,  15.,  16.,   2.,   0.,   9.,   2.,   6.,\n",
       "          0.,   0.,   0.,   0.,   0.,   0.,   0.,   0.,   3.]),\n",
       " array([-0.64842165, -0.13264224,  0.38313716,  0.89891657,  1.41469598,\n",
       "         1.93047539,  2.4462548 ,  2.96203421,  3.47781362,  3.99359303,\n",
       "         4.50937244,  5.02515184,  5.54093125,  6.05671066,  6.57249007,\n",
       "         7.08826948,  7.60404889,  8.1198283 ,  8.63560771,  9.15138712,\n",
       "         9.66716653]),\n",
       " <BarContainer object of 20 artists>)"
      ]
     },
     "execution_count": 48,
     "metadata": {},
     "output_type": "execute_result"
    },
    {
     "data": {
      "image/png": "[encoded data removed]",
      "text/plain": [
       "<Figure size 640x480 with 1 Axes>"
      ]
     },
     "metadata": {},
     "output_type": "display_data"
    }
   ],
   "source": [
    "plt.hist(df_scaled[:,3],bins=20) #If u check w.r.t Fare\n",
    "#It is Right skewed.\n",
    "#Since there is a lot outliers in Fare so the transformation is starting somewhere btw -0.5 till 10\n",
    "#If there are outliers then there will be impact ono the transformation."
   ]
  },
  {
   "cell_type": "code",
   "execution_count": 49,
   "metadata": {},
   "outputs": [
    {
     "data": {
      "text/plain": [
       "(array([562., 170.,  67.,  39.,  15.,  16.,   2.,   0.,   9.,   2.,   6.,\n",
       "          0.,   0.,   0.,   0.,   0.,   0.,   0.,   0.,   3.]),\n",
       " array([  0.     ,  25.61646,  51.23292,  76.84938, 102.46584, 128.0823 ,\n",
       "        153.69876, 179.31522, 204.93168, 230.54814, 256.1646 , 281.78106,\n",
       "        307.39752, 333.01398, 358.63044, 384.2469 , 409.86336, 435.47982,\n",
       "        461.09628, 486.71274, 512.3292 ]),\n",
       " <BarContainer object of 20 artists>)"
      ]
     },
     "execution_count": 49,
     "metadata": {},
     "output_type": "execute_result"
    },
    {
     "data": {
      "image/png": "[encoded data removed]",
      "text/plain": [
       "<Figure size 640x480 with 1 Axes>"
      ]
     },
     "metadata": {},
     "output_type": "display_data"
    }
   ],
   "source": [
    "plt.hist(df['Fare'],bins=20) #This orginal Fare looks like similar when compared to transformed data.\n",
    "#See this it is also left skewed"
   ]
  },
  {
   "cell_type": "code",
   "execution_count": 50,
   "metadata": {},
   "outputs": [
    {
     "data": {
      "text/plain": [
       "(array([ 40.,  14.,  15.,  31.,  79.,  98., 262.,  84.,  73.,  45.,  35.,\n",
       "         35.,  29.,  16.,  13.,  11.,   4.,   5.,   1.,   1.]),\n",
       " array([ 0.42 ,  4.399,  8.378, 12.357, 16.336, 20.315, 24.294, 28.273,\n",
       "        32.252, 36.231, 40.21 , 44.189, 48.168, 52.147, 56.126, 60.105,\n",
       "        64.084, 68.063, 72.042, 76.021, 80.   ]),\n",
       " <BarContainer object of 20 artists>)"
      ]
     },
     "execution_count": 50,
     "metadata": {},
     "output_type": "execute_result"
    },
    {
     "data": {
      "image/png": "[encoded data removed]",
      "text/plain": [
       "<Figure size 640x480 with 1 Axes>"
      ]
     },
     "metadata": {},
     "output_type": "display_data"
    }
   ],
   "source": [
    "plt.hist(df['Age'],bins=20)"
   ]
  },
  {
   "cell_type": "raw",
   "metadata": {},
   "source": [
    "After standardization will there any chance to give left skewed or right skewed graph?\n",
    "\n",
    "Yes, even after standardization, there's still a possibility for your data distribution to exhibit a left skew or a right skew. Here's why:\n",
    "\n",
    "Standardization and Skewness\n",
    "\n",
    "What Standardization Does: Standardization primarily transforms data to have a mean of zero and a standard deviation of one. It primarily adjusts for differences in scale and the central location of the data.\n",
    "What it Doesn't Directly Address: Standardization doesn't inherently change the overall shape of the distribution, especially regarding skewness.\n",
    "Causes of Skewness after Standardization\n",
    "\n",
    "Underlying Distribution: If the original data is heavily skewed (e.g., income distribution often has a right skew), standardization will preserve this skewness. It will transform the values but will not change the fundamental shape of the distribution.\n",
    "Outliers: Outliers with extreme values can still exert a noticeable pull on the distribution even after standardization, creating a skew.\n",
    "Multimodal Distributions: If your data has multiple peaks (multimodal), standardization won't transform it into a perfectly bell-shaped normal distribution.\n",
    "Example:\n",
    "\n",
    "Imagine you have income data that's heavily right-skewed (many people earn lower salaries, and a few earn very high salaries). Standardization will scale and shift the values, but the distribution will likely remain right-skewed.\n",
    "\n",
    "How to Handle Skewness:\n",
    "\n",
    "If you're concerned about skewness after standardization, here are some approaches:\n",
    "\n",
    "Transformations: Consider using non-linear transformations (e.g., logarithmic transformation, square root transformation) to try and reduce skewness.\n",
    "Robust Statistics: Use statistical measures that are less sensitive to skewness, like median instead of mean, or interquartile range instead of standard deviation.\n",
    "Modeling: Be aware that skewed data might impact certain statistical models that assume normality. Choose models that are robust to departures from normality or can directly handle skewed data.\n",
    "The Importance of Visualization\n",
    "Always visualize your data distribution (histogram, density plot) before and after standardization to understand its shape.  This is crucial when working with machine learning or statistical models, as many have underlying assumptions about data distribution."
   ]
  },
  {
   "cell_type": "raw",
   "metadata": {},
   "source": [
    "Normal Distribution means will the graph can have left or right skewed graph?\n",
    "\n",
    "No, a normal distribution is a specific type of distribution that is symmetrical and bell-shaped. This means it's not skewed to either the left or the right. \n",
    "\n",
    "Skewness vs. Normal Distribution:\n",
    "\n",
    "Left-Skewed (Negative skew): A left-skewed distribution has a longer tail towards the left side (lower values).\n",
    "Right-Skewed (Positive skew): A right-skewed distribution has a longer tail towards the right side (higher values).\n",
    "\n",
    "Why a Normal Distribution Isn't Skewed:\n",
    "\n",
    "The symmetry of a normal distribution means an equal amount of data falls on either side of the mean.  This results in no tail being longer than the other, which is the defining characteristic of skewness.\n",
    "\n",
    "A normal distribution forms a perfect \"bell\" shape. A left-skewed graph has a stretched left tail and vice versa for a right-skewed graph."
   ]
  },
  {
   "cell_type": "raw",
   "metadata": {},
   "source": [
    "Normal Distribution:\n",
    "\n",
    "A general category of bell-shaped, symmetrical distributions.\n",
    "Can have any mean (center) and any standard deviation (spread).\n",
    "Standard Normal Distribution:\n",
    "\n",
    "A specific normal distribution with:\n",
    "Mean = 0\n",
    "Standard Deviation = 1\n",
    "Any normal distribution can be transformed into a standard normal distribution by a process called standardization.\n",
    "\n",
    "Key Points:\n",
    "\n",
    "All standard normal distributions are normal distributions, but not all normal distributions are standard normal distributions.\n",
    "The term \"Standard\" refers to the specific mean of 0 and standard deviation of 1. This allows for easy comparison and calculations of probabilities using the standard normal table (also known as the Z-table).\n",
    "\n",
    "Why is the Standard Normal Distribution Important?\n",
    "\n",
    "Standardization: Any normal distribution can be converted to the standard normal distribution by subtracting the mean (shifting its center to 0) and dividing by the standard deviation (giving it a spread of 1). This makes calculating probabilities and comparing different distributions easier."
   ]
  },
  {
   "cell_type": "raw",
   "metadata": {},
   "source": [
    "So standard normal distribution contains bell shaped curve right?\n",
    "\n",
    "Yes, absolutely! The standard normal distribution, like any normal distribution, exhibits the characteristic bell-shaped curve.  Here's why:\n",
    "\n",
    "Key features of the standard normal distribution's bell-shaped curve:\n",
    "\n",
    "Symmetry: The curve is perfectly symmetrical around the mean, which is 0.\n",
    "Peak: The peak of the curve occurs at the mean, representing the most frequent value (the mode).\n",
    "Tails: The curve has tails that extend gradually to the left and right, representing decreasing probabilities of more extreme values.\n",
    "Area under the Curve: The total area under the standard normal distribution curve is always equal to 1 (represents the sum of all probabilities).\n",
    "Importance of the Bell Curve\n",
    "\n",
    "The bell curve of the standard normal distribution is a fundamental concept in Statistics.  Many natural phenomena and real-world data follow an approximately normal distribution, making it an incredibly useful tool for:\n",
    "\n",
    "Modeling and prediction: Helps model how values might be distributed across a population.\n",
    "Hypothesis Testing: Provides a baseline for statistical comparisons.\n",
    "Probability calculations: Facilitates finding the probability of events within a given range."
   ]
  },
  {
   "cell_type": "markdown",
   "metadata": {},
   "source": [
    "##### Min Max Scaling  (Widely used in CNN)---Deep Learning Techniques\n",
    "* Min Max Scaling scales(Transforms) the values between 0 to 1.\n",
    "* X_scaled = (X - X.min / (X.max - X.min)\n",
    "* X is a feature it will take each and every point and subtract with X.min value and then divided by (X.max - X.min)\n",
    "* It works well with CNN. In Machine Learning also ppl use this but wht they prefer is standard scaler. Coz standard scaling helps u to find out center median value which is jst like Guassian Distribution(The normal distribution is also known as a Gaussian distribution). So it will definetly help u out. But in case if u have outliers at tht time It may get impacted somewhat.\n",
    "* For Normal Distribution u can definetly use standard scaler."
   ]
  },
  {
   "cell_type": "code",
   "execution_count": 51,
   "metadata": {},
   "outputs": [
    {
     "data": {
      "text/html": [
       "<div>\n",
       "<style scoped>\n",
       "    .dataframe tbody tr th:only-of-type {\n",
       "        vertical-align: middle;\n",
       "    }\n",
       "\n",
       "    .dataframe tbody tr th {\n",
       "        vertical-align: top;\n",
       "    }\n",
       "\n",
       "    .dataframe thead th {\n",
       "        text-align: right;\n",
       "    }\n",
       "</style>\n",
       "<table border=\"1\" class=\"dataframe\">\n",
       "  <thead>\n",
       "    <tr style=\"text-align: right;\">\n",
       "      <th></th>\n",
       "      <th>Survived</th>\n",
       "      <th>Pclass</th>\n",
       "      <th>Age</th>\n",
       "      <th>Fare</th>\n",
       "    </tr>\n",
       "  </thead>\n",
       "  <tbody>\n",
       "    <tr>\n",
       "      <th>0</th>\n",
       "      <td>0.0</td>\n",
       "      <td>1.0</td>\n",
       "      <td>0.271174</td>\n",
       "      <td>0.014151</td>\n",
       "    </tr>\n",
       "    <tr>\n",
       "      <th>1</th>\n",
       "      <td>1.0</td>\n",
       "      <td>0.0</td>\n",
       "      <td>0.472229</td>\n",
       "      <td>0.139136</td>\n",
       "    </tr>\n",
       "    <tr>\n",
       "      <th>2</th>\n",
       "      <td>1.0</td>\n",
       "      <td>1.0</td>\n",
       "      <td>0.321438</td>\n",
       "      <td>0.015469</td>\n",
       "    </tr>\n",
       "    <tr>\n",
       "      <th>3</th>\n",
       "      <td>1.0</td>\n",
       "      <td>0.0</td>\n",
       "      <td>0.434531</td>\n",
       "      <td>0.103644</td>\n",
       "    </tr>\n",
       "    <tr>\n",
       "      <th>4</th>\n",
       "      <td>0.0</td>\n",
       "      <td>1.0</td>\n",
       "      <td>0.434531</td>\n",
       "      <td>0.015713</td>\n",
       "    </tr>\n",
       "  </tbody>\n",
       "</table>\n",
       "</div>"
      ],
      "text/plain": [
       "   Survived  Pclass       Age      Fare\n",
       "0       0.0     1.0  0.271174  0.014151\n",
       "1       1.0     0.0  0.472229  0.139136\n",
       "2       1.0     1.0  0.321438  0.015469\n",
       "3       1.0     0.0  0.434531  0.103644\n",
       "4       0.0     1.0  0.434531  0.015713"
      ]
     },
     "execution_count": 51,
     "metadata": {},
     "output_type": "execute_result"
    }
   ],
   "source": [
    "from sklearn.preprocessing import MinMaxScaler\n",
    "min_max=MinMaxScaler()\n",
    "df_minmax=pd.DataFrame(min_max.fit_transform(df),columns=df.columns)\n",
    "df_minmax.head()"
   ]
  },
  {
   "cell_type": "raw",
   "metadata": {},
   "source": [
    "is minmax scaler and standard scaler calculations are same or not?\n",
    "\n",
    "No, MinMaxScaler and StandardScaler in machine learning employ different calculation methods to scale data, leading to distinct results. Here's a breakdown of their differences:\n",
    "\n",
    "MinMaxScaler:\n",
    "\n",
    "Scaling Range: It rescales the data to a predefined range, typically between 0 and 1 (but can be any valid range).\n",
    "Calculation:\n",
    "Finds the minimum (min) and maximum (max) values in each feature (column) of the DataFrame.\n",
    "Applies the following formula to each data point (x) within a feature:\n",
    "scaled_value = (x - min) / (max - min)\n",
    "This scales each data point proportionally within the chosen range.\n",
    "StandardScaler:\n",
    "\n",
    "Standardization: It standardizes the data to have a mean of 0 and a standard deviation of 1.\n",
    "Calculation:\n",
    "Computes the mean (mu) and standard deviation (sigma) for each feature.\n",
    "Applies the following formula to each data point (x) within a feature:\n",
    "scaled_value = (x - mu) / sigma\n",
    "This centers the data around 0 and scales it based on the standard deviation."
   ]
  },
  {
   "cell_type": "raw",
   "metadata": {},
   "source": [
    "Choosing the Right Scaler:\n",
    "\n",
    "The choice between MinMaxScaler and StandardScaler depends on your specific needs:\n",
    "\n",
    "Use MinMaxScaler if you need to scale data to a specific range and preserving the order is not crucial, and you are comfortable with potential outlier exaggeration.\n",
    "Use StandardScaler if you want to standardize the data's distribution for better comparability between features and outlier detection is important, and preserving the order is desired"
   ]
  },
  {
   "cell_type": "raw",
   "metadata": {},
   "source": [
    "\n",
    "I apologize for the previous statement that MinMaxScaler can create more outliers. To clarify: neither MinMaxScaler nor StandardScaler actually creates new outliers. Both techniques work with the existing data points and transform them without introducing new values.\n",
    "\n",
    "However, as you highlighted, they can affect how existing outliers are represented in the scaled data, potentially making them appear more or less prominent compared to the inliers.\n",
    "\n",
    "Here's a revised explanation:\n",
    "\n",
    "Impact on Outlier Representation:\n",
    "\n",
    "MinMaxScaler:\n",
    "\n",
    "More sensitive to outliers: This is because it scales the data to a specific range based on the minimum and maximum values. Extreme outliers can significantly stretch or compress the scale, making them stand out more compared to the inliers. This doesn't create new outliers, but it can make them appear more pronounced.\n",
    "May not preserve the original order: This can be confusing if the order of data points matters for your analysis.\n",
    "StandardScaler:\n",
    "\n",
    "Less sensitive to outliers: This is because it focuses on standardizing the data around a mean of 0 and a standard deviation of 1. This process generally reduces the impact of outliers on the overall distribution, potentially making them less visually prominent compared to the inliers.\n",
    "Preserves the original order: This is important if the order is meaningful for your analysis."
   ]
  },
  {
   "cell_type": "raw",
   "metadata": {},
   "source": [
    "SO both scalers can show the outliers right?\n",
    "Yes, both scalers can still show outliers in the scaled data. Let me clarify the key differences in their outlier representation:\n",
    "\n",
    "How Scalers Represent Outliers:\n",
    "\n",
    "MinMaxScaler:\n",
    "\n",
    "It can potentially exaggerate the visual prominence of outliers. This is because outliers can significantly compress or stretch the scaling range, making them stand out even more prominently compared to the scaled inliers (non-outliers).\n",
    "It won't \"hide\" the outliers, but may affect how they compare to the other data points in the scaled distribution.\n",
    "StandardScaler:\n",
    "\n",
    "It typically reduces the impact of outliers on the overall distribution. Outliers might become less visually prominent in comparison to the scaled inliers.\n",
    "It won't necessarily remove the outliers from the visualization, but rather standardizes the data around their mean and standard deviation.\n",
    "Why Outliers Still Show:\n",
    "\n",
    "Essentially, neither scaler truly removes outliers from your data. Here's why:\n",
    "\n",
    "Transformation, Not Removal: Scaling involves transforming existing data points based on certain calculations. Outliers, while being less influential, will still be transformed along with the rest of the data and remain present in the visualizations or analysis.\n",
    "Outlier Identification: An important use of standardization is to more easily identify outliers because it reduces their overwhelming visual effect. By standardizing data, you can more readily spot data points deviating significantly from the central location and spread.\n",
    "Key Point: Scalers transform data; they don't remove it. Outliers may be represented with higher or lower prominence in the scaled data based on the chosen scaler."
   ]
  },
  {
   "cell_type": "raw",
   "metadata": {},
   "source": [
    "which scaler Outliers may be represented with higher or lower prominence?\n",
    "As explained earlier, MinMaxScaler generally leads to outliers being represented with higher prominence, while StandardScaler results in outliers having lower prominence compared to the inliers (non-outliers) in the scaled data.\n",
    "\n",
    "Here's a breakdown of why:\n",
    "\n",
    "MinMaxScaler:\n",
    "\n",
    "Scaling based on minimum and maximum: It rescales the data to a predefined range (typically 0-1).\n",
    "Outlier impact on scaling: Extreme outliers can significantly stretch or compress the scale. Imagine a scenario where the data has a single outlier that is much higher than all other values. This outlier will significantly increase the maximum value, potentially stretching the entire scale and making other data points, including potential outliers that aren't as extreme, appear closer together.\n",
    "Result: Due to the stretched or compressed scale, outliers may stand out more compared to the inliers, making them seem more visually prominent.\n",
    "StandardScaler:\n",
    "\n",
    "Standardization around mean and standard deviation: It transforms the data to have a mean of 0 and a standard deviation of 1.\n",
    "Outlier impact on standardization: StandardScaler is less sensitive to outliers because it focuses on the central tendency (mean) and spread (standard deviation) of the majority of the data. This reduces the influence of extreme values on the overall distribution.\n",
    "Result: Outliers might become less visually prominent compared to the inliers in the scaled data due to the reduced impact on the scaling process. However, they are still present and can be identified based on their deviation from the mean (0) and standard deviation (1).\n",
    "Example:\n",
    "\n",
    "Consider a dataset with the following values:\n",
    "\n",
    "[1, 2, 3, 4, 5, 100]\n",
    "Here's how both scalers would handle them:\n",
    "\n",
    "MinMaxScaler:\n",
    "Minimum value = 1\n",
    "Maximum value = 100\n",
    "Scaled data: [0.0, 0.02, 0.04, 0.06, 0.08, 1.0]\n",
    "As you can see, the outlier (100) significantly stretches the scale, making other data points seem much closer together and potentially making the outlier itself appear even more distinct.\n",
    "\n",
    "StandardScaler:\n",
    "Mean = 13.5\n",
    "Standard deviation = 34.16\n",
    "Scaled data: [-0.37, -0.33, -0.30, -0.27, -0.23, 1.71]\n",
    "In this case, the outlier is still present (1.71), but its impact on the overall distribution is reduced. It deviates from the mean (0) further than other data points, but the scale remains \"normal\" because the scaling is based on the entire dataset and not just the minimum and maximum values.\n",
    "\n",
    "In conclusion, when choosing a scaler, consider your specific analysis goals and data characteristics. If highlighting outliers is crucial, MinMaxScaler might be suitable. If focusing on the overall distribution and reducing outlier impact is desired, StandardScaler is a better choice."
   ]
  },
  {
   "cell_type": "raw",
   "metadata": {},
   "source": [
    "*If u have data w.r.t SND jst go with StandardScaler(). If it is not following tht kind of distribution then use MinMaxScaler().\n",
    "*But most probably u have to use standard scaler. IT WORKs pretty much well with most of the algorithms. "
   ]
  },
  {
   "cell_type": "code",
   "execution_count": 52,
   "metadata": {},
   "outputs": [
    {
     "data": {
      "text/plain": [
       "(array([216.,   0.,   0.,   0.,   0.,   0.,   0.,   0.,   0.,   0., 184.,\n",
       "          0.,   0.,   0.,   0.,   0.,   0.,   0.,   0., 491.]),\n",
       " array([0.  , 0.05, 0.1 , 0.15, 0.2 , 0.25, 0.3 , 0.35, 0.4 , 0.45, 0.5 ,\n",
       "        0.55, 0.6 , 0.65, 0.7 , 0.75, 0.8 , 0.85, 0.9 , 0.95, 1.  ]),\n",
       " <BarContainer object of 20 artists>)"
      ]
     },
     "execution_count": 52,
     "metadata": {},
     "output_type": "execute_result"
    },
    {
     "data": {
      "image/png": "[encoded data removed]",
      "text/plain": [
       "<Figure size 640x480 with 1 Axes>"
      ]
     },
     "metadata": {},
     "output_type": "display_data"
    }
   ],
   "source": [
    "plt.hist(df_minmax['Pclass'],bins=20)\n",
    "#Remember each and every values will be converted into 0-1. Survived column need not be converted coz the values r either 0 or 1. So here there will not be any kind of impact w.r.t Pclass. "
   ]
  },
  {
   "cell_type": "code",
   "execution_count": 53,
   "metadata": {},
   "outputs": [
    {
     "data": {
      "text/plain": [
       "(array([ 40.,  14.,  15.,  31.,  79.,  98., 262.,  84.,  73.,  45.,  35.,\n",
       "         35.,  29.,  16.,  13.,  11.,   4.,   5.,   1.,   1.]),\n",
       " array([0.  , 0.05, 0.1 , 0.15, 0.2 , 0.25, 0.3 , 0.35, 0.4 , 0.45, 0.5 ,\n",
       "        0.55, 0.6 , 0.65, 0.7 , 0.75, 0.8 , 0.85, 0.9 , 0.95, 1.  ]),\n",
       " <BarContainer object of 20 artists>)"
      ]
     },
     "execution_count": 53,
     "metadata": {},
     "output_type": "execute_result"
    },
    {
     "data": {
      "image/png": "[encoded data removed]",
      "text/plain": [
       "<Figure size 640x480 with 1 Axes>"
      ]
     },
     "metadata": {},
     "output_type": "display_data"
    }
   ],
   "source": [
    "plt.hist(df_minmax['Age'],bins=20)"
   ]
  },
  {
   "cell_type": "code",
   "execution_count": 54,
   "metadata": {},
   "outputs": [
    {
     "data": {
      "text/plain": [
       "(array([562., 170.,  67.,  39.,  15.,  16.,   2.,   0.,   9.,   2.,   6.,\n",
       "          0.,   0.,   0.,   0.,   0.,   0.,   0.,   0.,   3.]),\n",
       " array([0.  , 0.05, 0.1 , 0.15, 0.2 , 0.25, 0.3 , 0.35, 0.4 , 0.45, 0.5 ,\n",
       "        0.55, 0.6 , 0.65, 0.7 , 0.75, 0.8 , 0.85, 0.9 , 0.95, 1.  ]),\n",
       " <BarContainer object of 20 artists>)"
      ]
     },
     "execution_count": 54,
     "metadata": {},
     "output_type": "execute_result"
    },
    {
     "data": {
      "image/png": "[encoded data removed]",
      "text/plain": [
       "<Figure size 640x480 with 1 Axes>"
      ]
     },
     "metadata": {},
     "output_type": "display_data"
    }
   ],
   "source": [
    "plt.hist(df_minmax['Fare'],bins=20)"
   ]
  },
  {
   "cell_type": "code",
   "execution_count": 55,
   "metadata": {},
   "outputs": [
    {
     "data": {
      "text/plain": [
       "(array([549.,   0.,   0.,   0.,   0.,   0.,   0.,   0.,   0.,   0.,   0.,\n",
       "          0.,   0.,   0.,   0.,   0.,   0.,   0.,   0., 342.]),\n",
       " array([0.  , 0.05, 0.1 , 0.15, 0.2 , 0.25, 0.3 , 0.35, 0.4 , 0.45, 0.5 ,\n",
       "        0.55, 0.6 , 0.65, 0.7 , 0.75, 0.8 , 0.85, 0.9 , 0.95, 1.  ]),\n",
       " <BarContainer object of 20 artists>)"
      ]
     },
     "execution_count": 55,
     "metadata": {},
     "output_type": "execute_result"
    },
    {
     "data": {
      "image/png": "[encoded data removed]",
      "text/plain": [
       "<Figure size 640x480 with 1 Axes>"
      ]
     },
     "metadata": {},
     "output_type": "display_data"
    }
   ],
   "source": [
    "plt.hist(df_minmax['Survived'],bins=20)"
   ]
  },
  {
   "cell_type": "markdown",
   "metadata": {},
   "source": [
    "##### Robust Scaler\n",
    "It is used to scale the feature to median and quantiles\n",
    "Scaling using median and quantiles consists of substracting the median to all the observations, and then dividing by the interquantile difference. The interquantile difference is the difference between the 75th and 25th quantile:\n",
    "\n",
    "IQR = 75th quantile - 25th quantile\n",
    "\n",
    "X_scaled = (X - X.median) / IQR"
   ]
  },
  {
   "cell_type": "markdown",
   "metadata": {},
   "source": [
    "0,1,2,3,4,5,6,7,8,9,10.\n",
    "\n",
    "*If u want to know the Qunatile of 9 so it is 90th percentile.\n",
    "\n",
    "9-90 percentile---90% of all values in this group is less than 9\n",
    "1-10 precentile---10% of all values in this group is less than 1\n",
    "4-40%\n",
    "\n",
    "*If u want to find 75th percentile then it is around 7.5-2.5(75th quantile - 25th quantile)"
   ]
  },
  {
   "cell_type": "raw",
   "metadata": {},
   "source": [
    "This scaler is more Robust to the outliers.Which is basically said robust outlier."
   ]
  },
  {
   "cell_type": "code",
   "execution_count": 56,
   "metadata": {},
   "outputs": [
    {
     "data": {
      "text/html": [
       "<div>\n",
       "<style scoped>\n",
       "    .dataframe tbody tr th:only-of-type {\n",
       "        vertical-align: middle;\n",
       "    }\n",
       "\n",
       "    .dataframe tbody tr th {\n",
       "        vertical-align: top;\n",
       "    }\n",
       "\n",
       "    .dataframe thead th {\n",
       "        text-align: right;\n",
       "    }\n",
       "</style>\n",
       "<table border=\"1\" class=\"dataframe\">\n",
       "  <thead>\n",
       "    <tr style=\"text-align: right;\">\n",
       "      <th></th>\n",
       "      <th>Survived</th>\n",
       "      <th>Pclass</th>\n",
       "      <th>Age</th>\n",
       "      <th>Fare</th>\n",
       "    </tr>\n",
       "  </thead>\n",
       "  <tbody>\n",
       "    <tr>\n",
       "      <th>0</th>\n",
       "      <td>0.0</td>\n",
       "      <td>0.0</td>\n",
       "      <td>-0.461538</td>\n",
       "      <td>-0.312011</td>\n",
       "    </tr>\n",
       "    <tr>\n",
       "      <th>1</th>\n",
       "      <td>1.0</td>\n",
       "      <td>-2.0</td>\n",
       "      <td>0.769231</td>\n",
       "      <td>2.461242</td>\n",
       "    </tr>\n",
       "    <tr>\n",
       "      <th>2</th>\n",
       "      <td>1.0</td>\n",
       "      <td>0.0</td>\n",
       "      <td>-0.153846</td>\n",
       "      <td>-0.282777</td>\n",
       "    </tr>\n",
       "    <tr>\n",
       "      <th>3</th>\n",
       "      <td>1.0</td>\n",
       "      <td>-2.0</td>\n",
       "      <td>0.538462</td>\n",
       "      <td>1.673732</td>\n",
       "    </tr>\n",
       "    <tr>\n",
       "      <th>4</th>\n",
       "      <td>0.0</td>\n",
       "      <td>0.0</td>\n",
       "      <td>0.538462</td>\n",
       "      <td>-0.277363</td>\n",
       "    </tr>\n",
       "  </tbody>\n",
       "</table>\n",
       "</div>"
      ],
      "text/plain": [
       "   Survived  Pclass       Age      Fare\n",
       "0       0.0     0.0 -0.461538 -0.312011\n",
       "1       1.0    -2.0  0.769231  2.461242\n",
       "2       1.0     0.0 -0.153846 -0.282777\n",
       "3       1.0    -2.0  0.538462  1.673732\n",
       "4       0.0     0.0  0.538462 -0.277363"
      ]
     },
     "execution_count": 56,
     "metadata": {},
     "output_type": "execute_result"
    }
   ],
   "source": [
    "from sklearn.preprocessing import RobustScaler\n",
    "scaler=RobustScaler()\n",
    "df_robust_scaler=pd.DataFrame(scaler.fit_transform(df),columns=df.columns)\n",
    "df_robust_scaler.head()"
   ]
  },
  {
   "cell_type": "code",
   "execution_count": 57,
   "metadata": {},
   "outputs": [
    {
     "data": {
      "text/plain": [
       "(array([ 40.,  14.,  15.,  31.,  79.,  98., 262.,  84.,  73.,  45.,  35.,\n",
       "         35.,  29.,  16.,  13.,  11.,   4.,   5.,   1.,   1.]),\n",
       " array([-2.12153846, -1.81546154, -1.50938462, -1.20330769, -0.89723077,\n",
       "        -0.59115385, -0.28507692,  0.021     ,  0.32707692,  0.63315385,\n",
       "         0.93923077,  1.24530769,  1.55138462,  1.85746154,  2.16353846,\n",
       "         2.46961538,  2.77569231,  3.08176923,  3.38784615,  3.69392308,\n",
       "         4.        ]),\n",
       " <BarContainer object of 20 artists>)"
      ]
     },
     "execution_count": 57,
     "metadata": {},
     "output_type": "execute_result"
    },
    {
     "data": {
      "image/png": "[encoded data removed]",
      "text/plain": [
       "<Figure size 640x480 with 1 Axes>"
      ]
     },
     "metadata": {},
     "output_type": "display_data"
    }
   ],
   "source": [
    "plt.hist(df_robust_scaler['Age'],bins=20)"
   ]
  },
  {
   "cell_type": "code",
   "execution_count": 58,
   "metadata": {},
   "outputs": [
    {
     "data": {
      "text/plain": [
       "(array([562., 170.,  67.,  39.,  15.,  16.,   2.,   0.,   9.,   2.,   6.,\n",
       "          0.,   0.,   0.,   0.,   0.,   0.,   0.,   0.,   3.]),\n",
       " array([-0.62600478,  0.48343237,  1.59286952,  2.70230667,  3.81174382,\n",
       "         4.92118096,  6.03061811,  7.14005526,  8.24949241,  9.35892956,\n",
       "        10.46836671, 11.57780386, 12.68724101, 13.79667816, 14.90611531,\n",
       "        16.01555246, 17.12498961, 18.23442675, 19.3438639 , 20.45330105,\n",
       "        21.5627382 ]),\n",
       " <BarContainer object of 20 artists>)"
      ]
     },
     "execution_count": 58,
     "metadata": {},
     "output_type": "execute_result"
    },
    {
     "data": {
      "image/png": "[encoded data removed]",
      "text/plain": [
       "<Figure size 640x480 with 1 Axes>"
      ]
     },
     "metadata": {},
     "output_type": "display_data"
    }
   ],
   "source": [
    "plt.hist(df_robust_scaler['Fare'],bins=20)"
   ]
  },
  {
   "cell_type": "markdown",
   "metadata": {},
   "source": [
    "## Guassian Transformation"
   ]
  },
  {
   "cell_type": "markdown",
   "metadata": {},
   "source": [
    "Some machine learning algorithms like linear and logistic assume that the features are normally distributed. \n",
    "\n",
    "There are some of the ML Algorithms tht they require all the features in normally distributed so that they can perform well w.r.t accuracy(they will give us very good result) and performance.\n",
    "\n",
    "*Guassian Distributed means Normal Distributed. If u r distribution is not normally distributed so we can apply some mathematical equations on those tht kind of distribution and then convert tht into Guassian Distribution for that we use Guassian Distribution. \n",
    "\n",
    "*The above Age graph is Normally distributed.\n",
    "\n",
    "*Suppose u take the above graph which is Left Skewed('Fare') and this is not Normally Distributed then How can I convert that into normally distributed. SO there are various techniques.\n",
    "\n",
    "-Accuracy\n",
    "-Performance\n",
    "- logarithmic transformation\n",
    "- reciprocal transformation\n",
    "- square root transformation\n",
    "- exponential transformation (more general, you can use any exponent)\n",
    "- boxcox transformation\n"
   ]
  },
  {
   "cell_type": "raw",
   "metadata": {},
   "source": [
    "*The 1st technique I would like to suggest is something called as logarithmic distribution. Whenever we have this kind of skewed feature we basically apply 'logarithmic transformation' to basically convert this distribution into a normally distributed or Guassian Distributed so this is called as 'Guassian Transformation'\n",
    "\n",
    "*Log transformation is also a type of scaling."
   ]
  },
  {
   "cell_type": "code",
   "execution_count": 60,
   "metadata": {},
   "outputs": [
    {
     "data": {
      "text/html": [
       "<div>\n",
       "<style scoped>\n",
       "    .dataframe tbody tr th:only-of-type {\n",
       "        vertical-align: middle;\n",
       "    }\n",
       "\n",
       "    .dataframe tbody tr th {\n",
       "        vertical-align: top;\n",
       "    }\n",
       "\n",
       "    .dataframe thead th {\n",
       "        text-align: right;\n",
       "    }\n",
       "</style>\n",
       "<table border=\"1\" class=\"dataframe\">\n",
       "  <thead>\n",
       "    <tr style=\"text-align: right;\">\n",
       "      <th></th>\n",
       "      <th>Survived</th>\n",
       "      <th>Age</th>\n",
       "      <th>Fare</th>\n",
       "    </tr>\n",
       "  </thead>\n",
       "  <tbody>\n",
       "    <tr>\n",
       "      <th>0</th>\n",
       "      <td>0</td>\n",
       "      <td>22.0</td>\n",
       "      <td>7.2500</td>\n",
       "    </tr>\n",
       "    <tr>\n",
       "      <th>1</th>\n",
       "      <td>1</td>\n",
       "      <td>38.0</td>\n",
       "      <td>71.2833</td>\n",
       "    </tr>\n",
       "    <tr>\n",
       "      <th>2</th>\n",
       "      <td>1</td>\n",
       "      <td>26.0</td>\n",
       "      <td>7.9250</td>\n",
       "    </tr>\n",
       "    <tr>\n",
       "      <th>3</th>\n",
       "      <td>1</td>\n",
       "      <td>35.0</td>\n",
       "      <td>53.1000</td>\n",
       "    </tr>\n",
       "    <tr>\n",
       "      <th>4</th>\n",
       "      <td>0</td>\n",
       "      <td>35.0</td>\n",
       "      <td>8.0500</td>\n",
       "    </tr>\n",
       "  </tbody>\n",
       "</table>\n",
       "</div>"
      ],
      "text/plain": [
       "   Survived   Age     Fare\n",
       "0         0  22.0   7.2500\n",
       "1         1  38.0  71.2833\n",
       "2         1  26.0   7.9250\n",
       "3         1  35.0  53.1000\n",
       "4         0  35.0   8.0500"
      ]
     },
     "execution_count": 60,
     "metadata": {},
     "output_type": "execute_result"
    }
   ],
   "source": [
    "df=pd.read_csv('titanic.csv',usecols=['Age','Fare','Survived'])\n",
    "df.head()"
   ]
  },
  {
   "cell_type": "code",
   "execution_count": 61,
   "metadata": {},
   "outputs": [
    {
     "data": {
      "text/plain": [
       "28.0"
      ]
     },
     "execution_count": 61,
     "metadata": {},
     "output_type": "execute_result"
    }
   ],
   "source": [
    "df['Age'].median()"
   ]
  },
  {
   "cell_type": "code",
   "execution_count": 62,
   "metadata": {},
   "outputs": [],
   "source": [
    "### fillnan\n",
    "df['Age']=df['Age'].fillna(df['Age'].median()) #If i use median then it will actually reduce the outliers"
   ]
  },
  {
   "cell_type": "code",
   "execution_count": 63,
   "metadata": {},
   "outputs": [
    {
     "data": {
      "text/plain": [
       "Survived    0\n",
       "Age         0\n",
       "Fare        0\n",
       "dtype: int64"
      ]
     },
     "execution_count": 63,
     "metadata": {},
     "output_type": "execute_result"
    }
   ],
   "source": [
    "df.isnull().sum()"
   ]
  },
  {
   "cell_type": "raw",
   "metadata": {},
   "source": [
    "Absolutely! The code plt.figure(figsize=(10, 6)) is used in Python's Matplotlib library to create and customize a figure for plotting. Let's break down its components:\n",
    "\n",
    "Part 1: plt\n",
    "\n",
    "This refers to the matplotlib.pyplot module, which provides a collection of functions for creating basic plots in a manner similar to MATLAB.\n",
    "Part 2: figure()\n",
    "\n",
    "The figure() function creates a new figure object. Think of this as the canvas or window upon which your plot will be drawn.\n",
    "Part 3: figsize=(10, 6)\n",
    "\n",
    "This is an argument passed to the figure() function to specify the dimensions of the figure you're creating:\n",
    "(10, 6): This tuple represents the desired width and height of the figure in inches. In this case, the figure will be 10 inches wide and 6 inches tall.\n",
    "Why Set the Figure size?\n",
    "\n",
    "Control over image size: This gives you control over the dimensions of your plot, which is important for its readability and appearance, especially when saving figures or embedding them in reports.\n",
    "Proportions: Adjusting the figure size allows you to create visually appealing plots by changing the aspect ratio between the width and height.\n",
    "In Summary:\n",
    "\n",
    "The line plt.figure(figsize=(10, 6))  performs the following:\n",
    "\n",
    "Imports the matplotlib.pyplot module and calls it plt.\n",
    "Creates a new figure object with the figure() function.\n",
    "Sets the width of this figure to 10 inches and the height to 6 inches using figsize.\n",
    "Remember: You'll usually add plotting commands after this to draw data on your newly created figure."
   ]
  },
  {
   "cell_type": "raw",
   "metadata": {},
   "source": [
    "Absolutely! The line plt.subplot(1, 2, 1) is a Matplotlib command used for creating multiple plots within a single figure. Let's break down each component's meaning:\n",
    "\n",
    "1. plt.subplot()\n",
    "\n",
    "This function from matplotlib.pyplot allows you to divide your figure into a grid of smaller plots.\n",
    "2. The Arguments: (1, 2, 1)\n",
    "\n",
    "1 (nrows): This indicates the total number of rows in your subplot grid. In this case, you are creating only one row.\n",
    "2 (ncols): This indicates the total number of columns in your subplot grid. Here, you're creating two columns.\n",
    "1 (index): This specifies the position of the current plot you're defining. Since this is '1', it means you're currently addressing the first subplot (the first column of your one-row grid).\n",
    "In simpler terms:\n",
    "Imagine this line of code as a command to divide your figure into a grid with 1 row and 2 columns. With the index '1', you're telling Matplotlib to focus on the first cell within that grid.  All subsequent plotting commands will be directed towards that specific subplot."
   ]
  },
  {
   "cell_type": "raw",
   "metadata": {},
   "source": [
    "While Matplotlib's plt.subplot() function uses 1-based indexing, let's explore what a hypothetical 0-based indexing system might mean in this context.\n",
    "\n",
    "Hypothetical 0-based Indexing for plt.subplot()\n",
    "\n",
    "If plt.subplot() followed 0-based indexing, here's how you would interpret the index argument:\n",
    "\n",
    "plt.subplot(1, 2, 0): This would indicate you want to select the following:\n",
    "nrows = 1: One row of subplots\n",
    "ncols = 2: Two columns of subplots\n",
    "index = 0: The very first subplot in the grid (top-left corner if you visualize the grid).\n",
    "Difference from 1-based Indexing\n",
    "\n",
    "The only change with 0-based indexing is how you interpret the index value. In a 1-based index, the first element has the number 1; in 0-based indexing, it would have the number 0.\n",
    "\n",
    "Why Matplotlib Might Use 1-based Indexing\n",
    "\n",
    "Human Readability: It's sometimes considered more intuitive for humans to start counting from 1 rather than 0, as it matches how we typically think of the first, second, third elements, etc.\n",
    "MATLAB Compatibility: Matplotlib maintains some compatibility with MATLAB, which also traditionally uses 1-based indexing in various aspects.\n",
    "Important Note: It is crucial to remember that plt.subplot() does, in fact, use 1-based indexing. The 0-based indexing explanation was purely for illustrating the concept."
   ]
  },
  {
   "cell_type": "raw",
   "metadata": {},
   "source": [
    "plt.subplot(2, 2, 1)  # Top-left subplot\n",
    "plt.subplot(2, 2, 3)  # Bottom-left subplot\n",
    "\n",
    "plt.subplot(2, 2, 2) refers to the top right subplot in a grid of 2 rows and 2 columns created using matplotlib.pyplot.subplot.\n",
    "\n",
    "+---+---+\n",
    "| 1 | 2 |   (1: top left, 2: top right)\n",
    "+---+---+\n",
    "| 3 | 4 |   (3: bottom left, 4: bottom right)\n",
    "+---+---+"
   ]
  },
  {
   "cell_type": "raw",
   "metadata": {},
   "source": [
    "1. scipy.stats:\n",
    "\n",
    "This line imports the stats submodule from the scipy library.\n",
    "The scipy library offers various scientific computing functionalities, and the stats submodule specifically focuses on statistical functions and probability distributions.\n",
    "By importing scipy.stats as stat, you create a shorter alias (stat) to access functions and classes within this submodule. For example, instead of using the full path scipy.stats.norm, you can use stat.norm to access the normal distribution functions."
   ]
  },
  {
   "cell_type": "raw",
   "metadata": {},
   "source": [
    "\n",
    "Here's a breakdown of what import pylab does and the considerations to be aware of:\n",
    "\n",
    "What It Does\n",
    "\n",
    "Combines Modules: pylab imports several modules from both the NumPy (numpy) and Matplotlib (matplotlib.pyplot) libraries into a single namespace. This means you can directly access functions and classes from both libraries without having to use the numpy. or matplotlib.pyplot. prefixes.\n",
    "\n",
    "MATLAB-like Interface: The functions imported by pylab are specifically chosen to mimic MATLAB's functionality and syntax. This aims to provide a  more familiar environment for users who have a background in MATLAB.\n",
    "\n",
    "Recommended Practice\n",
    "\n",
    "Instead of using pylab, it's generally recommended to import Matplotlib and NumPy explicitly:\n",
    "\n",
    "Python\n",
    "import matplotlib.pyplot as plt\n",
    "import numpy as np"
   ]
  },
  {
   "cell_type": "raw",
   "metadata": {},
   "source": [
    "stat.probplot(df[feature],dist='norm',plot=pylab) What it does1\n",
    "\n",
    "The code snippet stat.probplot(df[feature], dist='norm', plot=pylab) performs a probability plot using the scipy.stats library and visualizes it using pylab. Here's a breakdown of its components:\n",
    "\n",
    "1. stat.probplot:\n",
    "\n",
    "This function comes from the scipy.stats submodule, which is imported at the beginning (usually with import scipy.stats as stat).\n",
    "This function generates a probability plot of the data in df[feature] against the quantiles of a specified theoretical distribution.\n",
    "**2. df[feature]:\n",
    "\n",
    "This represents a specific column (feature) from a pandas DataFrame named df.\n",
    "This column contains the data points that will be used in the probability plot.\n",
    "3. dist='norm':\n",
    "\n",
    "This argument specifies the theoretical distribution to be used for the comparison.\n",
    "Here, 'norm' indicates the normal distribution (also known as the Gaussian distribution).\n",
    "4. plot=pylab:\n",
    "\n",
    "This argument specifies how the plot should be visualized.\n",
    "In this case, pylab refers to the matplotlib.pylab module, which provides plotting functionalities similar to MATLAB.\n",
    "Summary of the Action:\n",
    "\n",
    "This code generates a normal probability plot (Q-Q plot) for the data in the specified feature column (df[feature]) of the DataFrame df. It compares the quantiles of the data with the quantiles of the standard normal distribution and plots them against each other.\n",
    "\n",
    "Interpretation of the Plot:\n",
    "\n",
    "A straight diagonal line indicates that the data closely follows the normal distribution.\n",
    "Deviations from the diagonal line suggest that the data may not be normally distributed. The specific pattern of deviation can provide insights into the nature of the non-normality (e.g., skewness, kurtosis).\n",
    "Alternative Approach (Recommended):\n",
    "\n",
    "While pylab is still used in some code, it's generally recommended to import specific modules from matplotlib for increased clarity and flexibility. Here's an equivalent approach that avoids pylab:"
   ]
  },
  {
   "cell_type": "code",
   "execution_count": 64,
   "metadata": {},
   "outputs": [],
   "source": [
    "import scipy.stats as stat\n",
    "import pylab "
   ]
  },
  {
   "cell_type": "code",
   "execution_count": 65,
   "metadata": {},
   "outputs": [],
   "source": [
    "#### If you want to check whether feature is guassian or normal distributed. What technique we use is Q-Q plot\n",
    "# This is pretty famous plot to check whether the data is Guassian distributed \n",
    "#### Q-Q plot\n",
    "#Now we basically show my distribution on the left in hostogram. On the right it will basically draw a Q-Q plot for tht i use subplot()\n",
    "def plot_data(df,feature):\n",
    "    plt.figure(figsize=(10,6))\n",
    "    plt.subplot(1,2,1)\n",
    "    df[feature].hist()\n",
    "    plt.subplot(1,2,2)\n",
    "    stat.probplot(df[feature],dist='norm',plot=pylab) #If u really want to apply Q-Q plot der will be a library which u need to import(import scipy.stats as stat)  \n",
    "    plt.show()\n",
    "    "
   ]
  },
  {
   "cell_type": "code",
   "execution_count": 66,
   "metadata": {},
   "outputs": [
    {
     "data": {
      "image/png": "[encoded data removed]",
      "text/plain": [
       "<Figure size 1000x600 with 2 Axes>"
      ]
     },
     "metadata": {},
     "output_type": "display_data"
    }
   ],
   "source": [
    "plot_data(df,'Age') \n",
    "#df[feature] is my X-axis value & we probably need a Y-axis value coz we will try to plot X and Y and then we will see whether all the points fall in a straight line or not. \n",
    "# So in the Y-axis we basically use a normally distributed data which gets intialized by this particular function.\n",
    "# So tht Y data will be plotted in ur X-axis and in Y-axis you will be basically haaving tht Particular feature. \n",
    "#Remember If all this points r falling in the straight line we can say tht 'Age' is Guassian Distributed.\n",
    "#In y-axis it is the real values of Age."
   ]
  },
  {
   "cell_type": "markdown",
   "metadata": {},
   "source": [
    "#### Logarithmic Transformation"
   ]
  },
  {
   "cell_type": "raw",
   "metadata": {},
   "source": [
    "Now we r tranforming it and check whether we have done correctly or not by seeing the above graph."
   ]
  },
  {
   "cell_type": "code",
   "execution_count": 37,
   "metadata": {},
   "outputs": [
    {
     "data": {
      "image/png": "[encoded data removed]",
      "text/plain": [
       "<Figure size 720x432 with 2 Axes>"
      ]
     },
     "metadata": {
      "needs_background": "light"
     },
     "output_type": "display_data"
    }
   ],
   "source": [
    "import numpy as np\n",
    "df['Age_log']=np.log(df['Age'])\n",
    "plot_data(df,'Age_log') \n",
    "#After applying 'Logarithmic Transformation' it is not falling in the straight line so definitly I cannot use 'LT' to make it Guassian Distributed.\n",
    "# Hence this is not tht suitable. So now we try the other techniques.\n",
    "#In y-axis the values are df['Age_reciprocal']"
   ]
  },
  {
   "cell_type": "raw",
   "metadata": {},
   "source": [
    "*Logarthemic will work well when ur data is rightly skewed or left skewed. So in that scenario it will convert that skewed data into Guassian Distribution. "
   ]
  },
  {
   "cell_type": "code",
   "execution_count": 71,
   "metadata": {},
   "outputs": [
    {
     "data": {
      "image/png": "[encoded data removed]",
      "text/plain": [
       "<Figure size 1000x600 with 2 Axes>"
      ]
     },
     "metadata": {},
     "output_type": "display_data"
    }
   ],
   "source": [
    "plot_data(df,'Fare') #It is right skewed"
   ]
  },
  {
   "cell_type": "code",
   "execution_count": 74,
   "metadata": {},
   "outputs": [
    {
     "name": "stderr",
     "output_type": "stream",
     "text": [
      "c:\\program files\\python38\\lib\\site-packages\\pandas\\core\\arraylike.py:402: RuntimeWarning: divide by zero encountered in log\n",
      "  result = getattr(ufunc, method)(*inputs, **kwargs)\n"
     ]
    },
    {
     "data": {
      "text/plain": [
       "0      1.981001\n",
       "1      4.266662\n",
       "2      2.070022\n",
       "3      3.972177\n",
       "4      2.085672\n",
       "         ...   \n",
       "886    2.564949\n",
       "887    3.401197\n",
       "888    3.154870\n",
       "889    3.401197\n",
       "890    2.047693\n",
       "Name: Fare, Length: 891, dtype: float64"
      ]
     },
     "execution_count": 74,
     "metadata": {},
     "output_type": "execute_result"
    }
   ],
   "source": [
    "np.log(df['Fare'])"
   ]
  },
  {
   "cell_type": "code",
   "execution_count": 73,
   "metadata": {},
   "outputs": [
    {
     "name": "stderr",
     "output_type": "stream",
     "text": [
      "c:\\program files\\python38\\lib\\site-packages\\pandas\\core\\arraylike.py:402: RuntimeWarning: divide by zero encountered in log\n",
      "  result = getattr(ufunc, method)(*inputs, **kwargs)\n"
     ]
    },
    {
     "ename": "ValueError",
     "evalue": "supplied range of [-inf, 6.238967387173662] is not finite",
     "output_type": "error",
     "traceback": [
      "\u001b[1;31m---------------------------------------------------------------------------\u001b[0m",
      "\u001b[1;31mValueError\u001b[0m                                Traceback (most recent call last)",
      "Cell \u001b[1;32mIn[73], line 3\u001b[0m\n\u001b[0;32m      1\u001b[0m \u001b[38;5;28;01mimport\u001b[39;00m \u001b[38;5;21;01mnumpy\u001b[39;00m \u001b[38;5;28;01mas\u001b[39;00m \u001b[38;5;21;01mnp\u001b[39;00m\n\u001b[0;32m      2\u001b[0m df[\u001b[38;5;124m'\u001b[39m\u001b[38;5;124mFare_log\u001b[39m\u001b[38;5;124m'\u001b[39m]\u001b[38;5;241m=\u001b[39mnp\u001b[38;5;241m.\u001b[39mlog(df[\u001b[38;5;124m'\u001b[39m\u001b[38;5;124mFare\u001b[39m\u001b[38;5;124m'\u001b[39m])\n\u001b[1;32m----> 3\u001b[0m \u001b[43mplot_data\u001b[49m\u001b[43m(\u001b[49m\u001b[43mdf\u001b[49m\u001b[43m,\u001b[49m\u001b[38;5;124;43m'\u001b[39;49m\u001b[38;5;124;43mFare_log\u001b[39;49m\u001b[38;5;124;43m'\u001b[39;49m\u001b[43m)\u001b[49m\n",
      "Cell \u001b[1;32mIn[65], line 8\u001b[0m, in \u001b[0;36mplot_data\u001b[1;34m(df, feature)\u001b[0m\n\u001b[0;32m      6\u001b[0m plt\u001b[38;5;241m.\u001b[39mfigure(figsize\u001b[38;5;241m=\u001b[39m(\u001b[38;5;241m10\u001b[39m,\u001b[38;5;241m6\u001b[39m))\n\u001b[0;32m      7\u001b[0m plt\u001b[38;5;241m.\u001b[39msubplot(\u001b[38;5;241m1\u001b[39m,\u001b[38;5;241m2\u001b[39m,\u001b[38;5;241m1\u001b[39m)\n\u001b[1;32m----> 8\u001b[0m \u001b[43mdf\u001b[49m\u001b[43m[\u001b[49m\u001b[43mfeature\u001b[49m\u001b[43m]\u001b[49m\u001b[38;5;241;43m.\u001b[39;49m\u001b[43mhist\u001b[49m\u001b[43m(\u001b[49m\u001b[43m)\u001b[49m\n\u001b[0;32m      9\u001b[0m plt\u001b[38;5;241m.\u001b[39msubplot(\u001b[38;5;241m1\u001b[39m,\u001b[38;5;241m2\u001b[39m,\u001b[38;5;241m2\u001b[39m)\n\u001b[0;32m     10\u001b[0m stat\u001b[38;5;241m.\u001b[39mprobplot(df[feature],dist\u001b[38;5;241m=\u001b[39m\u001b[38;5;124m'\u001b[39m\u001b[38;5;124mnorm\u001b[39m\u001b[38;5;124m'\u001b[39m,plot\u001b[38;5;241m=\u001b[39mpylab) \u001b[38;5;66;03m#If u really want to apply Q-Q plot der will be a library which u need to import(import scipy.stats as stat)  \u001b[39;00m\n",
      "File \u001b[1;32mc:\\program files\\python38\\lib\\site-packages\\pandas\\plotting\\_core.py:105\u001b[0m, in \u001b[0;36mhist_series\u001b[1;34m(self, by, ax, grid, xlabelsize, xrot, ylabelsize, yrot, figsize, bins, backend, legend, **kwargs)\u001b[0m\n\u001b[0;32m     53\u001b[0m \u001b[38;5;250m\u001b[39m\u001b[38;5;124;03m\"\"\"\u001b[39;00m\n\u001b[0;32m     54\u001b[0m \u001b[38;5;124;03mDraw histogram of the input series using matplotlib.\u001b[39;00m\n\u001b[0;32m     55\u001b[0m \n\u001b[1;32m   (...)\u001b[0m\n\u001b[0;32m    102\u001b[0m \u001b[38;5;124;03mmatplotlib.axes.Axes.hist : Plot a histogram using matplotlib.\u001b[39;00m\n\u001b[0;32m    103\u001b[0m \u001b[38;5;124;03m\"\"\"\u001b[39;00m\n\u001b[0;32m    104\u001b[0m plot_backend \u001b[38;5;241m=\u001b[39m _get_plot_backend(backend)\n\u001b[1;32m--> 105\u001b[0m \u001b[38;5;28;01mreturn\u001b[39;00m \u001b[43mplot_backend\u001b[49m\u001b[38;5;241;43m.\u001b[39;49m\u001b[43mhist_series\u001b[49m\u001b[43m(\u001b[49m\n\u001b[0;32m    106\u001b[0m \u001b[43m    \u001b[49m\u001b[38;5;28;43mself\u001b[39;49m\u001b[43m,\u001b[49m\n\u001b[0;32m    107\u001b[0m \u001b[43m    \u001b[49m\u001b[43mby\u001b[49m\u001b[38;5;241;43m=\u001b[39;49m\u001b[43mby\u001b[49m\u001b[43m,\u001b[49m\n\u001b[0;32m    108\u001b[0m \u001b[43m    \u001b[49m\u001b[43max\u001b[49m\u001b[38;5;241;43m=\u001b[39;49m\u001b[43max\u001b[49m\u001b[43m,\u001b[49m\n\u001b[0;32m    109\u001b[0m \u001b[43m    \u001b[49m\u001b[43mgrid\u001b[49m\u001b[38;5;241;43m=\u001b[39;49m\u001b[43mgrid\u001b[49m\u001b[43m,\u001b[49m\n\u001b[0;32m    110\u001b[0m \u001b[43m    \u001b[49m\u001b[43mxlabelsize\u001b[49m\u001b[38;5;241;43m=\u001b[39;49m\u001b[43mxlabelsize\u001b[49m\u001b[43m,\u001b[49m\n\u001b[0;32m    111\u001b[0m \u001b[43m    \u001b[49m\u001b[43mxrot\u001b[49m\u001b[38;5;241;43m=\u001b[39;49m\u001b[43mxrot\u001b[49m\u001b[43m,\u001b[49m\n\u001b[0;32m    112\u001b[0m \u001b[43m    \u001b[49m\u001b[43mylabelsize\u001b[49m\u001b[38;5;241;43m=\u001b[39;49m\u001b[43mylabelsize\u001b[49m\u001b[43m,\u001b[49m\n\u001b[0;32m    113\u001b[0m \u001b[43m    \u001b[49m\u001b[43myrot\u001b[49m\u001b[38;5;241;43m=\u001b[39;49m\u001b[43myrot\u001b[49m\u001b[43m,\u001b[49m\n\u001b[0;32m    114\u001b[0m \u001b[43m    \u001b[49m\u001b[43mfigsize\u001b[49m\u001b[38;5;241;43m=\u001b[39;49m\u001b[43mfigsize\u001b[49m\u001b[43m,\u001b[49m\n\u001b[0;32m    115\u001b[0m \u001b[43m    \u001b[49m\u001b[43mbins\u001b[49m\u001b[38;5;241;43m=\u001b[39;49m\u001b[43mbins\u001b[49m\u001b[43m,\u001b[49m\n\u001b[0;32m    116\u001b[0m \u001b[43m    \u001b[49m\u001b[43mlegend\u001b[49m\u001b[38;5;241;43m=\u001b[39;49m\u001b[43mlegend\u001b[49m\u001b[43m,\u001b[49m\n\u001b[0;32m    117\u001b[0m \u001b[43m    \u001b[49m\u001b[38;5;241;43m*\u001b[39;49m\u001b[38;5;241;43m*\u001b[39;49m\u001b[43mkwargs\u001b[49m\u001b[43m,\u001b[49m\n\u001b[0;32m    118\u001b[0m \u001b[43m\u001b[49m\u001b[43m)\u001b[49m\n",
      "File \u001b[1;32mc:\\program files\\python38\\lib\\site-packages\\pandas\\plotting\\_matplotlib\\hist.py:410\u001b[0m, in \u001b[0;36mhist_series\u001b[1;34m(self, by, ax, grid, xlabelsize, xrot, ylabelsize, yrot, figsize, bins, legend, **kwds)\u001b[0m\n\u001b[0;32m    408\u001b[0m \u001b[38;5;28;01mif\u001b[39;00m legend:\n\u001b[0;32m    409\u001b[0m     kwds[\u001b[38;5;124m\"\u001b[39m\u001b[38;5;124mlabel\u001b[39m\u001b[38;5;124m\"\u001b[39m] \u001b[38;5;241m=\u001b[39m \u001b[38;5;28mself\u001b[39m\u001b[38;5;241m.\u001b[39mname\n\u001b[1;32m--> 410\u001b[0m \u001b[43max\u001b[49m\u001b[38;5;241;43m.\u001b[39;49m\u001b[43mhist\u001b[49m\u001b[43m(\u001b[49m\u001b[43mvalues\u001b[49m\u001b[43m,\u001b[49m\u001b[43m \u001b[49m\u001b[43mbins\u001b[49m\u001b[38;5;241;43m=\u001b[39;49m\u001b[43mbins\u001b[49m\u001b[43m,\u001b[49m\u001b[43m \u001b[49m\u001b[38;5;241;43m*\u001b[39;49m\u001b[38;5;241;43m*\u001b[39;49m\u001b[43mkwds\u001b[49m\u001b[43m)\u001b[49m\n\u001b[0;32m    411\u001b[0m \u001b[38;5;28;01mif\u001b[39;00m legend:\n\u001b[0;32m    412\u001b[0m     ax\u001b[38;5;241m.\u001b[39mlegend()\n",
      "File \u001b[1;32mc:\\program files\\python38\\lib\\site-packages\\matplotlib\\__init__.py:1475\u001b[0m, in \u001b[0;36m_preprocess_data.<locals>.inner\u001b[1;34m(ax, data, *args, **kwargs)\u001b[0m\n\u001b[0;32m   1472\u001b[0m \u001b[38;5;129m@functools\u001b[39m\u001b[38;5;241m.\u001b[39mwraps(func)\n\u001b[0;32m   1473\u001b[0m \u001b[38;5;28;01mdef\u001b[39;00m \u001b[38;5;21minner\u001b[39m(ax, \u001b[38;5;241m*\u001b[39margs, data\u001b[38;5;241m=\u001b[39m\u001b[38;5;28;01mNone\u001b[39;00m, \u001b[38;5;241m*\u001b[39m\u001b[38;5;241m*\u001b[39mkwargs):\n\u001b[0;32m   1474\u001b[0m     \u001b[38;5;28;01mif\u001b[39;00m data \u001b[38;5;129;01mis\u001b[39;00m \u001b[38;5;28;01mNone\u001b[39;00m:\n\u001b[1;32m-> 1475\u001b[0m         \u001b[38;5;28;01mreturn\u001b[39;00m \u001b[43mfunc\u001b[49m\u001b[43m(\u001b[49m\u001b[43max\u001b[49m\u001b[43m,\u001b[49m\u001b[43m \u001b[49m\u001b[38;5;241;43m*\u001b[39;49m\u001b[38;5;28;43mmap\u001b[39;49m\u001b[43m(\u001b[49m\u001b[43msanitize_sequence\u001b[49m\u001b[43m,\u001b[49m\u001b[43m \u001b[49m\u001b[43margs\u001b[49m\u001b[43m)\u001b[49m\u001b[43m,\u001b[49m\u001b[43m \u001b[49m\u001b[38;5;241;43m*\u001b[39;49m\u001b[38;5;241;43m*\u001b[39;49m\u001b[43mkwargs\u001b[49m\u001b[43m)\u001b[49m\n\u001b[0;32m   1477\u001b[0m     bound \u001b[38;5;241m=\u001b[39m new_sig\u001b[38;5;241m.\u001b[39mbind(ax, \u001b[38;5;241m*\u001b[39margs, \u001b[38;5;241m*\u001b[39m\u001b[38;5;241m*\u001b[39mkwargs)\n\u001b[0;32m   1478\u001b[0m     auto_label \u001b[38;5;241m=\u001b[39m (bound\u001b[38;5;241m.\u001b[39marguments\u001b[38;5;241m.\u001b[39mget(label_namer)\n\u001b[0;32m   1479\u001b[0m                   \u001b[38;5;129;01mor\u001b[39;00m bound\u001b[38;5;241m.\u001b[39mkwargs\u001b[38;5;241m.\u001b[39mget(label_namer))\n",
      "File \u001b[1;32mc:\\program files\\python38\\lib\\site-packages\\matplotlib\\axes\\_axes.py:6791\u001b[0m, in \u001b[0;36mAxes.hist\u001b[1;34m(self, x, bins, range, density, weights, cumulative, bottom, histtype, align, orientation, rwidth, log, color, label, stacked, **kwargs)\u001b[0m\n\u001b[0;32m   6787\u001b[0m \u001b[38;5;66;03m# Loop through datasets\u001b[39;00m\n\u001b[0;32m   6788\u001b[0m \u001b[38;5;28;01mfor\u001b[39;00m i \u001b[38;5;129;01min\u001b[39;00m \u001b[38;5;28mrange\u001b[39m(nx):\n\u001b[0;32m   6789\u001b[0m     \u001b[38;5;66;03m# this will automatically overwrite bins,\u001b[39;00m\n\u001b[0;32m   6790\u001b[0m     \u001b[38;5;66;03m# so that each histogram uses the same bins\u001b[39;00m\n\u001b[1;32m-> 6791\u001b[0m     m, bins \u001b[38;5;241m=\u001b[39m \u001b[43mnp\u001b[49m\u001b[38;5;241;43m.\u001b[39;49m\u001b[43mhistogram\u001b[49m\u001b[43m(\u001b[49m\u001b[43mx\u001b[49m\u001b[43m[\u001b[49m\u001b[43mi\u001b[49m\u001b[43m]\u001b[49m\u001b[43m,\u001b[49m\u001b[43m \u001b[49m\u001b[43mbins\u001b[49m\u001b[43m,\u001b[49m\u001b[43m \u001b[49m\u001b[43mweights\u001b[49m\u001b[38;5;241;43m=\u001b[39;49m\u001b[43mw\u001b[49m\u001b[43m[\u001b[49m\u001b[43mi\u001b[49m\u001b[43m]\u001b[49m\u001b[43m,\u001b[49m\u001b[43m \u001b[49m\u001b[38;5;241;43m*\u001b[39;49m\u001b[38;5;241;43m*\u001b[39;49m\u001b[43mhist_kwargs\u001b[49m\u001b[43m)\u001b[49m\n\u001b[0;32m   6792\u001b[0m     tops\u001b[38;5;241m.\u001b[39mappend(m)\n\u001b[0;32m   6793\u001b[0m tops \u001b[38;5;241m=\u001b[39m np\u001b[38;5;241m.\u001b[39marray(tops, \u001b[38;5;28mfloat\u001b[39m)  \u001b[38;5;66;03m# causes problems later if it's an int\u001b[39;00m\n",
      "File \u001b[1;32m<__array_function__ internals>:200\u001b[0m, in \u001b[0;36mhistogram\u001b[1;34m(*args, **kwargs)\u001b[0m\n",
      "File \u001b[1;32m~\\AppData\\Roaming\\Python\\Python38\\site-packages\\numpy\\lib\\histograms.py:780\u001b[0m, in \u001b[0;36mhistogram\u001b[1;34m(a, bins, range, density, weights)\u001b[0m\n\u001b[0;32m    680\u001b[0m \u001b[38;5;250m\u001b[39m\u001b[38;5;124mr\u001b[39m\u001b[38;5;124;03m\"\"\"\u001b[39;00m\n\u001b[0;32m    681\u001b[0m \u001b[38;5;124;03mCompute the histogram of a dataset.\u001b[39;00m\n\u001b[0;32m    682\u001b[0m \n\u001b[1;32m   (...)\u001b[0m\n\u001b[0;32m    776\u001b[0m \n\u001b[0;32m    777\u001b[0m \u001b[38;5;124;03m\"\"\"\u001b[39;00m\n\u001b[0;32m    778\u001b[0m a, weights \u001b[38;5;241m=\u001b[39m _ravel_and_check_weights(a, weights)\n\u001b[1;32m--> 780\u001b[0m bin_edges, uniform_bins \u001b[38;5;241m=\u001b[39m \u001b[43m_get_bin_edges\u001b[49m\u001b[43m(\u001b[49m\u001b[43ma\u001b[49m\u001b[43m,\u001b[49m\u001b[43m \u001b[49m\u001b[43mbins\u001b[49m\u001b[43m,\u001b[49m\u001b[43m \u001b[49m\u001b[38;5;28;43mrange\u001b[39;49m\u001b[43m,\u001b[49m\u001b[43m \u001b[49m\u001b[43mweights\u001b[49m\u001b[43m)\u001b[49m\n\u001b[0;32m    782\u001b[0m \u001b[38;5;66;03m# Histogram is an integer or a float array depending on the weights.\u001b[39;00m\n\u001b[0;32m    783\u001b[0m \u001b[38;5;28;01mif\u001b[39;00m weights \u001b[38;5;129;01mis\u001b[39;00m \u001b[38;5;28;01mNone\u001b[39;00m:\n",
      "File \u001b[1;32m~\\AppData\\Roaming\\Python\\Python38\\site-packages\\numpy\\lib\\histograms.py:426\u001b[0m, in \u001b[0;36m_get_bin_edges\u001b[1;34m(a, bins, range, weights)\u001b[0m\n\u001b[0;32m    423\u001b[0m     \u001b[38;5;28;01mif\u001b[39;00m n_equal_bins \u001b[38;5;241m<\u001b[39m \u001b[38;5;241m1\u001b[39m:\n\u001b[0;32m    424\u001b[0m         \u001b[38;5;28;01mraise\u001b[39;00m \u001b[38;5;167;01mValueError\u001b[39;00m(\u001b[38;5;124m'\u001b[39m\u001b[38;5;124m`bins` must be positive, when an integer\u001b[39m\u001b[38;5;124m'\u001b[39m)\n\u001b[1;32m--> 426\u001b[0m     first_edge, last_edge \u001b[38;5;241m=\u001b[39m \u001b[43m_get_outer_edges\u001b[49m\u001b[43m(\u001b[49m\u001b[43ma\u001b[49m\u001b[43m,\u001b[49m\u001b[43m \u001b[49m\u001b[38;5;28;43mrange\u001b[39;49m\u001b[43m)\u001b[49m\n\u001b[0;32m    428\u001b[0m \u001b[38;5;28;01melif\u001b[39;00m np\u001b[38;5;241m.\u001b[39mndim(bins) \u001b[38;5;241m==\u001b[39m \u001b[38;5;241m1\u001b[39m:\n\u001b[0;32m    429\u001b[0m     bin_edges \u001b[38;5;241m=\u001b[39m np\u001b[38;5;241m.\u001b[39masarray(bins)\n",
      "File \u001b[1;32m~\\AppData\\Roaming\\Python\\Python38\\site-packages\\numpy\\lib\\histograms.py:315\u001b[0m, in \u001b[0;36m_get_outer_edges\u001b[1;34m(a, range)\u001b[0m\n\u001b[0;32m    312\u001b[0m         \u001b[38;5;28;01mraise\u001b[39;00m \u001b[38;5;167;01mValueError\u001b[39;00m(\n\u001b[0;32m    313\u001b[0m             \u001b[38;5;124m'\u001b[39m\u001b[38;5;124mmax must be larger than min in range parameter.\u001b[39m\u001b[38;5;124m'\u001b[39m)\n\u001b[0;32m    314\u001b[0m     \u001b[38;5;28;01mif\u001b[39;00m \u001b[38;5;129;01mnot\u001b[39;00m (np\u001b[38;5;241m.\u001b[39misfinite(first_edge) \u001b[38;5;129;01mand\u001b[39;00m np\u001b[38;5;241m.\u001b[39misfinite(last_edge)):\n\u001b[1;32m--> 315\u001b[0m         \u001b[38;5;28;01mraise\u001b[39;00m \u001b[38;5;167;01mValueError\u001b[39;00m(\n\u001b[0;32m    316\u001b[0m             \u001b[38;5;124m\"\u001b[39m\u001b[38;5;124msupplied range of [\u001b[39m\u001b[38;5;132;01m{}\u001b[39;00m\u001b[38;5;124m, \u001b[39m\u001b[38;5;132;01m{}\u001b[39;00m\u001b[38;5;124m] is not finite\u001b[39m\u001b[38;5;124m\"\u001b[39m\u001b[38;5;241m.\u001b[39mformat(first_edge, last_edge))\n\u001b[0;32m    317\u001b[0m \u001b[38;5;28;01melif\u001b[39;00m a\u001b[38;5;241m.\u001b[39msize \u001b[38;5;241m==\u001b[39m \u001b[38;5;241m0\u001b[39m:\n\u001b[0;32m    318\u001b[0m     \u001b[38;5;66;03m# handle empty arrays. Can't determine range, so use 0-1.\u001b[39;00m\n\u001b[0;32m    319\u001b[0m     first_edge, last_edge \u001b[38;5;241m=\u001b[39m \u001b[38;5;241m0\u001b[39m, \u001b[38;5;241m1\u001b[39m\n",
      "\u001b[1;31mValueError\u001b[0m: supplied range of [-inf, 6.238967387173662] is not finite"
     ]
    },
    {
     "data": {
      "image/png": "[encoded data removed]",
      "text/plain": [
       "<Figure size 1000x600 with 1 Axes>"
      ]
     },
     "metadata": {},
     "output_type": "display_data"
    }
   ],
   "source": [
    "import numpy as np\n",
    "df['Fare_log']=np.log(df['Fare'])\n",
    "plot_data(df,'Fare_log') "
   ]
  },
  {
   "cell_type": "markdown",
   "metadata": {},
   "source": [
    "#### Reciprocal Trnasformation"
   ]
  },
  {
   "cell_type": "code",
   "execution_count": 67,
   "metadata": {},
   "outputs": [
    {
     "data": {
      "image/png": "[encoded data removed]",
      "text/plain": [
       "<Figure size 1000x600 with 2 Axes>"
      ]
     },
     "metadata": {},
     "output_type": "display_data"
    }
   ],
   "source": [
    "df['Age_reciprocal']=1/df.Age\n",
    "plot_data(df,'Age_reciprocal') #It is right skewed "
   ]
  },
  {
   "cell_type": "code",
   "execution_count": 69,
   "metadata": {},
   "outputs": [
    {
     "data": {
      "text/plain": [
       "0      22.0\n",
       "1      38.0\n",
       "2      26.0\n",
       "3      35.0\n",
       "4      35.0\n",
       "       ... \n",
       "886    27.0\n",
       "887    19.0\n",
       "888    28.0\n",
       "889    26.0\n",
       "890    32.0\n",
       "Name: Age, Length: 891, dtype: float64"
      ]
     },
     "execution_count": 69,
     "metadata": {},
     "output_type": "execute_result"
    }
   ],
   "source": [
    "df.Age"
   ]
  },
  {
   "cell_type": "code",
   "execution_count": 68,
   "metadata": {},
   "outputs": [
    {
     "data": {
      "text/plain": [
       "0      0.045455\n",
       "1      0.026316\n",
       "2      0.038462\n",
       "3      0.028571\n",
       "4      0.028571\n",
       "         ...   \n",
       "886    0.037037\n",
       "887    0.052632\n",
       "888    0.035714\n",
       "889    0.038462\n",
       "890    0.031250\n",
       "Name: Age_reciprocal, Length: 891, dtype: float64"
      ]
     },
     "execution_count": 68,
     "metadata": {},
     "output_type": "execute_result"
    }
   ],
   "source": [
    "df['Age_reciprocal'] #(1/22=0.045455)"
   ]
  },
  {
   "cell_type": "markdown",
   "metadata": {},
   "source": [
    "## Square Root Transformation"
   ]
  },
  {
   "cell_type": "raw",
   "metadata": {},
   "source": [
    "The expression df.Age**(1/2) performs an element-wise power operation on the Age column of the DataFrame df.\n",
    "\n",
    "**(1/2):\n",
    "\n",
    "This is the power operator, which raises each element in the selected column (df.Age) to the power of 1/2 (also equivalent to the square root).\n",
    "\n",
    "Suppose your DataFrame df has a column named Age with the following values:\n",
    "\n",
    "| Age |\n",
    "|---|---|\n",
    "| 25 |\n",
    "| 36 |\n",
    "| 49 |\n",
    "Applying df.Age**(1/2) would result in a new column (or series) with the following values:\n",
    "\n",
    "| Age_sqrt |\n",
    "|---|---|\n",
    "| 5.0 |\n",
    "| 6.0 |\n",
    "| 7.0 |"
   ]
  },
  {
   "cell_type": "code",
   "execution_count": 75,
   "metadata": {},
   "outputs": [
    {
     "data": {
      "image/png": "[encoded data removed]",
      "text/plain": [
       "<Figure size 1000x600 with 2 Axes>"
      ]
     },
     "metadata": {},
     "output_type": "display_data"
    }
   ],
   "source": [
    "##### Square Root Transformation\n",
    "df['Age_sqaure']=df.Age**(1/2)\n",
    "plot_data(df,'Age_sqaure')"
   ]
  },
  {
   "cell_type": "markdown",
   "metadata": {},
   "source": [
    "## Exponential Transdormation"
   ]
  },
  {
   "cell_type": "raw",
   "metadata": {},
   "source": [
    "The expression df.Age**(1/1.2) performs an element-wise power operation on the Age column of the DataFrame df, but with a specific power value of 1/1.2. "
   ]
  },
  {
   "cell_type": "code",
   "execution_count": 44,
   "metadata": {},
   "outputs": [
    {
     "data": {
      "image/png": "[encoded data removed]",
      "text/plain": [
       "<Figure size 720x432 with 2 Axes>"
      ]
     },
     "metadata": {
      "needs_background": "light"
     },
     "output_type": "display_data"
    }
   ],
   "source": [
    "#### Exponential Transdormation\n",
    "df['Age_exponential']=df.Age**(1/1.2) #U can vary the exponent as needed.\n",
    "plot_data(df,'Age_exponential')"
   ]
  },
  {
   "cell_type": "markdown",
   "metadata": {},
   "source": [
    "#### BoxCOx Transformation\n",
    "The Box-Cox transformation is defined as: \n",
    "\n",
    "T(Y)=(Y exp(λ)−1)/λ\n",
    "\n",
    "where Y is the response variable and λ is the transformation parameter. λ varies from -5 to 5. In the transformation, all values of λ  are considered and the optimal value for a given variable is selected."
   ]
  },
  {
   "cell_type": "raw",
   "metadata": {},
   "source": [
    "The code stat.boxcox(df['Age']) performs a Box-Cox transformation on the Age column of a pandas DataFrame named df. This transformation aims to normalize the data, meaning it attempts to convert the data in the Age column to a normal distribution, which is also called a Gaussian distribution.\n",
    "\n",
    "Here's a breakdown of what the code does:\n",
    "\n",
    "Imports: The code likely assumes you have imported the scipy.stats library using something like from scipy import stats. This library provides statistical functions, including boxcox.\n",
    "Input: The code takes the Age column from the DataFrame df as input. This column is assumed to contain numerical data.\n",
    "Transformation: The boxcox function applies the Box-Cox transformation formula to each value in the Age column. The formula is:\n",
    "y(λ) = (x^λ - 1) / λ  if λ ≠ 0\n",
    "      log(x)           if λ = 0\n",
    "where:\n",
    "\n",
    "x is the original value in the Age column.\n",
    "λ (lambda) is a parameter that the function optimizes to achieve the best possible normal distribution fit.\n",
    "y(λ) is the transformed value.\n",
    "Optimization: The boxcox function internally finds the optimal value of λ within a specified range (usually -5 to 5) that minimizes the difference between the transformed data and a normal distribution. This optimization process typically involves statistical tests like maximum likelihood estimation.\n",
    "Output: The function returns a tuple containing two elements:\n",
    "Transformed data: This is a NumPy array containing the transformed values from the Age column after applying the Box-Cox formula with the optimal λ.\n",
    "Optimal lambda: This is the value of λ that the function found to be the best fit for normalizing the data.\n",
    "It's important to note that the Box-Cox transformation has limitations. For example, it cannot handle negative values or zeros directly. In practice, you might need to handle these cases before applying the transformation, such as by adding a small constant to all values or using alternative transformation methods."
   ]
  },
  {
   "cell_type": "raw",
   "metadata": {},
   "source": [
    "Will lambda value ranges btw -5 to 5 right it can take any values between that\n",
    "You're mostly right! Here's a clearer explanation about the range of lambda values in a Box-Cox transformation:\n",
    "\n",
    "Typical Range: Yes, it's very common for statistical software to search for the optimal lambda value within the range of -5 to 5. This is a reasonable range that covers a wide variety of transformations.\n",
    "Technically No Limits: Theoretically, lambda (λ) could take any value. However, searching for optimal values outside the range of -5 to 5 is often unnecessary, as the most effective transformations usually fall within this range.\n",
    "Practical Considerations: Limiting the range for lambda:\n",
    "Focus: A narrower range focuses the search on the region where most useful transformations are likely to be found.\n",
    "Efficiency: Searching an infinite range for lambda would be computationally very expensive.\n",
    "Special Cases:\n",
    "\n",
    "There might be some scenarios where exploring lambda values outside the -5 to 5 range could be useful. However, these are less common situations.\n",
    "\n",
    "Let me know if you'd like more details on Box-Cox transformations or specific scenarios where exploring different lambda ranges may be helpful!"
   ]
  },
  {
   "cell_type": "code",
   "execution_count": 79,
   "metadata": {},
   "outputs": [
    {
     "data": {
      "text/plain": [
       "(array([13.468119  , 21.4987284 , 15.56341683, 20.05611014, 20.05611014,\n",
       "        16.58601436, 28.84746463,  0.92513402, 16.07664335,  9.01695462,\n",
       "         2.53193075, 30.6104327 , 12.39181078, 21.97437834,  9.01695462,\n",
       "        29.29062758,  0.92513402, 16.58601436, 18.09258499, 16.58601436,\n",
       "        20.05611014, 19.56971919,  9.59722218, 16.58601436,  5.32265694,\n",
       "        21.4987284 , 16.58601436, 11.84551333, 16.58601436, 16.58601436,\n",
       "        22.44755196, 16.58601436, 16.58601436, 34.06447944, 16.58601436,\n",
       "        23.38676361, 16.58601436, 12.93257404, 11.29332892,  9.01695462,\n",
       "        22.44755196, 16.07664335, 16.58601436,  1.75636071, 11.84551333,\n",
       "        16.58601436, 16.58601436, 16.58601436, 16.58601436, 11.29332892,\n",
       "         4.65897047, 12.93257404, 26.60575762, 17.09169505, 33.6375945 ,\n",
       "        16.58601436, 12.93257404, 16.83930618,  3.26857952,  7.221786  ,\n",
       "        13.468119  , 21.4987284 , 24.77874367,  2.53193075, 16.58601436,\n",
       "        16.58601436, 17.09169505, 11.84551333, 10.7348613 , 15.56341683,\n",
       "        18.5880672 , 10.16966246, 12.93257404, 15.56341683, 18.5880672 ,\n",
       "        15.04615552, 16.58601436, 16.58601436, -0.17316296, 17.59383809,\n",
       "        13.468119  , 17.09169505, 16.58601436, 16.58601436, 10.7348613 ,\n",
       "        19.08040717, 10.16966246, 16.58601436, 13.99873002, 14.5246643 ,\n",
       "        17.09169505, 12.39181078, 25.23849092, 15.56341683, 31.04725247,\n",
       "        16.58601436, 36.17964611, 13.99873002, 19.56971919, 19.56971919,\n",
       "        16.58601436, 16.58601436, 12.93257404, 19.08040717, 21.02052347,\n",
       "        16.58601436, 12.93257404, 16.58601436, 21.4987284 , 16.58601436,\n",
       "        25.69620814,  9.30810682, 13.468119  , 12.39181078, 10.7348613 ,\n",
       "        12.93257404, 35.96952764, 17.09169505, 14.5246643 ,  0.92513402,\n",
       "        12.93257404, 16.58601436, 18.83462264, 18.83462264, 28.84746463,\n",
       "         7.83010563, 16.58601436, 14.5246643 , 16.58601436, 24.77874367,\n",
       "        19.08040717, 12.39181078, 25.69620814, 17.09169505, 15.04615552,\n",
       "        13.99873002, 11.84551333, 21.02052347, 10.16966246, 14.5246643 ,\n",
       "        16.58601436, 13.468119  , 14.5246643 , 11.84551333, 11.29332892,\n",
       "        11.84551333, 16.07664335,  5.96962245, 20.78043704, 23.38676361,\n",
       "        27.50777955, 13.468119  , 29.5115929 , 22.68323354, 16.58601436,\n",
       "        27.50777955, 10.16966246, 17.59383809, 16.58601436, 16.58601436,\n",
       "        24.31691197, 22.44755196, 15.56341683, 10.7348613 ,  0.        ,\n",
       "         5.96962245, 16.58601436, 24.77874367, 16.58601436, 16.58601436,\n",
       "        31.91640866,  2.53193075,  0.        , 12.93257404, 29.73215339,\n",
       "        11.29332892, 16.58601436, 27.05768667, 17.59383809, 20.53968021,\n",
       "        16.58601436, 16.58601436,  5.96962245,  0.        ,  2.53193075,\n",
       "        16.58601436, 16.58601436, 24.77874367, 22.44755196, 20.53968021,\n",
       "        18.5880672 , 11.84551333, 11.84551333,  1.75636071, 24.31691197,\n",
       "        30.6104327 , 16.58601436, 23.38676361, 16.58601436, 14.5246643 ,\n",
       "        16.58601436, 16.58601436, 19.56971919, 25.00887439, 11.29332892,\n",
       "         0.92513402, 18.5880672 , 15.56341683, 10.16966246, 22.44755196,\n",
       "        14.5246643 , 20.05611014, 13.468119  , 17.59383809, 16.58601436,\n",
       "        18.09258499, 16.07664335, 23.38676361, 18.5880672 , 17.59383809,\n",
       "        10.16966246, 16.07664335, 27.50777955, 16.58601436, 21.4987284 ,\n",
       "        13.468119  , 11.84551333, 12.66286364, 11.29332892, 16.58601436,\n",
       "        20.05611014, 17.09169505, 31.04725247,  3.26857952, 14.5246643 ,\n",
       "        16.58601436, 24.31691197,  5.32265694, 11.84551333, 19.08040717,\n",
       "        16.58601436, 16.58601436, 17.09169505, 13.468119  , 17.59383809,\n",
       "        24.31691197, 15.04615552, 14.5246643 , 21.02052347, 28.84746463,\n",
       "        16.58601436, 17.09169505, 32.34880427, 17.59383809, 22.9183236 ,\n",
       "        17.09169505, 16.58601436, 17.59383809, 20.05611014, 27.05768667,\n",
       "        16.58601436,  1.75636071, 27.9560795 , 22.44755196, 16.58601436,\n",
       "        20.53968021, 10.16966246, 15.04615552, 30.6104327 , 20.05611014,\n",
       "        16.58601436, 15.04615552, 22.9183236 , 21.02052347, 16.58601436,\n",
       "        32.77978258, 24.77874367, 16.58601436,  4.65897047, 20.05611014,\n",
       "        33.6375945 , 16.58601436, 10.16966246, 11.84551333, 16.58601436,\n",
       "        19.08040717, 17.59383809, 13.468119  , 23.38676361, 13.468119  ,\n",
       "        15.56341683, 11.84551333, 20.53968021, 14.5246643 , 14.5246643 ,\n",
       "        16.58601436, 14.26226663,  0.92513402, 16.58601436, 27.05768667,\n",
       "        16.58601436, 16.58601436, 11.84551333, 16.58601436, 16.58601436,\n",
       "        -0.08067323, 16.58601436, 10.7348613 , 17.59383809, 17.59383809,\n",
       "        14.5246643 , 11.29332892, 15.56341683, 16.58601436, 23.85293864,\n",
       "        15.56341683, 14.5246643 , 28.84746463, 18.09258499, 22.44755196,\n",
       "        13.468119  , 16.07664335, 17.59383809, 13.468119  , 16.58601436,\n",
       "        20.53968021, 31.91640866, 20.53968021, 18.09258499, 10.16966246,\n",
       "        16.58601436, 25.00887439, 21.4987284 , 10.16966246, 16.58601436,\n",
       "        16.58601436, 17.09169505, 22.9183236 , 24.77874367, 24.77874367,\n",
       "         0.92513402, 14.5246643 , 16.58601436, 15.04615552, 20.53968021,\n",
       "        14.5246643 , 22.44755196, 16.58601436,  1.75636071, 23.38676361,\n",
       "        13.99873002, 16.58601436,  9.59722218, 15.04615552, 16.58601436,\n",
       "        16.58601436, 13.468119  , 21.4987284 , 16.58601436, 16.58601436,\n",
       "        22.44755196, 17.09169505, 24.77874367, 20.05611014, 16.58601436,\n",
       "        17.59383809, 31.48256774, 16.58601436, 16.58601436, 14.5246643 ,\n",
       "        15.04615552, 11.29332892, 11.84551333, 13.468119  ,  1.75636071,\n",
       "        16.58601436, 13.468119  , 16.07664335, 12.39181078, 11.84551333,\n",
       "        23.38676361,  0.        , 18.5880672 , 20.05611014, 16.58601436,\n",
       "        11.29332892,  0.        , 20.53968021, 16.58601436, 10.7348613 ,\n",
       "        20.53968021, 12.93257404, 16.58601436, 13.99873002, 14.5246643 ,\n",
       "        13.468119  , 18.09258499, 25.23849092, 13.99873002, 16.58601436,\n",
       "        21.97437834, 15.56341683, 12.93257404, 16.58601436, 12.39181078,\n",
       "        19.56971919, 27.50777955,  1.75636071, 12.93257404, 16.58601436,\n",
       "        16.58601436, 16.58601436, 19.08040717, 16.58601436, 24.31691197,\n",
       "        16.58601436, 19.56971919, 11.29332892, 17.59383809,  6.6020876 ,\n",
       "        16.58601436, 12.93257404, 17.09169505, 16.58601436, 11.29332892,\n",
       "        16.58601436, 16.58601436, 11.84551333, 16.58601436, 18.5880672 ,\n",
       "        16.58601436, 16.58601436, 23.38676361, 10.7348613 , 27.05768667,\n",
       "         9.01695462, 12.93257404, 14.5246643 , 33.20937062, 18.09258499,\n",
       "        24.77874367, 12.39181078, 15.04615552, 16.58601436, 16.58601436,\n",
       "         2.53193075,  8.42818085, 19.56971919,  3.26857952, 27.9560795 ,\n",
       "        20.53968021, 16.58601436, 17.59383809, 26.60575762, 16.58601436,\n",
       "        17.09169505, 33.6375945 , 16.58601436, 27.05768667, 16.58601436,\n",
       "        26.15194721, 19.56971919, 25.69620814, 26.15194721, 16.58601436,\n",
       "        21.4987284 , 16.58601436, 29.73215339, 16.58601436, -0.25710377,\n",
       "        16.58601436, 21.4987284 , 19.08040717, 13.99873002, 13.468119  ,\n",
       "        16.58601436, 19.56971919, 17.09169505, 13.468119  ,  0.92513402,\n",
       "         5.96962245, 16.58601436, 27.05768667, 32.77978258, 15.04615552,\n",
       "        16.58601436, 20.05611014, 30.6104327 , 17.59383809,  5.96962245,\n",
       "        16.58601436, 12.93257404, 29.29062758, 36.17964611, 12.93257404,\n",
       "        16.58601436, 28.84746463, 16.58601436, 15.04615552, 14.5246643 ,\n",
       "        10.7348613 , 12.93257404, 16.58601436, 21.02052347, 10.16966246,\n",
       "        11.29332892, 19.08040717, 16.58601436, 16.58601436, 15.56341683,\n",
       "        17.09169505, 16.58601436, 20.53968021, 28.84746463, 14.5246643 ,\n",
       "        25.69620814, 19.56971919, 16.58601436, 20.53968021, 18.5880672 ,\n",
       "        17.59383809, 13.468119  , 16.58601436, 24.31691197, 16.58601436,\n",
       "        22.68323354, 27.05768667, 16.58601436, 21.97437834, 13.99873002,\n",
       "         0.92513402, 16.58601436, 10.7348613 , 16.58601436, 17.59383809,\n",
       "         4.65897047, 24.77874367, 17.59383809, 16.58601436, 13.468119  ,\n",
       "        20.53968021,  5.96962245,  7.221786  , 18.5880672 , 27.05768667,\n",
       "        33.20937062, 11.84551333, 16.58601436, 19.08040717,  5.32265694,\n",
       "        10.7348613 , 16.07664335, 16.58601436, 13.468119  , 13.468119  ,\n",
       "        32.34880427, 26.15194721, 16.58601436, 21.97437834, 20.53968021,\n",
       "        16.58601436, 22.44755196, 16.58601436, 16.58601436, 16.58601436,\n",
       "        14.5246643 , 11.84551333, 17.09169505, 16.58601436, 18.5880672 ,\n",
       "        32.34880427, 28.40262796, 20.53968021, 16.58601436, 10.16966246,\n",
       "        11.84551333, 19.56971919, 21.97437834, 16.58601436, 18.5880672 ,\n",
       "        15.04615552, 21.97437834, 28.84746463, 20.53968021, 16.58601436,\n",
       "        11.29332892, 25.69620814, 31.48256774, 13.468119  , 16.58601436,\n",
       "        20.05611014, 27.9560795 , 25.69620814, 16.58601436, 21.02052347,\n",
       "        20.53968021, 16.58601436, 26.60575762, 16.58601436, 26.60575762,\n",
       "        14.5246643 , 16.58601436, 16.58601436, 24.31691197, 20.05611014,\n",
       "        20.53968021, 17.59383809, 16.07664335, 13.468119  , 22.44755196,\n",
       "        21.97437834, 16.58601436, 16.58601436, 16.58601436, 20.05611014,\n",
       "        14.5246643 , 19.56971919, 15.56341683,  2.53193075, 15.56341683,\n",
       "        16.07664335, 23.38676361, 12.39181078, 12.93257404, 12.93257404,\n",
       "        31.91640866, 30.17207717, 12.93257404, 15.56341683, 16.58601436,\n",
       "        39.91262372, 27.50777955, 18.5880672 , 16.58601436,  5.96962245,\n",
       "        16.58601436, 18.5880672 , 18.09258499, 22.9183236 , 16.58601436,\n",
       "        12.39181078, 14.5246643 ,  0.92513402, 16.58601436, -0.25710377,\n",
       "        26.15194721, 11.84551333, 29.73215339, 16.58601436, 13.99873002,\n",
       "        16.58601436, 11.29332892, 12.93257404, 16.58601436, 11.29332892,\n",
       "        14.5246643 , 16.58601436, 18.5880672 , 13.99873002, 30.6104327 ,\n",
       "        27.05768667, 22.44755196, 25.69620814, 20.53968021, 12.39181078,\n",
       "        18.5880672 , 15.04615552, 16.58601436, 23.85293864, 16.58601436,\n",
       "        22.44755196, 18.09258499, 35.75910562, 18.09258499, 16.58601436,\n",
       "        11.29332892, 14.78595152, 11.29332892, 23.85293864, 20.53968021,\n",
       "        16.58601436, 16.07664335, 12.39181078,  9.01695462, 31.48256774,\n",
       "        15.04615552,  9.01695462, 11.84551333, 11.29332892,  9.59722218,\n",
       "        18.09258499,  2.53193075, 16.58601436, 15.04615552, 31.48256774,\n",
       "        27.9560795 , 24.31691197, 16.58601436, 26.60575762, 23.38676361,\n",
       "        11.29332892, 20.05611014, 11.29332892, 15.04615552, 15.56341683,\n",
       "        21.97437834, 24.77874367, 23.38676361, 13.468119  , 16.58601436,\n",
       "        14.5246643 , 16.58601436, 26.15194721, 17.09169505, 27.9560795 ,\n",
       "        11.84551333, 21.4987284 , 16.07664335, 16.58601436, 19.08040717,\n",
       "         3.9756268 , 10.7348613 , 19.56971919, 27.05768667, 16.07664335,\n",
       "        12.39181078, 17.59383809, 16.58601436, 15.04615552, 15.04615552,\n",
       "        17.09169505,  7.221786  , 16.58601436, 13.99873002, 13.99873002,\n",
       "        16.83930618, 26.15194721, 20.05611014, 16.58601436, 16.58601436,\n",
       "        16.58601436, 20.53968021, 12.93257404, 14.5246643 , 18.09258499,\n",
       "        35.75910562, 10.16966246, 17.59383809, 11.84551333, 18.09258499,\n",
       "         2.53193075,  3.9756268 , 19.08040717, 13.99873002, 26.15194721,\n",
       "        -0.34289092, 16.58601436, 11.29332892, 19.56971919, 19.08040717,\n",
       "        16.58601436, 22.9183236 , 12.39181078, 20.53968021, 10.16966246,\n",
       "        27.50777955, 16.58601436, 17.84362762, 16.58601436, 18.5880672 ,\n",
       "        14.5246643 , 26.15194721, 30.17207717, 16.58601436, 28.84746463,\n",
       "        11.29332892, 16.58601436,  3.26857952, 16.58601436, 23.85293864,\n",
       "         8.42818085, 10.7348613 , 17.09169505, 16.58601436, 15.04615552,\n",
       "        15.04615552, 11.29332892,  5.32265694,  0.        , 25.23849092,\n",
       "        16.58601436, 10.16966246, 16.58601436, 16.58601436, 15.04615552,\n",
       "        21.97437834, 26.60575762, 18.09258499, 17.59383809, 17.59383809,\n",
       "        19.56971919, 18.09258499,  7.221786  , -0.62638581, 16.07664335,\n",
       "        18.09258499, 21.97437834, 11.29332892, 21.97437834, 19.08040717,\n",
       "        15.56341683, 21.97437834, 20.05611014,  3.9756268 , 17.84362762,\n",
       "        16.58601436, 13.99873002, 18.09258499, 23.85293864,  6.6020876 ,\n",
       "        27.9560795 , 16.07664335, 21.4987284 , 16.07664335,  0.92513402,\n",
       "        16.58601436, 16.58601436,  0.        , 16.58601436, 32.34880427,\n",
       "         9.59722218, -0.17316296, 16.58601436, 13.99873002, 11.29332892,\n",
       "        21.97437834, 12.93257404, 16.58601436, 18.5880672 , 16.58601436,\n",
       "        12.39181078, 10.16966246, 17.59383809, 19.81327339, 10.7348613 ,\n",
       "        23.38676361, 16.58601436, 20.05611014, 16.58601436, 16.58601436,\n",
       "         2.53193075, 37.43412368,  5.96962245, 10.16966246, 24.31691197,\n",
       "        11.29332892, 24.77874367, 27.50777955, 14.5246643 , 16.58601436,\n",
       "        22.9183236 , 12.93257404, 26.15194721, 16.58601436, 14.5246643 ,\n",
       "        23.38676361, 16.07664335, 18.09258499, 16.58601436,  2.53193075,\n",
       "        15.56341683, 25.69620814, 19.08040717, 25.69620814, 16.58601436,\n",
       "         9.59722218, 12.39181078, 11.84551333, 16.58601436, 29.73215339,\n",
       "        15.04615552, 19.08040717, 13.468119  , 16.58601436, 15.04615552,\n",
       "        21.97437834, 16.07664335, 11.84551333, 16.58601436, 15.56341683,\n",
       "        18.5880672 ]),\n",
       " 0.7964531473656952)"
      ]
     },
     "execution_count": 79,
     "metadata": {},
     "output_type": "execute_result"
    }
   ],
   "source": [
    "stat.boxcox(df['Age']) #Array has len=2"
   ]
  },
  {
   "cell_type": "raw",
   "metadata": {},
   "source": [
    "Here's a breakdown of the code df['Age_Boxcox'], parameters = stat.boxcox(df['Age']):\n",
    "\n",
    "Assumptions:\n",
    "\n",
    "You have a pandas DataFrame called df.\n",
    "It has a column named 'Age' containing numerical data.\n",
    "You've imported necessary libraries (pandas and scipy.stats).\n",
    "Explanation:\n",
    "\n",
    "The code does the following:\n",
    "\n",
    "Box-Cox Transformation:\n",
    "\n",
    "The stats.boxcox(df['Age']) part calculates the Box-Cox transformation on the 'Age' column of your DataFrame.\n",
    "It finds an optimal lambda value (explained earlier) to make the data as close to a normal distribution as possible.\n",
    "Storing Results:\n",
    "\n",
    "df['Age_Boxcox']: Creates a new column named 'Age_Boxcox' in your DataFrame and stores the transformed values in this column.\n",
    "parameters: A separate variable named parameters is created, and it stores the optimal lambda value found during the transformation.\n",
    "Purpose:\n",
    "\n",
    "The primary goal of this code is to:\n",
    "\n",
    "Normalize the Age Data: If the original distribution of the Age column is skewed, the Box-Cox transformation can make it more symmetrical and closer to a normal distribution.\n",
    "Improve Statistical Modeling: Many statistical models and analyses assume normally distributed data. By using the Box-Cox transformation, you might be able to improve the results of subsequent analyses you perform on this DataFrame.\n",
    "Example:\n",
    "\n",
    "If your original Age column had lots of people in their 20s and 30s, but far fewer older people, a Box-Cox transformation could 'stretch' the older age range, making the distribution more balanced."
   ]
  },
  {
   "cell_type": "raw",
   "metadata": {},
   "source": [
    "0.7964531473656952 I got this parameter. Will it take maximum likelihood estimation from the calcualted values right?\n",
    "Yes, it's highly likely that the process of finding the lambda value of 0.7964531473656952 involved using maximum likelihood estimation (MLE). Here's why:\n",
    "\n",
    "MLE and Box-Cox: MLE is a very common method for determining the optimal lambda value within the Box-Cox transformation. It's a standard approach for finding parameters that make the observed data most likely.\n",
    "How MLE Works (Simplified):\n",
    "MLE assumes an underlying probability distribution (often a normal distribution in the case of the Box-Cox transformation).\n",
    "It calculates the likelihood of observing your specific dataset for different possible values of lambda.\n",
    "The lambda value that maximizes this likelihood is chosen as the optimal one.\n",
    "Assumptions:\n",
    "\n",
    "I'm assuming that you obtained the parameter 0.7964531473656952 by applying a Box-Cox transformation function (like stat.boxcox) to your data.\n",
    "Most implementations of these functions use MLE behind the scenes to find the ideal lambda.\n",
    "Caveat:  While MLE is standard, it's theoretically possible that a different optimization technique was used to find your parameter. If you need certainty, you might have to check the documentation of the specific library/function you used."
   ]
  },
  {
   "cell_type": "raw",
   "metadata": {},
   "source": [
    "The Detective Analogy\n",
    "\n",
    "Crime Scene: Imagine you're a detective investigating a crime. You have some evidence (your data) from the crime scene.\n",
    "Suspects: You have a list of possible suspects, each with different characteristics (like height, hair color, etc.). In MLE, these suspects are like different possible values of the parameter you are trying to estimate.\n",
    "Matching Evidence: Your goal is to find the suspect that best \"fits\" the evidence. Similarly, in MLE, you want to find the parameter value that makes your observed data the most likely to have happened.\n",
    "The \"Likelihood\" Test: To judge how well each suspect \"fits\" the evidence, you need a scoring system. MLE uses a concept called \"likelihood.\" Higher likelihood means the suspect is a better match. In MLE with statistical distributions, likelihood means how probable your data was to occur given a specific parameter of that distribution.\n",
    "Picking the Best Suspect: The detective picks the suspect with the highest likelihood score as their prime suspect. In MLE, the parameter value with the maximum likelihood is your best estimate."
   ]
  },
  {
   "cell_type": "code",
   "execution_count": 82,
   "metadata": {},
   "outputs": [
    {
     "data": {
      "text/plain": [
       "2"
      ]
     },
     "execution_count": 82,
     "metadata": {},
     "output_type": "execute_result"
    }
   ],
   "source": [
    "len(stat.boxcox(df['Age']))"
   ]
  },
  {
   "cell_type": "code",
   "execution_count": 80,
   "metadata": {},
   "outputs": [],
   "source": [
    "df['Age_Boxcox'],parameters=stat.boxcox(df['Age'])"
   ]
  },
  {
   "cell_type": "code",
   "execution_count": 81,
   "metadata": {},
   "outputs": [
    {
     "name": "stdout",
     "output_type": "stream",
     "text": [
      "0.7964531473656952\n"
     ]
    }
   ],
   "source": [
    "print(parameters)"
   ]
  },
  {
   "cell_type": "code",
   "execution_count": 83,
   "metadata": {},
   "outputs": [
    {
     "data": {
      "text/plain": [
       "0      13.468119\n",
       "1      21.498728\n",
       "2      15.563417\n",
       "3      20.056110\n",
       "4      20.056110\n",
       "         ...    \n",
       "886    16.076643\n",
       "887    11.845513\n",
       "888    16.586014\n",
       "889    15.563417\n",
       "890    18.588067\n",
       "Name: Age_Boxcox, Length: 891, dtype: float64"
      ]
     },
     "execution_count": 83,
     "metadata": {},
     "output_type": "execute_result"
    }
   ],
   "source": [
    "df['Age_Boxcox']"
   ]
  },
  {
   "cell_type": "code",
   "execution_count": 84,
   "metadata": {},
   "outputs": [
    {
     "data": {
      "image/png": "[encoded data removed]",
      "text/plain": [
       "<Figure size 1000x600 with 2 Axes>"
      ]
     },
     "metadata": {},
     "output_type": "display_data"
    }
   ],
   "source": [
    "plot_data(df,'Age_Boxcox') #It is transformed very good."
   ]
  },
  {
   "cell_type": "raw",
   "metadata": {},
   "source": [
    "*Logarthemic will work well when ur data is rightly skewed or left skewed. So in that scenario it will convert that skewed data into Guassian Distribution. "
   ]
  },
  {
   "cell_type": "raw",
   "metadata": {},
   "source": [
    "The log10() function computes the value of the logarithm of argument x to base 10. The log1p() function computes the value of log(1+x) accurately even for tiny argument x. To check for error situations, set errno to 0 before calling log().\n",
    "\n",
    "log(1+x) coz when we get x=0 for avoiding the error we add plus 1 to it(x+1)"
   ]
  },
  {
   "cell_type": "code",
   "execution_count": 51,
   "metadata": {},
   "outputs": [
    {
     "data": {
      "image/png": "[encoded data removed]",
      "text/plain": [
       "<Figure size 720x432 with 2 Axes>"
      ]
     },
     "metadata": {
      "needs_background": "light"
     },
     "output_type": "display_data"
    }
   ],
   "source": [
    "plot_data(df,'Fare') #Hence it is right skewed"
   ]
  },
  {
   "cell_type": "code",
   "execution_count": 50,
   "metadata": {},
   "outputs": [
    {
     "data": {
      "image/png": "[encoded data removed]",
      "text/plain": [
       "<Figure size 720x432 with 2 Axes>"
      ]
     },
     "metadata": {
      "needs_background": "light"
     },
     "output_type": "display_data"
    }
   ],
   "source": [
    "#### Fare\n",
    "df['Fare_log']=np.log1p(df['Fare']) #After applying this Log Transformation for right skewed it is falling into the same straight line in Q-Q plot \n",
    "plot_data(df,'Fare_log')"
   ]
  },
  {
   "cell_type": "raw",
   "metadata": {},
   "source": [
    "Now let's apply Boxcox transformation for this Right skewed data('Fare'). Checking whether it is distributed normally or not."
   ]
  },
  {
   "cell_type": "code",
   "execution_count": 86,
   "metadata": {},
   "outputs": [
    {
     "ename": "ValueError",
     "evalue": "Data must be positive.",
     "output_type": "error",
     "traceback": [
      "\u001b[1;31m---------------------------------------------------------------------------\u001b[0m",
      "\u001b[1;31mValueError\u001b[0m                                Traceback (most recent call last)",
      "Cell \u001b[1;32mIn[86], line 1\u001b[0m\n\u001b[1;32m----> 1\u001b[0m df[\u001b[38;5;124m'\u001b[39m\u001b[38;5;124mFare_Boxcox\u001b[39m\u001b[38;5;124m'\u001b[39m],parameters\u001b[38;5;241m=\u001b[39m\u001b[43mstat\u001b[49m\u001b[38;5;241;43m.\u001b[39;49m\u001b[43mboxcox\u001b[49m\u001b[43m(\u001b[49m\u001b[43mdf\u001b[49m\u001b[43m[\u001b[49m\u001b[38;5;124;43m'\u001b[39;49m\u001b[38;5;124;43mFare\u001b[39;49m\u001b[38;5;124;43m'\u001b[39;49m\u001b[43m]\u001b[49m\u001b[43m)\u001b[49m \u001b[38;5;66;03m#Data must be positive values\u001b[39;00m\n\u001b[0;32m      2\u001b[0m plot_data(df,\u001b[38;5;124m'\u001b[39m\u001b[38;5;124mFare_Boxcox\u001b[39m\u001b[38;5;124m'\u001b[39m)\n",
      "File \u001b[1;32mc:\\program files\\python38\\lib\\site-packages\\scipy\\stats\\_morestats.py:1102\u001b[0m, in \u001b[0;36mboxcox\u001b[1;34m(x, lmbda, alpha, optimizer)\u001b[0m\n\u001b[0;32m   1099\u001b[0m     \u001b[38;5;28;01mraise\u001b[39;00m \u001b[38;5;167;01mValueError\u001b[39;00m(\u001b[38;5;124m\"\u001b[39m\u001b[38;5;124mData must not be constant.\u001b[39m\u001b[38;5;124m\"\u001b[39m)\n\u001b[0;32m   1101\u001b[0m \u001b[38;5;28;01mif\u001b[39;00m np\u001b[38;5;241m.\u001b[39many(x \u001b[38;5;241m<\u001b[39m\u001b[38;5;241m=\u001b[39m \u001b[38;5;241m0\u001b[39m):\n\u001b[1;32m-> 1102\u001b[0m     \u001b[38;5;28;01mraise\u001b[39;00m \u001b[38;5;167;01mValueError\u001b[39;00m(\u001b[38;5;124m\"\u001b[39m\u001b[38;5;124mData must be positive.\u001b[39m\u001b[38;5;124m\"\u001b[39m)\n\u001b[0;32m   1104\u001b[0m \u001b[38;5;66;03m# If lmbda=None, find the lmbda that maximizes the log-likelihood function.\u001b[39;00m\n\u001b[0;32m   1105\u001b[0m lmax \u001b[38;5;241m=\u001b[39m boxcox_normmax(x, method\u001b[38;5;241m=\u001b[39m\u001b[38;5;124m'\u001b[39m\u001b[38;5;124mmle\u001b[39m\u001b[38;5;124m'\u001b[39m, optimizer\u001b[38;5;241m=\u001b[39moptimizer)\n",
      "\u001b[1;31mValueError\u001b[0m: Data must be positive."
     ]
    }
   ],
   "source": [
    "df['Fare_Boxcox'],parameters=stat.boxcox(df['Fare']) #Data must be positive values\n",
    "plot_data(df,'Fare_Boxcox')"
   ]
  },
  {
   "cell_type": "code",
   "execution_count": 90,
   "metadata": {},
   "outputs": [
    {
     "data": {
      "text/plain": [
       "0       7.2500\n",
       "1      71.2833\n",
       "2       7.9250\n",
       "3      53.1000\n",
       "4       8.0500\n",
       "5       8.4583\n",
       "6      51.8625\n",
       "7      21.0750\n",
       "8      11.1333\n",
       "9      30.0708\n",
       "10     16.7000\n",
       "11     26.5500\n",
       "12      8.0500\n",
       "13     31.2750\n",
       "14      7.8542\n",
       "15     16.0000\n",
       "16     29.1250\n",
       "17     13.0000\n",
       "18     18.0000\n",
       "19      7.2250\n",
       "20     26.0000\n",
       "21     13.0000\n",
       "22      8.0292\n",
       "23     35.5000\n",
       "24     21.0750\n",
       "25     31.3875\n",
       "26      7.2250\n",
       "27    263.0000\n",
       "28      7.8792\n",
       "29      7.8958\n",
       "30     27.7208\n",
       "31    146.5208\n",
       "32      7.7500\n",
       "33     10.5000\n",
       "34     82.1708\n",
       "35     52.0000\n",
       "36      7.2292\n",
       "37      8.0500\n",
       "38     18.0000\n",
       "39     11.2417\n",
       "40      9.4750\n",
       "41     21.0000\n",
       "42      7.8958\n",
       "43     41.5792\n",
       "44      7.8792\n",
       "45      8.0500\n",
       "46     15.5000\n",
       "47      7.7500\n",
       "48     21.6792\n",
       "49     17.8000\n",
       "Name: Fare, dtype: float64"
      ]
     },
     "execution_count": 90,
     "metadata": {},
     "output_type": "execute_result"
    }
   ],
   "source": [
    "df['Fare'].head(50)"
   ]
  },
  {
   "cell_type": "code",
   "execution_count": 85,
   "metadata": {},
   "outputs": [
    {
     "data": {
      "image/png": "[encoded data removed]",
      "text/plain": [
       "<Figure size 1000x600 with 2 Axes>"
      ]
     },
     "metadata": {},
     "output_type": "display_data"
    }
   ],
   "source": [
    "df['Fare_Boxcox'],parameters=stat.boxcox(df['Fare']+1) #Data must be positive values that's y we added 1 to it.\n",
    "# Because probably we r getting -ve values after dng the Boxcox transformation that's we are adding 1 to it.\n",
    "#Whenever u get that kind of error jst add plus 1 to it to do a Boxcox transformation.  \n",
    "plot_data(df,'Fare_Boxcox')"
   ]
  },
  {
   "cell_type": "raw",
   "metadata": {},
   "source": [
    "*We can use Boxcox,exponential or we can go for without any transformation(normal technique)"
   ]
  },
  {
   "cell_type": "raw",
   "metadata": {},
   "source": [
    "*For right skewed the best technique will be log transformation. u can use log1p() or log()"
   ]
  },
  {
   "cell_type": "code",
   "execution_count": 91,
   "metadata": {},
   "outputs": [
    {
     "data": {
      "image/png": "[encoded data removed]",
      "text/plain": [
       "<Figure size 1000x600 with 2 Axes>"
      ]
     },
     "metadata": {},
     "output_type": "display_data"
    }
   ],
   "source": [
    "df['Fare_log']=np.log(df['Fare']+1) #After applying this Log Transformation for right skewed it is falling into the same straight line in Q-Q plot \n",
    "plot_data(df,'Fare_log')"
   ]
  },
  {
   "cell_type": "code",
   "execution_count": null,
   "metadata": {},
   "outputs": [],
   "source": []
  }
 ],
 "metadata": {
  "kernelspec": {
   "display_name": "Python 3 (ipykernel)",
   "language": "python",
   "name": "python3"
  },
  "language_info": {
   "codemirror_mode": {
    "name": "ipython",
    "version": 3
   },
   "file_extension": ".py",
   "mimetype": "text/x-python",
   "name": "python",
   "nbconvert_exporter": "python",
   "pygments_lexer": "ipython3",
   "version": "3.8.2"
  }
 },
 "nbformat": 4,
 "nbformat_minor": 4
}
